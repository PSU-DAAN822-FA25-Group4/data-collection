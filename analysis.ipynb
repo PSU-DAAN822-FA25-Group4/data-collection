{
 "cells": [
  {
   "cell_type": "markdown",
   "id": "ca72b53f-8006-4ba8-92d1-5dd9b8368591",
   "metadata": {},
   "source": [
    "# Data collection and analysis\n",
    "**Group 4** \\\n",
    "Adam Zakaria Ababneh \\\n",
    "Kate Paparsenou \\\n",
    "Chris Umbel"
   ]
  },
  {
   "cell_type": "code",
   "execution_count": 327,
   "id": "c072e895-435d-499f-99d8-344b06f9f76d",
   "metadata": {},
   "outputs": [],
   "source": [
    "import pandas as pd\n",
    "import matplotlib.pyplot as plt\n",
    "import matplotlib.ticker as mtick"
   ]
  },
  {
   "cell_type": "markdown",
   "id": "f903596e-fba5-4ce2-960d-0e9ee7972f04",
   "metadata": {},
   "source": [
    "## Data Load"
   ]
  },
  {
   "cell_type": "code",
   "execution_count": 328,
   "id": "1023e93e-9c11-43bd-bfd4-b30634c8d53b",
   "metadata": {},
   "outputs": [
    {
     "data": {
      "text/html": [
       "<div>\n",
       "<style scoped>\n",
       "    .dataframe tbody tr th:only-of-type {\n",
       "        vertical-align: middle;\n",
       "    }\n",
       "\n",
       "    .dataframe tbody tr th {\n",
       "        vertical-align: top;\n",
       "    }\n",
       "\n",
       "    .dataframe thead th {\n",
       "        text-align: right;\n",
       "    }\n",
       "</style>\n",
       "<table border=\"1\" class=\"dataframe\">\n",
       "  <thead>\n",
       "    <tr style=\"text-align: right;\">\n",
       "      <th></th>\n",
       "      <th>CustomerID</th>\n",
       "      <th>RegistrationDate</th>\n",
       "      <th>Age</th>\n",
       "      <th>Gender</th>\n",
       "      <th>IncomeLevel</th>\n",
       "      <th>Country</th>\n",
       "      <th>City</th>\n",
       "      <th>TotalPurchases</th>\n",
       "      <th>AverageOrderValue</th>\n",
       "      <th>CustomerLifetimeValue</th>\n",
       "      <th>...</th>\n",
       "      <th>SocialMediaEngagementRate</th>\n",
       "      <th>MobileAppUsage</th>\n",
       "      <th>CustomerServiceInteractions</th>\n",
       "      <th>AverageSatisfactionScore</th>\n",
       "      <th>EmailConversionRate</th>\n",
       "      <th>SocialMediaConversionRate</th>\n",
       "      <th>SearchEngineConversionRate</th>\n",
       "      <th>RepeatCustomer</th>\n",
       "      <th>PremiumMember</th>\n",
       "      <th>HasReturnedItems</th>\n",
       "    </tr>\n",
       "  </thead>\n",
       "  <tbody>\n",
       "    <tr>\n",
       "      <th>0</th>\n",
       "      <td>NaN</td>\n",
       "      <td>2020-05-10</td>\n",
       "      <td>25.0</td>\n",
       "      <td>NaN</td>\n",
       "      <td>NaN</td>\n",
       "      <td>Other</td>\n",
       "      <td>Tokyo</td>\n",
       "      <td>4.0</td>\n",
       "      <td>15.886509</td>\n",
       "      <td>NaN</td>\n",
       "      <td>...</td>\n",
       "      <td>0.379694</td>\n",
       "      <td>High</td>\n",
       "      <td>0.0</td>\n",
       "      <td>6.240881</td>\n",
       "      <td>0.112955</td>\n",
       "      <td>0.239948</td>\n",
       "      <td>0.156776</td>\n",
       "      <td>Yes</td>\n",
       "      <td>Yes</td>\n",
       "      <td>No</td>\n",
       "    </tr>\n",
       "    <tr>\n",
       "      <th>1</th>\n",
       "      <td>CUST00002</td>\n",
       "      <td>2021-07-18</td>\n",
       "      <td>NaN</td>\n",
       "      <td>Prefer not to say</td>\n",
       "      <td>High</td>\n",
       "      <td>Germany</td>\n",
       "      <td>London</td>\n",
       "      <td>6.0</td>\n",
       "      <td>27.638853</td>\n",
       "      <td>181.725056</td>\n",
       "      <td>...</td>\n",
       "      <td>0.140988</td>\n",
       "      <td>Low</td>\n",
       "      <td>0.0</td>\n",
       "      <td>7.721917</td>\n",
       "      <td>0.300979</td>\n",
       "      <td>0.230821</td>\n",
       "      <td>0.290735</td>\n",
       "      <td>Yes</td>\n",
       "      <td>No</td>\n",
       "      <td>No</td>\n",
       "    </tr>\n",
       "    <tr>\n",
       "      <th>2</th>\n",
       "      <td>CUST00003</td>\n",
       "      <td>2021-02-04</td>\n",
       "      <td>43.0</td>\n",
       "      <td>NaN</td>\n",
       "      <td>High</td>\n",
       "      <td>France</td>\n",
       "      <td>NaN</td>\n",
       "      <td>10.0</td>\n",
       "      <td>161.739425</td>\n",
       "      <td>1810.555150</td>\n",
       "      <td>...</td>\n",
       "      <td>0.323660</td>\n",
       "      <td>Low</td>\n",
       "      <td>0.0</td>\n",
       "      <td>7.899042</td>\n",
       "      <td>NaN</td>\n",
       "      <td>0.132239</td>\n",
       "      <td>0.050505</td>\n",
       "      <td>Yes</td>\n",
       "      <td>No</td>\n",
       "      <td>Yes</td>\n",
       "    </tr>\n",
       "    <tr>\n",
       "      <th>3</th>\n",
       "      <td>CUST00004</td>\n",
       "      <td>2020-12-31</td>\n",
       "      <td>49.0</td>\n",
       "      <td>Female</td>\n",
       "      <td>High</td>\n",
       "      <td>Australia</td>\n",
       "      <td>Los Angeles</td>\n",
       "      <td>5.0</td>\n",
       "      <td>14.194263</td>\n",
       "      <td>86.219740</td>\n",
       "      <td>...</td>\n",
       "      <td>0.268428</td>\n",
       "      <td>Never</td>\n",
       "      <td>1.0</td>\n",
       "      <td>7.829459</td>\n",
       "      <td>0.074097</td>\n",
       "      <td>0.206644</td>\n",
       "      <td>0.281067</td>\n",
       "      <td>Yes</td>\n",
       "      <td>Yes</td>\n",
       "      <td>No</td>\n",
       "    </tr>\n",
       "    <tr>\n",
       "      <th>4</th>\n",
       "      <td>CUST00005</td>\n",
       "      <td>2022-06-27</td>\n",
       "      <td>29.0</td>\n",
       "      <td>Female</td>\n",
       "      <td>Very High</td>\n",
       "      <td>Australia</td>\n",
       "      <td>Tokyo</td>\n",
       "      <td>7.0</td>\n",
       "      <td>31147.427206</td>\n",
       "      <td>2112.575945</td>\n",
       "      <td>...</td>\n",
       "      <td>0.160427</td>\n",
       "      <td>High</td>\n",
       "      <td>NaN</td>\n",
       "      <td>7.777353</td>\n",
       "      <td>0.163438</td>\n",
       "      <td>0.232410</td>\n",
       "      <td>0.326645</td>\n",
       "      <td>Yes</td>\n",
       "      <td>No</td>\n",
       "      <td>No</td>\n",
       "    </tr>\n",
       "    <tr>\n",
       "      <th>...</th>\n",
       "      <td>...</td>\n",
       "      <td>...</td>\n",
       "      <td>...</td>\n",
       "      <td>...</td>\n",
       "      <td>...</td>\n",
       "      <td>...</td>\n",
       "      <td>...</td>\n",
       "      <td>...</td>\n",
       "      <td>...</td>\n",
       "      <td>...</td>\n",
       "      <td>...</td>\n",
       "      <td>...</td>\n",
       "      <td>...</td>\n",
       "      <td>...</td>\n",
       "      <td>...</td>\n",
       "      <td>...</td>\n",
       "      <td>...</td>\n",
       "      <td>...</td>\n",
       "      <td>...</td>\n",
       "      <td>...</td>\n",
       "      <td>...</td>\n",
       "    </tr>\n",
       "    <tr>\n",
       "      <th>9995</th>\n",
       "      <td>CUST09996</td>\n",
       "      <td>2018-09-29</td>\n",
       "      <td>39.0</td>\n",
       "      <td>Female</td>\n",
       "      <td>High</td>\n",
       "      <td>Japan</td>\n",
       "      <td>New York</td>\n",
       "      <td>4.0</td>\n",
       "      <td>60.986389</td>\n",
       "      <td>212.992614</td>\n",
       "      <td>...</td>\n",
       "      <td>0.128575</td>\n",
       "      <td>High</td>\n",
       "      <td>1.0</td>\n",
       "      <td>6.094181</td>\n",
       "      <td>0.240422</td>\n",
       "      <td>0.293145</td>\n",
       "      <td>NaN</td>\n",
       "      <td>Yes</td>\n",
       "      <td>Yes</td>\n",
       "      <td>Yes</td>\n",
       "    </tr>\n",
       "    <tr>\n",
       "      <th>9996</th>\n",
       "      <td>CUST09997</td>\n",
       "      <td>2020-10-25</td>\n",
       "      <td>58.0</td>\n",
       "      <td>Prefer not to say</td>\n",
       "      <td>Low</td>\n",
       "      <td>France</td>\n",
       "      <td>Sydney</td>\n",
       "      <td>6.0</td>\n",
       "      <td>75.208556</td>\n",
       "      <td>549.352094</td>\n",
       "      <td>...</td>\n",
       "      <td>0.298521</td>\n",
       "      <td>Never</td>\n",
       "      <td>NaN</td>\n",
       "      <td>8.610345</td>\n",
       "      <td>0.056814</td>\n",
       "      <td>0.128591</td>\n",
       "      <td>0.070305</td>\n",
       "      <td>Yes</td>\n",
       "      <td>No</td>\n",
       "      <td>Yes</td>\n",
       "    </tr>\n",
       "    <tr>\n",
       "      <th>9997</th>\n",
       "      <td>CUST09998</td>\n",
       "      <td>2023-04-07</td>\n",
       "      <td>14.0</td>\n",
       "      <td>Other</td>\n",
       "      <td>Very High</td>\n",
       "      <td>USA</td>\n",
       "      <td>New York</td>\n",
       "      <td>1.0</td>\n",
       "      <td>37.196899</td>\n",
       "      <td>117.203509</td>\n",
       "      <td>...</td>\n",
       "      <td>0.126018</td>\n",
       "      <td>NaN</td>\n",
       "      <td>0.0</td>\n",
       "      <td>9.864245</td>\n",
       "      <td>0.355694</td>\n",
       "      <td>0.101445</td>\n",
       "      <td>0.161469</td>\n",
       "      <td>No</td>\n",
       "      <td>No</td>\n",
       "      <td>Yes</td>\n",
       "    </tr>\n",
       "    <tr>\n",
       "      <th>9998</th>\n",
       "      <td>CUST09999</td>\n",
       "      <td>2021-05-27</td>\n",
       "      <td>29.0</td>\n",
       "      <td>Other</td>\n",
       "      <td>High</td>\n",
       "      <td>Canada</td>\n",
       "      <td>Berlin</td>\n",
       "      <td>3.0</td>\n",
       "      <td>13.191952</td>\n",
       "      <td>-6.655247</td>\n",
       "      <td>...</td>\n",
       "      <td>0.600112</td>\n",
       "      <td>NaN</td>\n",
       "      <td>0.0</td>\n",
       "      <td>6.163032</td>\n",
       "      <td>0.222856</td>\n",
       "      <td>0.160716</td>\n",
       "      <td>0.431023</td>\n",
       "      <td>Yes</td>\n",
       "      <td>No</td>\n",
       "      <td>No</td>\n",
       "    </tr>\n",
       "    <tr>\n",
       "      <th>9999</th>\n",
       "      <td>CUST10000</td>\n",
       "      <td>2021-02-15</td>\n",
       "      <td>32.0</td>\n",
       "      <td>NaN</td>\n",
       "      <td>Low</td>\n",
       "      <td>France</td>\n",
       "      <td>Paris</td>\n",
       "      <td>4.0</td>\n",
       "      <td>122.958397</td>\n",
       "      <td>431.479732</td>\n",
       "      <td>...</td>\n",
       "      <td>0.052099</td>\n",
       "      <td>High</td>\n",
       "      <td>2.0</td>\n",
       "      <td>NaN</td>\n",
       "      <td>0.201530</td>\n",
       "      <td>0.307507</td>\n",
       "      <td>0.041132</td>\n",
       "      <td>Yes</td>\n",
       "      <td>Yes</td>\n",
       "      <td>No</td>\n",
       "    </tr>\n",
       "  </tbody>\n",
       "</table>\n",
       "<p>10000 rows × 23 columns</p>\n",
       "</div>"
      ],
      "text/plain": [
       "     CustomerID RegistrationDate   Age             Gender IncomeLevel  \\\n",
       "0           NaN       2020-05-10  25.0                NaN         NaN   \n",
       "1     CUST00002       2021-07-18   NaN  Prefer not to say        High   \n",
       "2     CUST00003       2021-02-04  43.0                NaN        High   \n",
       "3     CUST00004       2020-12-31  49.0             Female        High   \n",
       "4     CUST00005       2022-06-27  29.0             Female   Very High   \n",
       "...         ...              ...   ...                ...         ...   \n",
       "9995  CUST09996       2018-09-29  39.0             Female        High   \n",
       "9996  CUST09997       2020-10-25  58.0  Prefer not to say         Low   \n",
       "9997  CUST09998       2023-04-07  14.0              Other   Very High   \n",
       "9998  CUST09999       2021-05-27  29.0              Other        High   \n",
       "9999  CUST10000       2021-02-15  32.0                NaN         Low   \n",
       "\n",
       "        Country         City  TotalPurchases  AverageOrderValue  \\\n",
       "0         Other        Tokyo             4.0          15.886509   \n",
       "1       Germany       London             6.0          27.638853   \n",
       "2        France          NaN            10.0         161.739425   \n",
       "3     Australia  Los Angeles             5.0          14.194263   \n",
       "4     Australia        Tokyo             7.0       31147.427206   \n",
       "...         ...          ...             ...                ...   \n",
       "9995      Japan     New York             4.0          60.986389   \n",
       "9996     France       Sydney             6.0          75.208556   \n",
       "9997        USA     New York             1.0          37.196899   \n",
       "9998     Canada       Berlin             3.0          13.191952   \n",
       "9999     France        Paris             4.0         122.958397   \n",
       "\n",
       "      CustomerLifetimeValue  ... SocialMediaEngagementRate MobileAppUsage  \\\n",
       "0                       NaN  ...                  0.379694           High   \n",
       "1                181.725056  ...                  0.140988            Low   \n",
       "2               1810.555150  ...                  0.323660            Low   \n",
       "3                 86.219740  ...                  0.268428          Never   \n",
       "4               2112.575945  ...                  0.160427           High   \n",
       "...                     ...  ...                       ...            ...   \n",
       "9995             212.992614  ...                  0.128575           High   \n",
       "9996             549.352094  ...                  0.298521          Never   \n",
       "9997             117.203509  ...                  0.126018            NaN   \n",
       "9998              -6.655247  ...                  0.600112            NaN   \n",
       "9999             431.479732  ...                  0.052099           High   \n",
       "\n",
       "      CustomerServiceInteractions  AverageSatisfactionScore  \\\n",
       "0                             0.0                  6.240881   \n",
       "1                             0.0                  7.721917   \n",
       "2                             0.0                  7.899042   \n",
       "3                             1.0                  7.829459   \n",
       "4                             NaN                  7.777353   \n",
       "...                           ...                       ...   \n",
       "9995                          1.0                  6.094181   \n",
       "9996                          NaN                  8.610345   \n",
       "9997                          0.0                  9.864245   \n",
       "9998                          0.0                  6.163032   \n",
       "9999                          2.0                       NaN   \n",
       "\n",
       "     EmailConversionRate  SocialMediaConversionRate  \\\n",
       "0               0.112955                   0.239948   \n",
       "1               0.300979                   0.230821   \n",
       "2                    NaN                   0.132239   \n",
       "3               0.074097                   0.206644   \n",
       "4               0.163438                   0.232410   \n",
       "...                  ...                        ...   \n",
       "9995            0.240422                   0.293145   \n",
       "9996            0.056814                   0.128591   \n",
       "9997            0.355694                   0.101445   \n",
       "9998            0.222856                   0.160716   \n",
       "9999            0.201530                   0.307507   \n",
       "\n",
       "      SearchEngineConversionRate  RepeatCustomer  PremiumMember  \\\n",
       "0                       0.156776             Yes            Yes   \n",
       "1                       0.290735             Yes             No   \n",
       "2                       0.050505             Yes             No   \n",
       "3                       0.281067             Yes            Yes   \n",
       "4                       0.326645             Yes             No   \n",
       "...                          ...             ...            ...   \n",
       "9995                         NaN             Yes            Yes   \n",
       "9996                    0.070305             Yes             No   \n",
       "9997                    0.161469              No             No   \n",
       "9998                    0.431023             Yes             No   \n",
       "9999                    0.041132             Yes            Yes   \n",
       "\n",
       "      HasReturnedItems  \n",
       "0                   No  \n",
       "1                   No  \n",
       "2                  Yes  \n",
       "3                   No  \n",
       "4                   No  \n",
       "...                ...  \n",
       "9995               Yes  \n",
       "9996               Yes  \n",
       "9997               Yes  \n",
       "9998                No  \n",
       "9999                No  \n",
       "\n",
       "[10000 rows x 23 columns]"
      ]
     },
     "execution_count": 328,
     "metadata": {},
     "output_type": "execute_result"
    }
   ],
   "source": [
    "df = pd.read_csv('data/ecommerce_customer_data.csv')\n",
    "df"
   ]
  },
  {
   "cell_type": "markdown",
   "id": "96ea3761-73a0-418a-b1b5-e942f7b5e31a",
   "metadata": {},
   "source": [
    "## Conversion\n",
    "A few fields look like integers, validate that's the case"
   ]
  },
  {
   "cell_type": "code",
   "execution_count": 329,
   "id": "708a0cdf-2ec1-4454-98bc-50b420fe6a04",
   "metadata": {},
   "outputs": [],
   "source": [
    "pd.set_option('display.max_rows', None)\n",
    "int_columns = ['TotalPurchases', 'CustomerServiceInteractions', 'Age']"
   ]
  },
  {
   "cell_type": "code",
   "execution_count": 330,
   "id": "ebb95ceb-5c05-4af3-be6e-760285d58d7f",
   "metadata": {},
   "outputs": [
    {
     "name": "stdout",
     "output_type": "stream",
     "text": [
      "TotalPurchases\n",
      "4.0     1288\n",
      "3.0     1264\n",
      "5.0     1191\n",
      "2.0     1097\n",
      "6.0      962\n",
      "7.0      753\n",
      "1.0      748\n",
      "8.0      546\n",
      "NaN      530\n",
      "9.0      445\n",
      "10.0     291\n",
      "0.0      289\n",
      "11.0     211\n",
      "12.0     140\n",
      "13.0      89\n",
      "14.0      49\n",
      "15.0      45\n",
      "16.0      23\n",
      "17.0      18\n",
      "18.0       8\n",
      "20.0       5\n",
      "19.0       4\n",
      "22.0       2\n",
      "23.0       1\n",
      "27.0       1\n",
      "Name: count, dtype: int64\n",
      "\n",
      "CustomerServiceInteractions\n",
      "1.0     2634\n",
      "2.0     2537\n",
      "3.0     1652\n",
      "0.0     1261\n",
      "4.0      897\n",
      "NaN      518\n",
      "5.0      350\n",
      "6.0       97\n",
      "7.0       41\n",
      "8.0        9\n",
      "9.0        3\n",
      "11.0       1\n",
      "Name: count, dtype: int64\n",
      "\n",
      "Age\n",
      " NaN     515\n",
      " 34.0    263\n",
      " 35.0    262\n",
      " 36.0    260\n",
      " 38.0    245\n",
      " 37.0    244\n",
      " 40.0    244\n",
      " 39.0    242\n",
      " 32.0    241\n",
      " 31.0    238\n",
      " 30.0    238\n",
      " 29.0    236\n",
      " 33.0    234\n",
      " 28.0    232\n",
      " 42.0    218\n",
      " 24.0    218\n",
      " 41.0    218\n",
      " 46.0    216\n",
      " 27.0    209\n",
      " 44.0    204\n",
      " 43.0    204\n",
      " 47.0    202\n",
      " 26.0    201\n",
      " 45.0    197\n",
      " 23.0    180\n",
      " 25.0    177\n",
      " 48.0    165\n",
      " 20.0    163\n",
      " 49.0    163\n",
      " 21.0    160\n",
      " 22.0    156\n",
      " 52.0    155\n",
      " 19.0    146\n",
      " 18.0    137\n",
      " 17.0    133\n",
      " 50.0    133\n",
      " 51.0    129\n",
      " 15.0    123\n",
      " 53.0    120\n",
      " 54.0    117\n",
      " 16.0    116\n",
      " 55.0    108\n",
      " 56.0    101\n",
      " 13.0     90\n",
      " 14.0     84\n",
      " 12.0     82\n",
      " 11.0     78\n",
      " 57.0     76\n",
      " 10.0     74\n",
      " 61.0     66\n",
      " 9.0      64\n",
      " 59.0     59\n",
      " 60.0     56\n",
      " 8.0      54\n",
      " 58.0     54\n",
      " 6.0      47\n",
      " 64.0     46\n",
      " 7.0      45\n",
      " 4.0      45\n",
      " 62.0     45\n",
      " 5.0      40\n",
      " 63.0     36\n",
      " 67.0     32\n",
      " 66.0     31\n",
      " 0.0      28\n",
      " 65.0     28\n",
      " 3.0      24\n",
      " 2.0      22\n",
      " 1.0      21\n",
      "-1.0      17\n",
      " 69.0     17\n",
      " 68.0     17\n",
      " 71.0     16\n",
      "-2.0      14\n",
      " 70.0     11\n",
      "-4.0      10\n",
      " 73.0      8\n",
      "-5.0       8\n",
      " 72.0      7\n",
      " 75.0      7\n",
      " 76.0      6\n",
      "-3.0       6\n",
      " 78.0      6\n",
      "-6.0       5\n",
      " 74.0      5\n",
      "-7.0       5\n",
      "-8.0       4\n",
      " 79.0      4\n",
      "-11.0      4\n",
      " 81.0      3\n",
      " 87.0      2\n",
      "-25.0      2\n",
      " 77.0      2\n",
      "-14.0      2\n",
      "-9.0       2\n",
      " 88.0      2\n",
      "-12.0      2\n",
      "-13.0      2\n",
      "-10.0      2\n",
      " 84.0      2\n",
      " 85.0      2\n",
      " 83.0      2\n",
      "-16.0      1\n",
      "-21.0      1\n",
      " 82.0      1\n",
      "-19.0      1\n",
      " 91.0      1\n",
      "-15.0      1\n",
      "Name: count, dtype: int64\n",
      "\n"
     ]
    },
    {
     "data": {
      "text/plain": [
       "[None, None, None]"
      ]
     },
     "execution_count": 330,
     "metadata": {},
     "output_type": "execute_result"
    }
   ],
   "source": [
    "list(map(lambda x: print(df[x].value_counts(dropna=False), end='\\n\\n'), int_columns))"
   ]
  },
  {
   "cell_type": "markdown",
   "id": "3d5637ca-8c7b-45cc-9ad7-104e126e760b",
   "metadata": {},
   "source": [
    "Convert the integer fields"
   ]
  },
  {
   "cell_type": "code",
   "execution_count": 331,
   "id": "591a116f-9505-4868-858f-9e4a5cec15d9",
   "metadata": {},
   "outputs": [],
   "source": [
    "df['Age'] = df['Age'].astype('Int64')\n",
    "df['TotalPurchases'] = df['TotalPurchases'].astype('Int64')\n",
    "df['CustomerServiceInteractions'] = df['CustomerServiceInteractions'].astype('Int64')"
   ]
  },
  {
   "cell_type": "markdown",
   "id": "83666982-7a07-4311-9112-11cae70af1b2",
   "metadata": {},
   "source": [
    "## Column metadata"
   ]
  },
  {
   "cell_type": "code",
   "execution_count": 332,
   "id": "32b71b95-c28c-450f-8fa1-f9aba66885ba",
   "metadata": {},
   "outputs": [
    {
     "data": {
      "text/plain": [
       "CustomerID                      object\n",
       "RegistrationDate                object\n",
       "Age                              Int64\n",
       "Gender                          object\n",
       "IncomeLevel                     object\n",
       "Country                         object\n",
       "City                            object\n",
       "TotalPurchases                   Int64\n",
       "AverageOrderValue              float64\n",
       "CustomerLifetimeValue          float64\n",
       "FavoriteCategory                object\n",
       "SecondFavoriteCategory          object\n",
       "EmailEngagementRate            float64\n",
       "SocialMediaEngagementRate      float64\n",
       "MobileAppUsage                  object\n",
       "CustomerServiceInteractions      Int64\n",
       "AverageSatisfactionScore       float64\n",
       "EmailConversionRate            float64\n",
       "SocialMediaConversionRate      float64\n",
       "SearchEngineConversionRate     float64\n",
       "RepeatCustomer                  object\n",
       "PremiumMember                   object\n",
       "HasReturnedItems                object\n",
       "dtype: object"
      ]
     },
     "execution_count": 332,
     "metadata": {},
     "output_type": "execute_result"
    }
   ],
   "source": [
    "df.dtypes"
   ]
  },
  {
   "cell_type": "code",
   "execution_count": 333,
   "id": "2cb0106d-eab1-4aa0-aa07-d391e8178334",
   "metadata": {},
   "outputs": [],
   "source": [
    "categorical_columns = df.select_dtypes(include = 'object').columns\n",
    "quantitative_columns = df.select_dtypes(include = ['float64', 'Int64']).columns"
   ]
  },
  {
   "cell_type": "markdown",
   "id": "59975519-2d76-465b-9fb9-4a565d6ca528",
   "metadata": {},
   "source": [
    "### Categorical columns"
   ]
  },
  {
   "cell_type": "code",
   "execution_count": 334,
   "id": "7793765e-53a0-4a9f-b52d-4447d0d709a7",
   "metadata": {},
   "outputs": [
    {
     "data": {
      "text/plain": [
       "['CustomerID',\n",
       " 'RegistrationDate',\n",
       " 'Gender',\n",
       " 'IncomeLevel',\n",
       " 'Country',\n",
       " 'City',\n",
       " 'FavoriteCategory',\n",
       " 'SecondFavoriteCategory',\n",
       " 'MobileAppUsage',\n",
       " 'RepeatCustomer',\n",
       " 'PremiumMember',\n",
       " 'HasReturnedItems']"
      ]
     },
     "execution_count": 334,
     "metadata": {},
     "output_type": "execute_result"
    }
   ],
   "source": [
    "list(categorical_columns)"
   ]
  },
  {
   "cell_type": "markdown",
   "id": "1e25345c-fa81-4c18-b4db-d11a747295c0",
   "metadata": {},
   "source": [
    "### Quantitative columns"
   ]
  },
  {
   "cell_type": "code",
   "execution_count": 335,
   "id": "2e25d014-8eab-47ca-b725-1740ef0d97cf",
   "metadata": {},
   "outputs": [
    {
     "data": {
      "text/plain": [
       "['Age',\n",
       " 'TotalPurchases',\n",
       " 'AverageOrderValue',\n",
       " 'CustomerLifetimeValue',\n",
       " 'EmailEngagementRate',\n",
       " 'SocialMediaEngagementRate',\n",
       " 'CustomerServiceInteractions',\n",
       " 'AverageSatisfactionScore',\n",
       " 'EmailConversionRate',\n",
       " 'SocialMediaConversionRate',\n",
       " 'SearchEngineConversionRate']"
      ]
     },
     "execution_count": 335,
     "metadata": {},
     "output_type": "execute_result"
    }
   ],
   "source": [
    "list(quantitative_columns)"
   ]
  },
  {
   "cell_type": "markdown",
   "id": "89c70c40-9d2f-4c32-9825-fe47d57bc102",
   "metadata": {},
   "source": [
    "## Distribution for categorical fields"
   ]
  },
  {
   "cell_type": "code",
   "execution_count": 336,
   "id": "cdfba381-c5c1-4c12-81ec-5a82a483b8fe",
   "metadata": {},
   "outputs": [
    {
     "name": "stdout",
     "output_type": "stream",
     "text": [
      "CustomerID\n",
      "NaN          492\n",
      "CUST06670      1\n",
      "CUST06672      1\n",
      "CUST06673      1\n",
      "CUST06674      1\n",
      "            ... \n",
      "CUST03349      1\n",
      "CUST03350      1\n",
      "CUST03351      1\n",
      "CUST03352      1\n",
      "CUST10000      1\n",
      "Name: count, Length: 9509, dtype: int64\n",
      "\n",
      "RegistrationDate\n",
      "NaN           496\n",
      "2018-01-19     14\n",
      "2019-10-24     13\n",
      "2019-01-22     13\n",
      "2020-07-09     12\n",
      "             ... \n",
      "2021-12-24      1\n",
      "2022-04-12      1\n",
      "2020-09-26      1\n",
      "2022-01-16      1\n",
      "2019-04-11      1\n",
      "Name: count, Length: 2160, dtype: int64\n",
      "\n",
      "Gender\n",
      "NaN                  2612\n",
      "Other                1901\n",
      "Female               1846\n",
      "Male                 1830\n",
      "Prefer not to say    1807\n",
      "M                       3\n",
      "F                       1\n",
      "Name: count, dtype: int64\n",
      "\n",
      "IncomeLevel\n",
      "NaN          2503\n",
      "Very High    1964\n",
      "Medium       1918\n",
      "Low          1821\n",
      "High         1792\n",
      "L               1\n",
      "H               1\n",
      "Name: count, dtype: int64\n",
      "\n",
      "Country\n",
      "France       1227\n",
      "Japan        1220\n",
      "USA          1200\n",
      "Australia    1194\n",
      "UK           1177\n",
      "Other        1171\n",
      "Canada       1169\n",
      "Germany      1149\n",
      "NaN           493\n",
      "Name: count, dtype: int64\n",
      "\n",
      "City\n",
      "London         1216\n",
      "New York       1216\n",
      "Tokyo          1215\n",
      "Berlin         1214\n",
      "Los Angeles    1176\n",
      "Other          1173\n",
      "Paris          1163\n",
      "Sydney         1144\n",
      "NaN             483\n",
      "Name: count, dtype: int64\n",
      "\n",
      "FavoriteCategory\n",
      "NaN            1589\n",
      "Beauty         1114\n",
      "Sports         1067\n",
      "Electronics    1057\n",
      "Food           1048\n",
      "Clothing       1043\n",
      "Toys           1035\n",
      "Home Goods     1028\n",
      "Books          1019\n",
      "Name: count, dtype: int64\n",
      "\n",
      "SecondFavoriteCategory\n",
      "NaN            1550\n",
      "Home Goods     1102\n",
      "Electronics    1081\n",
      "Sports         1065\n",
      "Clothing       1060\n",
      "Food           1048\n",
      "Beauty         1044\n",
      "Books          1026\n",
      "Toys           1024\n",
      "Name: count, dtype: int64\n",
      "\n",
      "MobileAppUsage\n",
      "NaN       2457\n",
      "Never     1914\n",
      "Medium    1894\n",
      "Low       1868\n",
      "High      1867\n",
      "Name: count, dtype: int64\n",
      "\n",
      "RepeatCustomer\n",
      "Yes    8479\n",
      "No     1046\n",
      "NaN     475\n",
      "Name: count, dtype: int64\n",
      "\n",
      "PremiumMember\n",
      "No     7632\n",
      "Yes    1874\n",
      "NaN     494\n",
      "Name: count, dtype: int64\n",
      "\n",
      "HasReturnedItems\n",
      "No     6637\n",
      "Yes    2834\n",
      "NaN     529\n",
      "Name: count, dtype: int64\n",
      "\n"
     ]
    },
    {
     "data": {
      "text/plain": [
       "[None, None, None, None, None, None, None, None, None, None, None, None]"
      ]
     },
     "execution_count": 336,
     "metadata": {},
     "output_type": "execute_result"
    }
   ],
   "source": [
    "pd.set_option('display.max_rows', 20)\n",
    "list(map(lambda x: print(df.reset_index()[x].value_counts(dropna = False), end='\\n\\n'), categorical_columns))"
   ]
  },
  {
   "cell_type": "markdown",
   "id": "746400ca-e055-41cb-84d1-5a832819278a",
   "metadata": {},
   "source": [
    "## Basic statistics of quantitative fields"
   ]
  },
  {
   "cell_type": "code",
   "execution_count": 337,
   "id": "18a73bb6-e325-46fe-80ff-33c80cb80ab6",
   "metadata": {},
   "outputs": [
    {
     "data": {
      "text/html": [
       "<div>\n",
       "<style scoped>\n",
       "    .dataframe tbody tr th:only-of-type {\n",
       "        vertical-align: middle;\n",
       "    }\n",
       "\n",
       "    .dataframe tbody tr th {\n",
       "        vertical-align: top;\n",
       "    }\n",
       "\n",
       "    .dataframe thead th {\n",
       "        text-align: right;\n",
       "    }\n",
       "</style>\n",
       "<table border=\"1\" class=\"dataframe\">\n",
       "  <thead>\n",
       "    <tr style=\"text-align: right;\">\n",
       "      <th></th>\n",
       "      <th>Age</th>\n",
       "      <th>TotalPurchases</th>\n",
       "      <th>AverageOrderValue</th>\n",
       "      <th>CustomerLifetimeValue</th>\n",
       "      <th>EmailEngagementRate</th>\n",
       "      <th>SocialMediaEngagementRate</th>\n",
       "      <th>CustomerServiceInteractions</th>\n",
       "      <th>AverageSatisfactionScore</th>\n",
       "      <th>EmailConversionRate</th>\n",
       "      <th>SocialMediaConversionRate</th>\n",
       "      <th>SearchEngineConversionRate</th>\n",
       "    </tr>\n",
       "  </thead>\n",
       "  <tbody>\n",
       "    <tr>\n",
       "      <th>count</th>\n",
       "      <td>9485.0</td>\n",
       "      <td>9470.0</td>\n",
       "      <td>9481.000000</td>\n",
       "      <td>9507.000000</td>\n",
       "      <td>9524.000000</td>\n",
       "      <td>9472.000000</td>\n",
       "      <td>9482.0</td>\n",
       "      <td>9504.000000</td>\n",
       "      <td>9477.000000</td>\n",
       "      <td>9506.000000</td>\n",
       "      <td>9495.000000</td>\n",
       "    </tr>\n",
       "    <tr>\n",
       "      <th>mean</th>\n",
       "      <td>34.536742</td>\n",
       "      <td>5.044773</td>\n",
       "      <td>189.224562</td>\n",
       "      <td>672.919948</td>\n",
       "      <td>0.282649</td>\n",
       "      <td>0.286632</td>\n",
       "      <td>2.001793</td>\n",
       "      <td>6.955430</td>\n",
       "      <td>0.198026</td>\n",
       "      <td>0.198721</td>\n",
       "      <td>0.199427</td>\n",
       "    </tr>\n",
       "    <tr>\n",
       "      <th>std</th>\n",
       "      <td>15.117146</td>\n",
       "      <td>3.205844</td>\n",
       "      <td>1472.277418</td>\n",
       "      <td>5729.439186</td>\n",
       "      <td>0.157996</td>\n",
       "      <td>0.159938</td>\n",
       "      <td>1.422949</td>\n",
       "      <td>1.894267</td>\n",
       "      <td>0.120243</td>\n",
       "      <td>0.119426</td>\n",
       "      <td>0.120992</td>\n",
       "    </tr>\n",
       "    <tr>\n",
       "      <th>min</th>\n",
       "      <td>-25.0</td>\n",
       "      <td>0.0</td>\n",
       "      <td>1.235282</td>\n",
       "      <td>-9331.077011</td>\n",
       "      <td>0.002205</td>\n",
       "      <td>0.002378</td>\n",
       "      <td>0.0</td>\n",
       "      <td>0.000000</td>\n",
       "      <td>0.000885</td>\n",
       "      <td>0.001554</td>\n",
       "      <td>0.002951</td>\n",
       "    </tr>\n",
       "    <tr>\n",
       "      <th>25%</th>\n",
       "      <td>24.0</td>\n",
       "      <td>3.0</td>\n",
       "      <td>27.441273</td>\n",
       "      <td>95.662915</td>\n",
       "      <td>0.160170</td>\n",
       "      <td>0.161669</td>\n",
       "      <td>1.0</td>\n",
       "      <td>5.670156</td>\n",
       "      <td>0.106547</td>\n",
       "      <td>0.106324</td>\n",
       "      <td>0.106656</td>\n",
       "    </tr>\n",
       "    <tr>\n",
       "      <th>50%</th>\n",
       "      <td>35.0</td>\n",
       "      <td>5.0</td>\n",
       "      <td>54.532801</td>\n",
       "      <td>248.018238</td>\n",
       "      <td>0.260164</td>\n",
       "      <td>0.266130</td>\n",
       "      <td>2.0</td>\n",
       "      <td>7.008513</td>\n",
       "      <td>0.176639</td>\n",
       "      <td>0.178118</td>\n",
       "      <td>0.177495</td>\n",
       "    </tr>\n",
       "    <tr>\n",
       "      <th>75%</th>\n",
       "      <td>45.0</td>\n",
       "      <td>7.0</td>\n",
       "      <td>109.260008</td>\n",
       "      <td>545.787253</td>\n",
       "      <td>0.384726</td>\n",
       "      <td>0.389884</td>\n",
       "      <td>3.0</td>\n",
       "      <td>8.365637</td>\n",
       "      <td>0.268938</td>\n",
       "      <td>0.271487</td>\n",
       "      <td>0.273069</td>\n",
       "    </tr>\n",
       "    <tr>\n",
       "      <th>max</th>\n",
       "      <td>91.0</td>\n",
       "      <td>27.0</td>\n",
       "      <td>51810.123750</td>\n",
       "      <td>420810.815641</td>\n",
       "      <td>0.890822</td>\n",
       "      <td>0.847513</td>\n",
       "      <td>11.0</td>\n",
       "      <td>10.000000</td>\n",
       "      <td>0.783003</td>\n",
       "      <td>0.824266</td>\n",
       "      <td>0.784076</td>\n",
       "    </tr>\n",
       "  </tbody>\n",
       "</table>\n",
       "</div>"
      ],
      "text/plain": [
       "             Age  TotalPurchases  AverageOrderValue  CustomerLifetimeValue  \\\n",
       "count     9485.0          9470.0        9481.000000            9507.000000   \n",
       "mean   34.536742        5.044773         189.224562             672.919948   \n",
       "std    15.117146        3.205844        1472.277418            5729.439186   \n",
       "min        -25.0             0.0           1.235282           -9331.077011   \n",
       "25%         24.0             3.0          27.441273              95.662915   \n",
       "50%         35.0             5.0          54.532801             248.018238   \n",
       "75%         45.0             7.0         109.260008             545.787253   \n",
       "max         91.0            27.0       51810.123750          420810.815641   \n",
       "\n",
       "       EmailEngagementRate  SocialMediaEngagementRate  \\\n",
       "count          9524.000000                9472.000000   \n",
       "mean              0.282649                   0.286632   \n",
       "std               0.157996                   0.159938   \n",
       "min               0.002205                   0.002378   \n",
       "25%               0.160170                   0.161669   \n",
       "50%               0.260164                   0.266130   \n",
       "75%               0.384726                   0.389884   \n",
       "max               0.890822                   0.847513   \n",
       "\n",
       "       CustomerServiceInteractions  AverageSatisfactionScore  \\\n",
       "count                       9482.0               9504.000000   \n",
       "mean                      2.001793                  6.955430   \n",
       "std                       1.422949                  1.894267   \n",
       "min                            0.0                  0.000000   \n",
       "25%                            1.0                  5.670156   \n",
       "50%                            2.0                  7.008513   \n",
       "75%                            3.0                  8.365637   \n",
       "max                           11.0                 10.000000   \n",
       "\n",
       "       EmailConversionRate  SocialMediaConversionRate  \\\n",
       "count          9477.000000                9506.000000   \n",
       "mean              0.198026                   0.198721   \n",
       "std               0.120243                   0.119426   \n",
       "min               0.000885                   0.001554   \n",
       "25%               0.106547                   0.106324   \n",
       "50%               0.176639                   0.178118   \n",
       "75%               0.268938                   0.271487   \n",
       "max               0.783003                   0.824266   \n",
       "\n",
       "       SearchEngineConversionRate  \n",
       "count                 9495.000000  \n",
       "mean                     0.199427  \n",
       "std                      0.120992  \n",
       "min                      0.002951  \n",
       "25%                      0.106656  \n",
       "50%                      0.177495  \n",
       "75%                      0.273069  \n",
       "max                      0.784076  "
      ]
     },
     "execution_count": 337,
     "metadata": {},
     "output_type": "execute_result"
    }
   ],
   "source": [
    "df.describe()"
   ]
  },
  {
   "cell_type": "markdown",
   "id": "177dd451-e33c-4e2b-98cf-5f22299692ec",
   "metadata": {},
   "source": [
    "## Number of NULL columns for quantitative fields"
   ]
  },
  {
   "cell_type": "code",
   "execution_count": 338,
   "id": "5a922b76-8e9e-4eef-8f77-6377bf477125",
   "metadata": {},
   "outputs": [
    {
     "data": {
      "text/plain": [
       "Age                            515\n",
       "TotalPurchases                 530\n",
       "AverageOrderValue              519\n",
       "CustomerLifetimeValue          493\n",
       "EmailEngagementRate            476\n",
       "SocialMediaEngagementRate      528\n",
       "CustomerServiceInteractions    518\n",
       "AverageSatisfactionScore       496\n",
       "EmailConversionRate            523\n",
       "SocialMediaConversionRate      494\n",
       "SearchEngineConversionRate     505\n",
       "dtype: int64"
      ]
     },
     "execution_count": 338,
     "metadata": {},
     "output_type": "execute_result"
    }
   ],
   "source": [
    "df[quantitative_columns].isna().sum()"
   ]
  },
  {
   "cell_type": "markdown",
   "id": "a0c5f18d-cff1-45f0-a0c8-4e92e38b977d",
   "metadata": {},
   "source": [
    "## Bar charts to understand distribution"
   ]
  },
  {
   "cell_type": "code",
   "execution_count": 339,
   "id": "cf3eb3b5-4caf-492a-831f-1b48cdfc3e88",
   "metadata": {},
   "outputs": [],
   "source": [
    "def draw_barchart(df, column_name):\n",
    "    print(column_name)\n",
    "    category_counts = df.value_counts(column_name, dropna = False)\n",
    "    plt.bar(category_counts.index.astype(str), category_counts.values)\n",
    "    plt.xticks(rotation = 90)\n",
    "    plt.grid(axis = 'y')\n",
    "    plt.show()"
   ]
  },
  {
   "cell_type": "code",
   "execution_count": 340,
   "id": "5527d3ce-1fcd-4e32-a3bc-11050eb05794",
   "metadata": {},
   "outputs": [
    {
     "name": "stdout",
     "output_type": "stream",
     "text": [
      "Gender\n"
     ]
    },
    {
     "data": {
      "image/png": "[encoded data removed]",
      "text/plain": [
       "<Figure size 640x480 with 1 Axes>"
      ]
     },
     "metadata": {},
     "output_type": "display_data"
    },
    {
     "name": "stdout",
     "output_type": "stream",
     "text": [
      "IncomeLevel\n"
     ]
    },
    {
     "data": {
      "image/png": "[encoded data removed]",
      "text/plain": [
       "<Figure size 640x480 with 1 Axes>"
      ]
     },
     "metadata": {},
     "output_type": "display_data"
    },
    {
     "name": "stdout",
     "output_type": "stream",
     "text": [
      "Country\n"
     ]
    },
    {
     "data": {
      "image/png": "[encoded data removed]",
      "text/plain": [
       "<Figure size 640x480 with 1 Axes>"
      ]
     },
     "metadata": {},
     "output_type": "display_data"
    },
    {
     "name": "stdout",
     "output_type": "stream",
     "text": [
      "City\n"
     ]
    },
    {
     "data": {
      "image/png": "[encoded data removed]",
      "text/plain": [
       "<Figure size 640x480 with 1 Axes>"
      ]
     },
     "metadata": {},
     "output_type": "display_data"
    },
    {
     "name": "stdout",
     "output_type": "stream",
     "text": [
      "FavoriteCategory\n"
     ]
    },
    {
     "data": {
      "image/png": "[encoded data removed]",
      "text/plain": [
       "<Figure size 640x480 with 1 Axes>"
      ]
     },
     "metadata": {},
     "output_type": "display_data"
    },
    {
     "name": "stdout",
     "output_type": "stream",
     "text": [
      "SecondFavoriteCategory\n"
     ]
    },
    {
     "data": {
      "image/png": "[encoded data removed]",
      "text/plain": [
       "<Figure size 640x480 with 1 Axes>"
      ]
     },
     "metadata": {},
     "output_type": "display_data"
    },
    {
     "name": "stdout",
     "output_type": "stream",
     "text": [
      "MobileAppUsage\n"
     ]
    },
    {
     "data": {
      "image/png": "[encoded data removed]",
      "text/plain": [
       "<Figure size 640x480 with 1 Axes>"
      ]
     },
     "metadata": {},
     "output_type": "display_data"
    },
    {
     "name": "stdout",
     "output_type": "stream",
     "text": [
      "RepeatCustomer\n"
     ]
    },
    {
     "data": {
      "image/png": "[encoded data removed]",
      "text/plain": [
       "<Figure size 640x480 with 1 Axes>"
      ]
     },
     "metadata": {},
     "output_type": "display_data"
    },
    {
     "name": "stdout",
     "output_type": "stream",
     "text": [
      "PremiumMember\n"
     ]
    },
    {
     "data": {
      "image/png": "[encoded data removed]",
      "text/plain": [
       "<Figure size 640x480 with 1 Axes>"
      ]
     },
     "metadata": {},
     "output_type": "display_data"
    },
    {
     "name": "stdout",
     "output_type": "stream",
     "text": [
      "HasReturnedItems\n"
     ]
    },
    {
     "data": {
      "image/png": "[encoded data removed]",
      "text/plain": [
       "<Figure size 640x480 with 1 Axes>"
      ]
     },
     "metadata": {},
     "output_type": "display_data"
    },
    {
     "data": {
      "text/plain": [
       "[None, None, None, None, None, None, None, None, None, None]"
      ]
     },
     "execution_count": 340,
     "metadata": {},
     "output_type": "execute_result"
    }
   ],
   "source": [
    "list(map(lambda x: draw_barchart(df, x), [x for x in list(categorical_columns) if x not in ['CustomerID', 'RegistrationDate']]))"
   ]
  },
  {
   "cell_type": "markdown",
   "id": "1e9d0bdd-abbd-4131-8679-95527a90e907",
   "metadata": {},
   "source": [
    "## Boxplots to understand distribution and outliers"
   ]
  },
  {
   "cell_type": "code",
   "execution_count": 341,
   "id": "57d81d3f-d53f-4f2b-8fc5-ae5e8e9e37e1",
   "metadata": {},
   "outputs": [],
   "source": [
    "def draw_boxplot(df, column_name):\n",
    "    print(column_name)\n",
    "    q1 = df[column_name].quantile(0.25)\n",
    "    q3 = df[column_name].quantile(0.75)\n",
    "    iqr = q3 - q1\n",
    "\n",
    "    lower_bound = q1 - 1.5 * iqr\n",
    "    upper_bound = q3 + 1.5 * iqr\n",
    "    median = df[column_name].median()\n",
    "    \n",
    "    fig, ax = plt.subplots(figsize=(5, 4))\n",
    "    df[column_name].plot.box(\n",
    "        ax = ax,\n",
    "        medianprops = {'color': 'firebrick', 'linewidth': 2}\n",
    "    )\n",
    "    ymin, ymax = ax.get_ylim()\n",
    "\n",
    "    ax.tick_params(axis='y', labelsize=8)\n",
    "    plt.grid(axis = 'y')\n",
    "\n",
    "    if ymax <= 1.0:\n",
    "        ax.yaxis.set_major_formatter(mtick.FuncFormatter(lambda x, _: f\"{x:7.2f}\"))\n",
    "    else:\n",
    "        ax.yaxis.set_major_formatter(mtick.FuncFormatter(lambda x, _: f\"{int(x):9d}\"))\n",
    "\n",
    "    plt.show()"
   ]
  },
  {
   "cell_type": "code",
   "execution_count": 342,
   "id": "74d01a8a-99b3-4d29-87d5-148b62b7f48b",
   "metadata": {},
   "outputs": [
    {
     "name": "stdout",
     "output_type": "stream",
     "text": [
      "Age\n"
     ]
    },
    {
     "data": {
      "image/png": "[encoded data removed]",
      "text/plain": [
       "<Figure size 500x400 with 1 Axes>"
      ]
     },
     "metadata": {},
     "output_type": "display_data"
    },
    {
     "name": "stdout",
     "output_type": "stream",
     "text": [
      "TotalPurchases\n"
     ]
    },
    {
     "data": {
      "image/png": "[encoded data removed]",
      "text/plain": [
       "<Figure size 500x400 with 1 Axes>"
      ]
     },
     "metadata": {},
     "output_type": "display_data"
    },
    {
     "name": "stdout",
     "output_type": "stream",
     "text": [
      "AverageOrderValue\n"
     ]
    },
    {
     "data": {
      "image/png": "[encoded data removed]",
      "text/plain": [
       "<Figure size 500x400 with 1 Axes>"
      ]
     },
     "metadata": {},
     "output_type": "display_data"
    },
    {
     "name": "stdout",
     "output_type": "stream",
     "text": [
      "CustomerLifetimeValue\n"
     ]
    },
    {
     "data": {
      "image/png": "[encoded data removed]",
      "text/plain": [
       "<Figure size 500x400 with 1 Axes>"
      ]
     },
     "metadata": {},
     "output_type": "display_data"
    },
    {
     "name": "stdout",
     "output_type": "stream",
     "text": [
      "EmailEngagementRate\n"
     ]
    },
    {
     "data": {
      "image/png": "[encoded data removed]",
      "text/plain": [
       "<Figure size 500x400 with 1 Axes>"
      ]
     },
     "metadata": {},
     "output_type": "display_data"
    },
    {
     "name": "stdout",
     "output_type": "stream",
     "text": [
      "SocialMediaEngagementRate\n"
     ]
    },
    {
     "data": {
      "image/png": "[encoded data removed]",
      "text/plain": [
       "<Figure size 500x400 with 1 Axes>"
      ]
     },
     "metadata": {},
     "output_type": "display_data"
    },
    {
     "name": "stdout",
     "output_type": "stream",
     "text": [
      "CustomerServiceInteractions\n"
     ]
    },
    {
     "data": {
      "image/png": "[encoded data removed]",
      "text/plain": [
       "<Figure size 500x400 with 1 Axes>"
      ]
     },
     "metadata": {},
     "output_type": "display_data"
    },
    {
     "name": "stdout",
     "output_type": "stream",
     "text": [
      "AverageSatisfactionScore\n"
     ]
    },
    {
     "data": {
      "image/png": "[encoded data removed]",
      "text/plain": [
       "<Figure size 500x400 with 1 Axes>"
      ]
     },
     "metadata": {},
     "output_type": "display_data"
    },
    {
     "name": "stdout",
     "output_type": "stream",
     "text": [
      "EmailConversionRate\n"
     ]
    },
    {
     "data": {
      "image/png": "[encoded data removed]",
      "text/plain": [
       "<Figure size 500x400 with 1 Axes>"
      ]
     },
     "metadata": {},
     "output_type": "display_data"
    },
    {
     "name": "stdout",
     "output_type": "stream",
     "text": [
      "SocialMediaConversionRate\n"
     ]
    },
    {
     "data": {
      "image/png": "[encoded data removed]",
      "text/plain": [
       "<Figure size 500x400 with 1 Axes>"
      ]
     },
     "metadata": {},
     "output_type": "display_data"
    },
    {
     "name": "stdout",
     "output_type": "stream",
     "text": [
      "SearchEngineConversionRate\n"
     ]
    },
    {
     "data": {
      "image/png": "[encoded data removed]",
      "text/plain": [
       "<Figure size 500x400 with 1 Axes>"
      ]
     },
     "metadata": {},
     "output_type": "display_data"
    },
    {
     "data": {
      "text/plain": [
       "[None, None, None, None, None, None, None, None, None, None, None]"
      ]
     },
     "execution_count": 342,
     "metadata": {},
     "output_type": "execute_result"
    }
   ],
   "source": [
    "list(map(lambda x: draw_boxplot(df, x), quantitative_columns))"
   ]
  },
  {
   "cell_type": "markdown",
   "id": "7f464fdf-0c79-489a-b3e9-e5f751d7a802",
   "metadata": {},
   "source": [
    "# Descriptions of quantitative columns"
   ]
  },
  {
   "cell_type": "code",
   "execution_count": 343,
   "id": "11eaaf40-7b36-418d-a575-e484c1eb1ffd",
   "metadata": {},
   "outputs": [
    {
     "name": "stdout",
     "output_type": "stream",
     "text": [
      "count       9485.0\n",
      "mean     34.536742\n",
      "std      15.117146\n",
      "min          -25.0\n",
      "25%           24.0\n",
      "50%           35.0\n",
      "75%           45.0\n",
      "max           91.0\n",
      "Name: Age, dtype: Float64\n",
      "\n",
      "count      9470.0\n",
      "mean     5.044773\n",
      "std      3.205844\n",
      "min           0.0\n",
      "25%           3.0\n",
      "50%           5.0\n",
      "75%           7.0\n",
      "max          27.0\n",
      "Name: TotalPurchases, dtype: Float64\n",
      "\n",
      "count     9481.000000\n",
      "mean       189.224562\n",
      "std       1472.277418\n",
      "min          1.235282\n",
      "25%         27.441273\n",
      "50%         54.532801\n",
      "75%        109.260008\n",
      "max      51810.123750\n",
      "Name: AverageOrderValue, dtype: float64\n",
      "\n",
      "count      9507.000000\n",
      "mean        672.919948\n",
      "std        5729.439186\n",
      "min       -9331.077011\n",
      "25%          95.662915\n",
      "50%         248.018238\n",
      "75%         545.787253\n",
      "max      420810.815641\n",
      "Name: CustomerLifetimeValue, dtype: float64\n",
      "\n",
      "count    9524.000000\n",
      "mean        0.282649\n",
      "std         0.157996\n",
      "min         0.002205\n",
      "25%         0.160170\n",
      "50%         0.260164\n",
      "75%         0.384726\n",
      "max         0.890822\n",
      "Name: EmailEngagementRate, dtype: float64\n",
      "\n",
      "count    9472.000000\n",
      "mean        0.286632\n",
      "std         0.159938\n",
      "min         0.002378\n",
      "25%         0.161669\n",
      "50%         0.266130\n",
      "75%         0.389884\n",
      "max         0.847513\n",
      "Name: SocialMediaEngagementRate, dtype: float64\n",
      "\n",
      "count      9482.0\n",
      "mean     2.001793\n",
      "std      1.422949\n",
      "min           0.0\n",
      "25%           1.0\n",
      "50%           2.0\n",
      "75%           3.0\n",
      "max          11.0\n",
      "Name: CustomerServiceInteractions, dtype: Float64\n",
      "\n",
      "count    9504.000000\n",
      "mean        6.955430\n",
      "std         1.894267\n",
      "min         0.000000\n",
      "25%         5.670156\n",
      "50%         7.008513\n",
      "75%         8.365637\n",
      "max        10.000000\n",
      "Name: AverageSatisfactionScore, dtype: float64\n",
      "\n",
      "count    9477.000000\n",
      "mean        0.198026\n",
      "std         0.120243\n",
      "min         0.000885\n",
      "25%         0.106547\n",
      "50%         0.176639\n",
      "75%         0.268938\n",
      "max         0.783003\n",
      "Name: EmailConversionRate, dtype: float64\n",
      "\n",
      "count    9506.000000\n",
      "mean        0.198721\n",
      "std         0.119426\n",
      "min         0.001554\n",
      "25%         0.106324\n",
      "50%         0.178118\n",
      "75%         0.271487\n",
      "max         0.824266\n",
      "Name: SocialMediaConversionRate, dtype: float64\n",
      "\n",
      "count    9495.000000\n",
      "mean        0.199427\n",
      "std         0.120992\n",
      "min         0.002951\n",
      "25%         0.106656\n",
      "50%         0.177495\n",
      "75%         0.273069\n",
      "max         0.784076\n",
      "Name: SearchEngineConversionRate, dtype: float64\n",
      "\n"
     ]
    },
    {
     "data": {
      "text/plain": [
       "[None, None, None, None, None, None, None, None, None, None, None]"
      ]
     },
     "execution_count": 343,
     "metadata": {},
     "output_type": "execute_result"
    }
   ],
   "source": [
    "list(map(lambda x: print(df.reset_index()[x].describe(), end='\\n\\n'), quantitative_columns))"
   ]
  },
  {
   "cell_type": "code",
   "execution_count": null,
   "id": "0df61561-9b6a-43af-af08-c8324b727254",
   "metadata": {},
   "outputs": [],
   "source": []
  }
 ],
 "metadata": {
  "kernelspec": {
   "display_name": "Python 3 (ipykernel)",
   "language": "python",
   "name": "python3"
  },
  "language_info": {
   "codemirror_mode": {
    "name": "ipython",
    "version": 3
   },
   "file_extension": ".py",
   "mimetype": "text/x-python",
   "name": "python",
   "nbconvert_exporter": "python",
   "pygments_lexer": "ipython3",
   "version": "3.11.13"
  }
 },
 "nbformat": 4,
 "nbformat_minor": 5
}
