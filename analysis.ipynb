{
 "cells": [
  {
   "cell_type": "markdown",
   "id": "ca72b53f-8006-4ba8-92d1-5dd9b8368591",
   "metadata": {},
   "source": [
    "# Data collection and analysis\n",
    "**Group 4** \\\n",
    "Adam Zakaria Ababneh \\\n",
    "Kate Paparsenou \\\n",
    "Chris Umbel"
   ]
  },
  {
   "cell_type": "code",
   "execution_count": 41,
   "id": "c072e895-435d-499f-99d8-344b06f9f76d",
   "metadata": {},
   "outputs": [],
   "source": [
    "import pandas as pd\n",
    "import matplotlib.pyplot as plt\n",
    "import matplotlib.ticker as mtick"
   ]
  },
  {
   "cell_type": "markdown",
   "id": "f903596e-fba5-4ce2-960d-0e9ee7972f04",
   "metadata": {},
   "source": [
    "## Data Load"
   ]
  },
  {
   "cell_type": "code",
   "execution_count": 42,
   "id": "1023e93e-9c11-43bd-bfd4-b30634c8d53b",
   "metadata": {},
   "outputs": [
    {
     "data": {
      "text/html": [
       "<div>\n",
       "<style scoped>\n",
       "    .dataframe tbody tr th:only-of-type {\n",
       "        vertical-align: middle;\n",
       "    }\n",
       "\n",
       "    .dataframe tbody tr th {\n",
       "        vertical-align: top;\n",
       "    }\n",
       "\n",
       "    .dataframe thead th {\n",
       "        text-align: right;\n",
       "    }\n",
       "</style>\n",
       "<table border=\"1\" class=\"dataframe\">\n",
       "  <thead>\n",
       "    <tr style=\"text-align: right;\">\n",
       "      <th></th>\n",
       "      <th>CustomerID</th>\n",
       "      <th>RegistrationDate</th>\n",
       "      <th>Age</th>\n",
       "      <th>Gender</th>\n",
       "      <th>IncomeLevel</th>\n",
       "      <th>Country</th>\n",
       "      <th>City</th>\n",
       "      <th>TotalPurchases</th>\n",
       "      <th>AverageOrderValue</th>\n",
       "      <th>CustomerLifetimeValue</th>\n",
       "      <th>...</th>\n",
       "      <th>SocialMediaEngagementRate</th>\n",
       "      <th>MobileAppUsage</th>\n",
       "      <th>CustomerServiceInteractions</th>\n",
       "      <th>AverageSatisfactionScore</th>\n",
       "      <th>EmailConversionRate</th>\n",
       "      <th>SocialMediaConversionRate</th>\n",
       "      <th>SearchEngineConversionRate</th>\n",
       "      <th>RepeatCustomer</th>\n",
       "      <th>PremiumMember</th>\n",
       "      <th>HasReturnedItems</th>\n",
       "    </tr>\n",
       "  </thead>\n",
       "  <tbody>\n",
       "    <tr>\n",
       "      <th>0</th>\n",
       "      <td>NaN</td>\n",
       "      <td>2020-05-10</td>\n",
       "      <td>25.0</td>\n",
       "      <td>NaN</td>\n",
       "      <td>NaN</td>\n",
       "      <td>Other</td>\n",
       "      <td>Tokyo</td>\n",
       "      <td>4.0</td>\n",
       "      <td>15.886509</td>\n",
       "      <td>NaN</td>\n",
       "      <td>...</td>\n",
       "      <td>0.379694</td>\n",
       "      <td>High</td>\n",
       "      <td>0.0</td>\n",
       "      <td>6.240881</td>\n",
       "      <td>0.112955</td>\n",
       "      <td>0.239948</td>\n",
       "      <td>0.156776</td>\n",
       "      <td>Yes</td>\n",
       "      <td>Yes</td>\n",
       "      <td>No</td>\n",
       "    </tr>\n",
       "    <tr>\n",
       "      <th>1</th>\n",
       "      <td>CUST00002</td>\n",
       "      <td>2021-07-18</td>\n",
       "      <td>NaN</td>\n",
       "      <td>Prefer not to say</td>\n",
       "      <td>High</td>\n",
       "      <td>Germany</td>\n",
       "      <td>London</td>\n",
       "      <td>6.0</td>\n",
       "      <td>27.638853</td>\n",
       "      <td>181.725056</td>\n",
       "      <td>...</td>\n",
       "      <td>0.140988</td>\n",
       "      <td>Low</td>\n",
       "      <td>0.0</td>\n",
       "      <td>7.721917</td>\n",
       "      <td>0.300979</td>\n",
       "      <td>0.230821</td>\n",
       "      <td>0.290735</td>\n",
       "      <td>Yes</td>\n",
       "      <td>No</td>\n",
       "      <td>No</td>\n",
       "    </tr>\n",
       "    <tr>\n",
       "      <th>2</th>\n",
       "      <td>CUST00003</td>\n",
       "      <td>2021-02-04</td>\n",
       "      <td>43.0</td>\n",
       "      <td>NaN</td>\n",
       "      <td>High</td>\n",
       "      <td>France</td>\n",
       "      <td>NaN</td>\n",
       "      <td>10.0</td>\n",
       "      <td>161.739425</td>\n",
       "      <td>1810.555150</td>\n",
       "      <td>...</td>\n",
       "      <td>0.323660</td>\n",
       "      <td>Low</td>\n",
       "      <td>0.0</td>\n",
       "      <td>7.899042</td>\n",
       "      <td>NaN</td>\n",
       "      <td>0.132239</td>\n",
       "      <td>0.050505</td>\n",
       "      <td>Yes</td>\n",
       "      <td>No</td>\n",
       "      <td>Yes</td>\n",
       "    </tr>\n",
       "    <tr>\n",
       "      <th>3</th>\n",
       "      <td>CUST00004</td>\n",
       "      <td>2020-12-31</td>\n",
       "      <td>49.0</td>\n",
       "      <td>Female</td>\n",
       "      <td>High</td>\n",
       "      <td>Australia</td>\n",
       "      <td>Los Angeles</td>\n",
       "      <td>5.0</td>\n",
       "      <td>14.194263</td>\n",
       "      <td>86.219740</td>\n",
       "      <td>...</td>\n",
       "      <td>0.268428</td>\n",
       "      <td>Never</td>\n",
       "      <td>1.0</td>\n",
       "      <td>7.829459</td>\n",
       "      <td>0.074097</td>\n",
       "      <td>0.206644</td>\n",
       "      <td>0.281067</td>\n",
       "      <td>Yes</td>\n",
       "      <td>Yes</td>\n",
       "      <td>No</td>\n",
       "    </tr>\n",
       "    <tr>\n",
       "      <th>4</th>\n",
       "      <td>CUST00005</td>\n",
       "      <td>2022-06-27</td>\n",
       "      <td>29.0</td>\n",
       "      <td>Female</td>\n",
       "      <td>Very High</td>\n",
       "      <td>Australia</td>\n",
       "      <td>Tokyo</td>\n",
       "      <td>7.0</td>\n",
       "      <td>31147.427206</td>\n",
       "      <td>2112.575945</td>\n",
       "      <td>...</td>\n",
       "      <td>0.160427</td>\n",
       "      <td>High</td>\n",
       "      <td>NaN</td>\n",
       "      <td>7.777353</td>\n",
       "      <td>0.163438</td>\n",
       "      <td>0.232410</td>\n",
       "      <td>0.326645</td>\n",
       "      <td>Yes</td>\n",
       "      <td>No</td>\n",
       "      <td>No</td>\n",
       "    </tr>\n",
       "    <tr>\n",
       "      <th>...</th>\n",
       "      <td>...</td>\n",
       "      <td>...</td>\n",
       "      <td>...</td>\n",
       "      <td>...</td>\n",
       "      <td>...</td>\n",
       "      <td>...</td>\n",
       "      <td>...</td>\n",
       "      <td>...</td>\n",
       "      <td>...</td>\n",
       "      <td>...</td>\n",
       "      <td>...</td>\n",
       "      <td>...</td>\n",
       "      <td>...</td>\n",
       "      <td>...</td>\n",
       "      <td>...</td>\n",
       "      <td>...</td>\n",
       "      <td>...</td>\n",
       "      <td>...</td>\n",
       "      <td>...</td>\n",
       "      <td>...</td>\n",
       "      <td>...</td>\n",
       "    </tr>\n",
       "    <tr>\n",
       "      <th>9995</th>\n",
       "      <td>CUST09996</td>\n",
       "      <td>2018-09-29</td>\n",
       "      <td>39.0</td>\n",
       "      <td>Female</td>\n",
       "      <td>High</td>\n",
       "      <td>Japan</td>\n",
       "      <td>New York</td>\n",
       "      <td>4.0</td>\n",
       "      <td>60.986389</td>\n",
       "      <td>212.992614</td>\n",
       "      <td>...</td>\n",
       "      <td>0.128575</td>\n",
       "      <td>High</td>\n",
       "      <td>1.0</td>\n",
       "      <td>6.094181</td>\n",
       "      <td>0.240422</td>\n",
       "      <td>0.293145</td>\n",
       "      <td>NaN</td>\n",
       "      <td>Yes</td>\n",
       "      <td>Yes</td>\n",
       "      <td>Yes</td>\n",
       "    </tr>\n",
       "    <tr>\n",
       "      <th>9996</th>\n",
       "      <td>CUST09997</td>\n",
       "      <td>2020-10-25</td>\n",
       "      <td>58.0</td>\n",
       "      <td>Prefer not to say</td>\n",
       "      <td>Low</td>\n",
       "      <td>France</td>\n",
       "      <td>Sydney</td>\n",
       "      <td>6.0</td>\n",
       "      <td>75.208556</td>\n",
       "      <td>549.352094</td>\n",
       "      <td>...</td>\n",
       "      <td>0.298521</td>\n",
       "      <td>Never</td>\n",
       "      <td>NaN</td>\n",
       "      <td>8.610345</td>\n",
       "      <td>0.056814</td>\n",
       "      <td>0.128591</td>\n",
       "      <td>0.070305</td>\n",
       "      <td>Yes</td>\n",
       "      <td>No</td>\n",
       "      <td>Yes</td>\n",
       "    </tr>\n",
       "    <tr>\n",
       "      <th>9997</th>\n",
       "      <td>CUST09998</td>\n",
       "      <td>2023-04-07</td>\n",
       "      <td>14.0</td>\n",
       "      <td>Other</td>\n",
       "      <td>Very High</td>\n",
       "      <td>USA</td>\n",
       "      <td>New York</td>\n",
       "      <td>1.0</td>\n",
       "      <td>37.196899</td>\n",
       "      <td>117.203509</td>\n",
       "      <td>...</td>\n",
       "      <td>0.126018</td>\n",
       "      <td>NaN</td>\n",
       "      <td>0.0</td>\n",
       "      <td>9.864245</td>\n",
       "      <td>0.355694</td>\n",
       "      <td>0.101445</td>\n",
       "      <td>0.161469</td>\n",
       "      <td>No</td>\n",
       "      <td>No</td>\n",
       "      <td>Yes</td>\n",
       "    </tr>\n",
       "    <tr>\n",
       "      <th>9998</th>\n",
       "      <td>CUST09999</td>\n",
       "      <td>2021-05-27</td>\n",
       "      <td>29.0</td>\n",
       "      <td>Other</td>\n",
       "      <td>High</td>\n",
       "      <td>Canada</td>\n",
       "      <td>Berlin</td>\n",
       "      <td>3.0</td>\n",
       "      <td>13.191952</td>\n",
       "      <td>-6.655247</td>\n",
       "      <td>...</td>\n",
       "      <td>0.600112</td>\n",
       "      <td>NaN</td>\n",
       "      <td>0.0</td>\n",
       "      <td>6.163032</td>\n",
       "      <td>0.222856</td>\n",
       "      <td>0.160716</td>\n",
       "      <td>0.431023</td>\n",
       "      <td>Yes</td>\n",
       "      <td>No</td>\n",
       "      <td>No</td>\n",
       "    </tr>\n",
       "    <tr>\n",
       "      <th>9999</th>\n",
       "      <td>CUST10000</td>\n",
       "      <td>2021-02-15</td>\n",
       "      <td>32.0</td>\n",
       "      <td>NaN</td>\n",
       "      <td>Low</td>\n",
       "      <td>France</td>\n",
       "      <td>Paris</td>\n",
       "      <td>4.0</td>\n",
       "      <td>122.958397</td>\n",
       "      <td>431.479732</td>\n",
       "      <td>...</td>\n",
       "      <td>0.052099</td>\n",
       "      <td>High</td>\n",
       "      <td>2.0</td>\n",
       "      <td>NaN</td>\n",
       "      <td>0.201530</td>\n",
       "      <td>0.307507</td>\n",
       "      <td>0.041132</td>\n",
       "      <td>Yes</td>\n",
       "      <td>Yes</td>\n",
       "      <td>No</td>\n",
       "    </tr>\n",
       "  </tbody>\n",
       "</table>\n",
       "<p>10000 rows × 23 columns</p>\n",
       "</div>"
      ],
      "text/plain": [
       "     CustomerID RegistrationDate   Age             Gender IncomeLevel  \\\n",
       "0           NaN       2020-05-10  25.0                NaN         NaN   \n",
       "1     CUST00002       2021-07-18   NaN  Prefer not to say        High   \n",
       "2     CUST00003       2021-02-04  43.0                NaN        High   \n",
       "3     CUST00004       2020-12-31  49.0             Female        High   \n",
       "4     CUST00005       2022-06-27  29.0             Female   Very High   \n",
       "...         ...              ...   ...                ...         ...   \n",
       "9995  CUST09996       2018-09-29  39.0             Female        High   \n",
       "9996  CUST09997       2020-10-25  58.0  Prefer not to say         Low   \n",
       "9997  CUST09998       2023-04-07  14.0              Other   Very High   \n",
       "9998  CUST09999       2021-05-27  29.0              Other        High   \n",
       "9999  CUST10000       2021-02-15  32.0                NaN         Low   \n",
       "\n",
       "        Country         City  TotalPurchases  AverageOrderValue  \\\n",
       "0         Other        Tokyo             4.0          15.886509   \n",
       "1       Germany       London             6.0          27.638853   \n",
       "2        France          NaN            10.0         161.739425   \n",
       "3     Australia  Los Angeles             5.0          14.194263   \n",
       "4     Australia        Tokyo             7.0       31147.427206   \n",
       "...         ...          ...             ...                ...   \n",
       "9995      Japan     New York             4.0          60.986389   \n",
       "9996     France       Sydney             6.0          75.208556   \n",
       "9997        USA     New York             1.0          37.196899   \n",
       "9998     Canada       Berlin             3.0          13.191952   \n",
       "9999     France        Paris             4.0         122.958397   \n",
       "\n",
       "      CustomerLifetimeValue  ... SocialMediaEngagementRate MobileAppUsage  \\\n",
       "0                       NaN  ...                  0.379694           High   \n",
       "1                181.725056  ...                  0.140988            Low   \n",
       "2               1810.555150  ...                  0.323660            Low   \n",
       "3                 86.219740  ...                  0.268428          Never   \n",
       "4               2112.575945  ...                  0.160427           High   \n",
       "...                     ...  ...                       ...            ...   \n",
       "9995             212.992614  ...                  0.128575           High   \n",
       "9996             549.352094  ...                  0.298521          Never   \n",
       "9997             117.203509  ...                  0.126018            NaN   \n",
       "9998              -6.655247  ...                  0.600112            NaN   \n",
       "9999             431.479732  ...                  0.052099           High   \n",
       "\n",
       "      CustomerServiceInteractions  AverageSatisfactionScore  \\\n",
       "0                             0.0                  6.240881   \n",
       "1                             0.0                  7.721917   \n",
       "2                             0.0                  7.899042   \n",
       "3                             1.0                  7.829459   \n",
       "4                             NaN                  7.777353   \n",
       "...                           ...                       ...   \n",
       "9995                          1.0                  6.094181   \n",
       "9996                          NaN                  8.610345   \n",
       "9997                          0.0                  9.864245   \n",
       "9998                          0.0                  6.163032   \n",
       "9999                          2.0                       NaN   \n",
       "\n",
       "     EmailConversionRate  SocialMediaConversionRate  \\\n",
       "0               0.112955                   0.239948   \n",
       "1               0.300979                   0.230821   \n",
       "2                    NaN                   0.132239   \n",
       "3               0.074097                   0.206644   \n",
       "4               0.163438                   0.232410   \n",
       "...                  ...                        ...   \n",
       "9995            0.240422                   0.293145   \n",
       "9996            0.056814                   0.128591   \n",
       "9997            0.355694                   0.101445   \n",
       "9998            0.222856                   0.160716   \n",
       "9999            0.201530                   0.307507   \n",
       "\n",
       "      SearchEngineConversionRate  RepeatCustomer  PremiumMember  \\\n",
       "0                       0.156776             Yes            Yes   \n",
       "1                       0.290735             Yes             No   \n",
       "2                       0.050505             Yes             No   \n",
       "3                       0.281067             Yes            Yes   \n",
       "4                       0.326645             Yes             No   \n",
       "...                          ...             ...            ...   \n",
       "9995                         NaN             Yes            Yes   \n",
       "9996                    0.070305             Yes             No   \n",
       "9997                    0.161469              No             No   \n",
       "9998                    0.431023             Yes             No   \n",
       "9999                    0.041132             Yes            Yes   \n",
       "\n",
       "      HasReturnedItems  \n",
       "0                   No  \n",
       "1                   No  \n",
       "2                  Yes  \n",
       "3                   No  \n",
       "4                   No  \n",
       "...                ...  \n",
       "9995               Yes  \n",
       "9996               Yes  \n",
       "9997               Yes  \n",
       "9998                No  \n",
       "9999                No  \n",
       "\n",
       "[10000 rows x 23 columns]"
      ]
     },
     "execution_count": 42,
     "metadata": {},
     "output_type": "execute_result"
    }
   ],
   "source": [
    "df = pd.read_csv('data/ecommerce_customer_data.csv')\n",
    "df"
   ]
  },
  {
   "cell_type": "markdown",
   "id": "96ea3761-73a0-418a-b1b5-e942f7b5e31a",
   "metadata": {},
   "source": [
    "## Conversion\n",
    "A few fields look like integers, validate that's the case"
   ]
  },
  {
   "cell_type": "code",
   "execution_count": 43,
   "id": "708a0cdf-2ec1-4454-98bc-50b420fe6a04",
   "metadata": {},
   "outputs": [],
   "source": [
    "pd.set_option('display.max_rows', None)\n",
    "int_columns = ['TotalPurchases', 'CustomerServiceInteractions', 'Age']"
   ]
  },
  {
   "cell_type": "code",
   "execution_count": 44,
   "id": "ebb95ceb-5c05-4af3-be6e-760285d58d7f",
   "metadata": {},
   "outputs": [
    {
     "name": "stdout",
     "output_type": "stream",
     "text": [
      "TotalPurchases\n",
      "4.0     1288\n",
      "3.0     1264\n",
      "5.0     1191\n",
      "2.0     1097\n",
      "6.0      962\n",
      "7.0      753\n",
      "1.0      748\n",
      "8.0      546\n",
      "NaN      530\n",
      "9.0      445\n",
      "10.0     291\n",
      "0.0      289\n",
      "11.0     211\n",
      "12.0     140\n",
      "13.0      89\n",
      "14.0      49\n",
      "15.0      45\n",
      "16.0      23\n",
      "17.0      18\n",
      "18.0       8\n",
      "20.0       5\n",
      "19.0       4\n",
      "22.0       2\n",
      "23.0       1\n",
      "27.0       1\n",
      "Name: count, dtype: int64\n",
      "\n",
      "CustomerServiceInteractions\n",
      "1.0     2634\n",
      "2.0     2537\n",
      "3.0     1652\n",
      "0.0     1261\n",
      "4.0      897\n",
      "NaN      518\n",
      "5.0      350\n",
      "6.0       97\n",
      "7.0       41\n",
      "8.0        9\n",
      "9.0        3\n",
      "11.0       1\n",
      "Name: count, dtype: int64\n",
      "\n",
      "Age\n",
      " NaN     515\n",
      " 34.0    263\n",
      " 35.0    262\n",
      " 36.0    260\n",
      " 38.0    245\n",
      " 37.0    244\n",
      " 40.0    244\n",
      " 39.0    242\n",
      " 32.0    241\n",
      " 31.0    238\n",
      " 30.0    238\n",
      " 29.0    236\n",
      " 33.0    234\n",
      " 28.0    232\n",
      " 42.0    218\n",
      " 24.0    218\n",
      " 41.0    218\n",
      " 46.0    216\n",
      " 27.0    209\n",
      " 44.0    204\n",
      " 43.0    204\n",
      " 47.0    202\n",
      " 26.0    201\n",
      " 45.0    197\n",
      " 23.0    180\n",
      " 25.0    177\n",
      " 48.0    165\n",
      " 20.0    163\n",
      " 49.0    163\n",
      " 21.0    160\n",
      " 22.0    156\n",
      " 52.0    155\n",
      " 19.0    146\n",
      " 18.0    137\n",
      " 17.0    133\n",
      " 50.0    133\n",
      " 51.0    129\n",
      " 15.0    123\n",
      " 53.0    120\n",
      " 54.0    117\n",
      " 16.0    116\n",
      " 55.0    108\n",
      " 56.0    101\n",
      " 13.0     90\n",
      " 14.0     84\n",
      " 12.0     82\n",
      " 11.0     78\n",
      " 57.0     76\n",
      " 10.0     74\n",
      " 61.0     66\n",
      " 9.0      64\n",
      " 59.0     59\n",
      " 60.0     56\n",
      " 8.0      54\n",
      " 58.0     54\n",
      " 6.0      47\n",
      " 64.0     46\n",
      " 7.0      45\n",
      " 4.0      45\n",
      " 62.0     45\n",
      " 5.0      40\n",
      " 63.0     36\n",
      " 67.0     32\n",
      " 66.0     31\n",
      " 0.0      28\n",
      " 65.0     28\n",
      " 3.0      24\n",
      " 2.0      22\n",
      " 1.0      21\n",
      "-1.0      17\n",
      " 69.0     17\n",
      " 68.0     17\n",
      " 71.0     16\n",
      "-2.0      14\n",
      " 70.0     11\n",
      "-4.0      10\n",
      " 73.0      8\n",
      "-5.0       8\n",
      " 72.0      7\n",
      " 75.0      7\n",
      " 76.0      6\n",
      "-3.0       6\n",
      " 78.0      6\n",
      "-6.0       5\n",
      " 74.0      5\n",
      "-7.0       5\n",
      "-8.0       4\n",
      " 79.0      4\n",
      "-11.0      4\n",
      " 81.0      3\n",
      " 87.0      2\n",
      "-25.0      2\n",
      " 77.0      2\n",
      "-14.0      2\n",
      "-9.0       2\n",
      " 88.0      2\n",
      "-12.0      2\n",
      "-13.0      2\n",
      "-10.0      2\n",
      " 84.0      2\n",
      " 85.0      2\n",
      " 83.0      2\n",
      "-16.0      1\n",
      "-21.0      1\n",
      " 82.0      1\n",
      "-19.0      1\n",
      " 91.0      1\n",
      "-15.0      1\n",
      "Name: count, dtype: int64\n",
      "\n"
     ]
    },
    {
     "data": {
      "text/plain": [
       "[None, None, None]"
      ]
     },
     "execution_count": 44,
     "metadata": {},
     "output_type": "execute_result"
    }
   ],
   "source": [
    "list(map(lambda x: print(df[x].value_counts(dropna=False), end='\\n\\n'), int_columns))"
   ]
  },
  {
   "cell_type": "markdown",
   "id": "3d5637ca-8c7b-45cc-9ad7-104e126e760b",
   "metadata": {},
   "source": [
    "Convert the integer fields"
   ]
  },
  {
   "cell_type": "code",
   "execution_count": 45,
   "id": "591a116f-9505-4868-858f-9e4a5cec15d9",
   "metadata": {},
   "outputs": [],
   "source": [
    "df['Age'] = df['Age'].astype('Int64')\n",
    "df['TotalPurchases'] = df['TotalPurchases'].astype('Int64')\n",
    "df['CustomerServiceInteractions'] = df['CustomerServiceInteractions'].astype('Int64')"
   ]
  },
  {
   "cell_type": "markdown",
   "id": "83666982-7a07-4311-9112-11cae70af1b2",
   "metadata": {},
   "source": [
    "## Column metadata"
   ]
  },
  {
   "cell_type": "code",
   "execution_count": 46,
   "id": "32b71b95-c28c-450f-8fa1-f9aba66885ba",
   "metadata": {},
   "outputs": [
    {
     "data": {
      "text/plain": [
       "CustomerID                      object\n",
       "RegistrationDate                object\n",
       "Age                              Int64\n",
       "Gender                          object\n",
       "IncomeLevel                     object\n",
       "Country                         object\n",
       "City                            object\n",
       "TotalPurchases                   Int64\n",
       "AverageOrderValue              float64\n",
       "CustomerLifetimeValue          float64\n",
       "FavoriteCategory                object\n",
       "SecondFavoriteCategory          object\n",
       "EmailEngagementRate            float64\n",
       "SocialMediaEngagementRate      float64\n",
       "MobileAppUsage                  object\n",
       "CustomerServiceInteractions      Int64\n",
       "AverageSatisfactionScore       float64\n",
       "EmailConversionRate            float64\n",
       "SocialMediaConversionRate      float64\n",
       "SearchEngineConversionRate     float64\n",
       "RepeatCustomer                  object\n",
       "PremiumMember                   object\n",
       "HasReturnedItems                object\n",
       "dtype: object"
      ]
     },
     "execution_count": 46,
     "metadata": {},
     "output_type": "execute_result"
    }
   ],
   "source": [
    "df.dtypes"
   ]
  },
  {
   "cell_type": "code",
   "execution_count": 47,
   "id": "2cb0106d-eab1-4aa0-aa07-d391e8178334",
   "metadata": {},
   "outputs": [],
   "source": [
    "categorical_columns = df.select_dtypes(include = 'object').columns\n",
    "quantitative_columns = df.select_dtypes(include = ['float64', 'Int64']).columns"
   ]
  },
  {
   "cell_type": "markdown",
   "id": "59975519-2d76-465b-9fb9-4a565d6ca528",
   "metadata": {},
   "source": [
    "### Categorical columns"
   ]
  },
  {
   "cell_type": "code",
   "execution_count": 48,
   "id": "7793765e-53a0-4a9f-b52d-4447d0d709a7",
   "metadata": {},
   "outputs": [
    {
     "data": {
      "text/plain": [
       "['CustomerID',\n",
       " 'RegistrationDate',\n",
       " 'Gender',\n",
       " 'IncomeLevel',\n",
       " 'Country',\n",
       " 'City',\n",
       " 'FavoriteCategory',\n",
       " 'SecondFavoriteCategory',\n",
       " 'MobileAppUsage',\n",
       " 'RepeatCustomer',\n",
       " 'PremiumMember',\n",
       " 'HasReturnedItems']"
      ]
     },
     "execution_count": 48,
     "metadata": {},
     "output_type": "execute_result"
    }
   ],
   "source": [
    "list(categorical_columns)"
   ]
  },
  {
   "cell_type": "markdown",
   "id": "1e25345c-fa81-4c18-b4db-d11a747295c0",
   "metadata": {},
   "source": [
    "### Quantitative columns"
   ]
  },
  {
   "cell_type": "code",
   "execution_count": 49,
   "id": "2e25d014-8eab-47ca-b725-1740ef0d97cf",
   "metadata": {},
   "outputs": [
    {
     "data": {
      "text/plain": [
       "['Age',\n",
       " 'TotalPurchases',\n",
       " 'AverageOrderValue',\n",
       " 'CustomerLifetimeValue',\n",
       " 'EmailEngagementRate',\n",
       " 'SocialMediaEngagementRate',\n",
       " 'CustomerServiceInteractions',\n",
       " 'AverageSatisfactionScore',\n",
       " 'EmailConversionRate',\n",
       " 'SocialMediaConversionRate',\n",
       " 'SearchEngineConversionRate']"
      ]
     },
     "execution_count": 49,
     "metadata": {},
     "output_type": "execute_result"
    }
   ],
   "source": [
    "list(quantitative_columns)"
   ]
  },
  {
   "cell_type": "markdown",
   "id": "89c70c40-9d2f-4c32-9825-fe47d57bc102",
   "metadata": {},
   "source": [
    "## Distribution for categorical fields"
   ]
  },
  {
   "cell_type": "code",
   "execution_count": 50,
   "id": "cdfba381-c5c1-4c12-81ec-5a82a483b8fe",
   "metadata": {},
   "outputs": [
    {
     "name": "stdout",
     "output_type": "stream",
     "text": [
      "CustomerID\n",
      "NaN          492\n",
      "CUST06670      1\n",
      "CUST06672      1\n",
      "CUST06673      1\n",
      "CUST06674      1\n",
      "            ... \n",
      "CUST03349      1\n",
      "CUST03350      1\n",
      "CUST03351      1\n",
      "CUST03352      1\n",
      "CUST10000      1\n",
      "Name: count, Length: 9509, dtype: int64\n",
      "\n",
      "RegistrationDate\n",
      "NaN           496\n",
      "2018-01-19     14\n",
      "2019-10-24     13\n",
      "2019-01-22     13\n",
      "2020-07-09     12\n",
      "             ... \n",
      "2021-12-24      1\n",
      "2022-04-12      1\n",
      "2020-09-26      1\n",
      "2022-01-16      1\n",
      "2019-04-11      1\n",
      "Name: count, Length: 2160, dtype: int64\n",
      "\n",
      "Gender\n",
      "NaN                  2612\n",
      "Other                1901\n",
      "Female               1846\n",
      "Male                 1830\n",
      "Prefer not to say    1807\n",
      "M                       3\n",
      "F                       1\n",
      "Name: count, dtype: int64\n",
      "\n",
      "IncomeLevel\n",
      "NaN          2503\n",
      "Very High    1964\n",
      "Medium       1918\n",
      "Low          1821\n",
      "High         1792\n",
      "L               1\n",
      "H               1\n",
      "Name: count, dtype: int64\n",
      "\n",
      "Country\n",
      "France       1227\n",
      "Japan        1220\n",
      "USA          1200\n",
      "Australia    1194\n",
      "UK           1177\n",
      "Other        1171\n",
      "Canada       1169\n",
      "Germany      1149\n",
      "NaN           493\n",
      "Name: count, dtype: int64\n",
      "\n",
      "City\n",
      "London         1216\n",
      "New York       1216\n",
      "Tokyo          1215\n",
      "Berlin         1214\n",
      "Los Angeles    1176\n",
      "Other          1173\n",
      "Paris          1163\n",
      "Sydney         1144\n",
      "NaN             483\n",
      "Name: count, dtype: int64\n",
      "\n",
      "FavoriteCategory\n",
      "NaN            1589\n",
      "Beauty         1114\n",
      "Sports         1067\n",
      "Electronics    1057\n",
      "Food           1048\n",
      "Clothing       1043\n",
      "Toys           1035\n",
      "Home Goods     1028\n",
      "Books          1019\n",
      "Name: count, dtype: int64\n",
      "\n",
      "SecondFavoriteCategory\n",
      "NaN            1550\n",
      "Home Goods     1102\n",
      "Electronics    1081\n",
      "Sports         1065\n",
      "Clothing       1060\n",
      "Food           1048\n",
      "Beauty         1044\n",
      "Books          1026\n",
      "Toys           1024\n",
      "Name: count, dtype: int64\n",
      "\n",
      "MobileAppUsage\n",
      "NaN       2457\n",
      "Never     1914\n",
      "Medium    1894\n",
      "Low       1868\n",
      "High      1867\n",
      "Name: count, dtype: int64\n",
      "\n",
      "RepeatCustomer\n",
      "Yes    8479\n",
      "No     1046\n",
      "NaN     475\n",
      "Name: count, dtype: int64\n",
      "\n",
      "PremiumMember\n",
      "No     7632\n",
      "Yes    1874\n",
      "NaN     494\n",
      "Name: count, dtype: int64\n",
      "\n",
      "HasReturnedItems\n",
      "No     6637\n",
      "Yes    2834\n",
      "NaN     529\n",
      "Name: count, dtype: int64\n",
      "\n"
     ]
    },
    {
     "data": {
      "text/plain": [
       "[None, None, None, None, None, None, None, None, None, None, None, None]"
      ]
     },
     "execution_count": 50,
     "metadata": {},
     "output_type": "execute_result"
    }
   ],
   "source": [
    "pd.set_option('display.max_rows', 20)\n",
    "list(map(lambda x: print(df.reset_index()[x].value_counts(dropna = False), end='\\n\\n'), categorical_columns))"
   ]
  },
  {
   "cell_type": "markdown",
   "id": "746400ca-e055-41cb-84d1-5a832819278a",
   "metadata": {},
   "source": [
    "## Basic statistics of quantitative fields"
   ]
  },
  {
   "cell_type": "code",
   "execution_count": 51,
   "id": "18a73bb6-e325-46fe-80ff-33c80cb80ab6",
   "metadata": {},
   "outputs": [
    {
     "data": {
      "text/html": [
       "<div>\n",
       "<style scoped>\n",
       "    .dataframe tbody tr th:only-of-type {\n",
       "        vertical-align: middle;\n",
       "    }\n",
       "\n",
       "    .dataframe tbody tr th {\n",
       "        vertical-align: top;\n",
       "    }\n",
       "\n",
       "    .dataframe thead th {\n",
       "        text-align: right;\n",
       "    }\n",
       "</style>\n",
       "<table border=\"1\" class=\"dataframe\">\n",
       "  <thead>\n",
       "    <tr style=\"text-align: right;\">\n",
       "      <th></th>\n",
       "      <th>Age</th>\n",
       "      <th>TotalPurchases</th>\n",
       "      <th>AverageOrderValue</th>\n",
       "      <th>CustomerLifetimeValue</th>\n",
       "      <th>EmailEngagementRate</th>\n",
       "      <th>SocialMediaEngagementRate</th>\n",
       "      <th>CustomerServiceInteractions</th>\n",
       "      <th>AverageSatisfactionScore</th>\n",
       "      <th>EmailConversionRate</th>\n",
       "      <th>SocialMediaConversionRate</th>\n",
       "      <th>SearchEngineConversionRate</th>\n",
       "    </tr>\n",
       "  </thead>\n",
       "  <tbody>\n",
       "    <tr>\n",
       "      <th>count</th>\n",
       "      <td>9485.0</td>\n",
       "      <td>9470.0</td>\n",
       "      <td>9481.000000</td>\n",
       "      <td>9507.000000</td>\n",
       "      <td>9524.000000</td>\n",
       "      <td>9472.000000</td>\n",
       "      <td>9482.0</td>\n",
       "      <td>9504.000000</td>\n",
       "      <td>9477.000000</td>\n",
       "      <td>9506.000000</td>\n",
       "      <td>9495.000000</td>\n",
       "    </tr>\n",
       "    <tr>\n",
       "      <th>mean</th>\n",
       "      <td>34.536742</td>\n",
       "      <td>5.044773</td>\n",
       "      <td>189.224562</td>\n",
       "      <td>672.919948</td>\n",
       "      <td>0.282649</td>\n",
       "      <td>0.286632</td>\n",
       "      <td>2.001793</td>\n",
       "      <td>6.955430</td>\n",
       "      <td>0.198026</td>\n",
       "      <td>0.198721</td>\n",
       "      <td>0.199427</td>\n",
       "    </tr>\n",
       "    <tr>\n",
       "      <th>std</th>\n",
       "      <td>15.117146</td>\n",
       "      <td>3.205844</td>\n",
       "      <td>1472.277418</td>\n",
       "      <td>5729.439186</td>\n",
       "      <td>0.157996</td>\n",
       "      <td>0.159938</td>\n",
       "      <td>1.422949</td>\n",
       "      <td>1.894267</td>\n",
       "      <td>0.120243</td>\n",
       "      <td>0.119426</td>\n",
       "      <td>0.120992</td>\n",
       "    </tr>\n",
       "    <tr>\n",
       "      <th>min</th>\n",
       "      <td>-25.0</td>\n",
       "      <td>0.0</td>\n",
       "      <td>1.235282</td>\n",
       "      <td>-9331.077011</td>\n",
       "      <td>0.002205</td>\n",
       "      <td>0.002378</td>\n",
       "      <td>0.0</td>\n",
       "      <td>0.000000</td>\n",
       "      <td>0.000885</td>\n",
       "      <td>0.001554</td>\n",
       "      <td>0.002951</td>\n",
       "    </tr>\n",
       "    <tr>\n",
       "      <th>25%</th>\n",
       "      <td>24.0</td>\n",
       "      <td>3.0</td>\n",
       "      <td>27.441273</td>\n",
       "      <td>95.662915</td>\n",
       "      <td>0.160170</td>\n",
       "      <td>0.161669</td>\n",
       "      <td>1.0</td>\n",
       "      <td>5.670156</td>\n",
       "      <td>0.106547</td>\n",
       "      <td>0.106324</td>\n",
       "      <td>0.106656</td>\n",
       "    </tr>\n",
       "    <tr>\n",
       "      <th>50%</th>\n",
       "      <td>35.0</td>\n",
       "      <td>5.0</td>\n",
       "      <td>54.532801</td>\n",
       "      <td>248.018238</td>\n",
       "      <td>0.260164</td>\n",
       "      <td>0.266130</td>\n",
       "      <td>2.0</td>\n",
       "      <td>7.008513</td>\n",
       "      <td>0.176639</td>\n",
       "      <td>0.178118</td>\n",
       "      <td>0.177495</td>\n",
       "    </tr>\n",
       "    <tr>\n",
       "      <th>75%</th>\n",
       "      <td>45.0</td>\n",
       "      <td>7.0</td>\n",
       "      <td>109.260008</td>\n",
       "      <td>545.787253</td>\n",
       "      <td>0.384726</td>\n",
       "      <td>0.389884</td>\n",
       "      <td>3.0</td>\n",
       "      <td>8.365637</td>\n",
       "      <td>0.268938</td>\n",
       "      <td>0.271487</td>\n",
       "      <td>0.273069</td>\n",
       "    </tr>\n",
       "    <tr>\n",
       "      <th>max</th>\n",
       "      <td>91.0</td>\n",
       "      <td>27.0</td>\n",
       "      <td>51810.123750</td>\n",
       "      <td>420810.815641</td>\n",
       "      <td>0.890822</td>\n",
       "      <td>0.847513</td>\n",
       "      <td>11.0</td>\n",
       "      <td>10.000000</td>\n",
       "      <td>0.783003</td>\n",
       "      <td>0.824266</td>\n",
       "      <td>0.784076</td>\n",
       "    </tr>\n",
       "  </tbody>\n",
       "</table>\n",
       "</div>"
      ],
      "text/plain": [
       "             Age  TotalPurchases  AverageOrderValue  CustomerLifetimeValue  \\\n",
       "count     9485.0          9470.0        9481.000000            9507.000000   \n",
       "mean   34.536742        5.044773         189.224562             672.919948   \n",
       "std    15.117146        3.205844        1472.277418            5729.439186   \n",
       "min        -25.0             0.0           1.235282           -9331.077011   \n",
       "25%         24.0             3.0          27.441273              95.662915   \n",
       "50%         35.0             5.0          54.532801             248.018238   \n",
       "75%         45.0             7.0         109.260008             545.787253   \n",
       "max         91.0            27.0       51810.123750          420810.815641   \n",
       "\n",
       "       EmailEngagementRate  SocialMediaEngagementRate  \\\n",
       "count          9524.000000                9472.000000   \n",
       "mean              0.282649                   0.286632   \n",
       "std               0.157996                   0.159938   \n",
       "min               0.002205                   0.002378   \n",
       "25%               0.160170                   0.161669   \n",
       "50%               0.260164                   0.266130   \n",
       "75%               0.384726                   0.389884   \n",
       "max               0.890822                   0.847513   \n",
       "\n",
       "       CustomerServiceInteractions  AverageSatisfactionScore  \\\n",
       "count                       9482.0               9504.000000   \n",
       "mean                      2.001793                  6.955430   \n",
       "std                       1.422949                  1.894267   \n",
       "min                            0.0                  0.000000   \n",
       "25%                            1.0                  5.670156   \n",
       "50%                            2.0                  7.008513   \n",
       "75%                            3.0                  8.365637   \n",
       "max                           11.0                 10.000000   \n",
       "\n",
       "       EmailConversionRate  SocialMediaConversionRate  \\\n",
       "count          9477.000000                9506.000000   \n",
       "mean              0.198026                   0.198721   \n",
       "std               0.120243                   0.119426   \n",
       "min               0.000885                   0.001554   \n",
       "25%               0.106547                   0.106324   \n",
       "50%               0.176639                   0.178118   \n",
       "75%               0.268938                   0.271487   \n",
       "max               0.783003                   0.824266   \n",
       "\n",
       "       SearchEngineConversionRate  \n",
       "count                 9495.000000  \n",
       "mean                     0.199427  \n",
       "std                      0.120992  \n",
       "min                      0.002951  \n",
       "25%                      0.106656  \n",
       "50%                      0.177495  \n",
       "75%                      0.273069  \n",
       "max                      0.784076  "
      ]
     },
     "execution_count": 51,
     "metadata": {},
     "output_type": "execute_result"
    }
   ],
   "source": [
    "df.describe()"
   ]
  },
  {
   "cell_type": "markdown",
   "id": "177dd451-e33c-4e2b-98cf-5f22299692ec",
   "metadata": {},
   "source": [
    "## Number of NULL columns for quantitative fields"
   ]
  },
  {
   "cell_type": "code",
   "execution_count": 52,
   "id": "5a922b76-8e9e-4eef-8f77-6377bf477125",
   "metadata": {},
   "outputs": [
    {
     "data": {
      "text/plain": [
       "Age                            515\n",
       "TotalPurchases                 530\n",
       "AverageOrderValue              519\n",
       "CustomerLifetimeValue          493\n",
       "EmailEngagementRate            476\n",
       "SocialMediaEngagementRate      528\n",
       "CustomerServiceInteractions    518\n",
       "AverageSatisfactionScore       496\n",
       "EmailConversionRate            523\n",
       "SocialMediaConversionRate      494\n",
       "SearchEngineConversionRate     505\n",
       "dtype: int64"
      ]
     },
     "execution_count": 52,
     "metadata": {},
     "output_type": "execute_result"
    }
   ],
   "source": [
    "df[quantitative_columns].isna().sum()"
   ]
  },
  {
   "cell_type": "markdown",
   "id": "a0c5f18d-cff1-45f0-a0c8-4e92e38b977d",
   "metadata": {},
   "source": [
    "## Bar charts to understand distribution"
   ]
  },
  {
   "cell_type": "code",
   "execution_count": 53,
   "id": "cf3eb3b5-4caf-492a-831f-1b48cdfc3e88",
   "metadata": {},
   "outputs": [],
   "source": [
    "def draw_barchart(df, column_name):\n",
    "    print(column_name)\n",
    "    category_counts = df.value_counts(column_name, dropna = False)\n",
    "    plt.bar(category_counts.index.astype(str), category_counts.values)\n",
    "    plt.xticks(rotation = 90)\n",
    "    plt.grid(axis = 'y')\n",
    "    plt.show()"
   ]
  },
  {
   "cell_type": "code",
   "execution_count": 54,
   "id": "5527d3ce-1fcd-4e32-a3bc-11050eb05794",
   "metadata": {},
   "outputs": [
    {
     "name": "stdout",
     "output_type": "stream",
     "text": [
      "Gender\n"
     ]
    },
    {
     "data": {
      "image/png": "[encoded data removed]",
      "text/plain": [
       "<Figure size 640x480 with 1 Axes>"
      ]
     },
     "metadata": {},
     "output_type": "display_data"
    },
    {
     "name": "stdout",
     "output_type": "stream",
     "text": [
      "IncomeLevel\n"
     ]
    },
    {
     "data": {
      "image/png": "[encoded data removed]",
      "text/plain": [
       "<Figure size 640x480 with 1 Axes>"
      ]
     },
     "metadata": {},
     "output_type": "display_data"
    },
    {
     "name": "stdout",
     "output_type": "stream",
     "text": [
      "Country\n"
     ]
    },
    {
     "data": {
      "image/png": "[encoded data removed]",
      "text/plain": [
       "<Figure size 640x480 with 1 Axes>"
      ]
     },
     "metadata": {},
     "output_type": "display_data"
    },
    {
     "name": "stdout",
     "output_type": "stream",
     "text": [
      "City\n"
     ]
    },
    {
     "data": {
      "image/png": "[encoded data removed]",
      "text/plain": [
       "<Figure size 640x480 with 1 Axes>"
      ]
     },
     "metadata": {},
     "output_type": "display_data"
    },
    {
     "name": "stdout",
     "output_type": "stream",
     "text": [
      "FavoriteCategory\n"
     ]
    },
    {
     "data": {
      "image/png": "[encoded data removed]",
      "text/plain": [
       "<Figure size 640x480 with 1 Axes>"
      ]
     },
     "metadata": {},
     "output_type": "display_data"
    },
    {
     "name": "stdout",
     "output_type": "stream",
     "text": [
      "SecondFavoriteCategory\n"
     ]
    },
    {
     "data": {
      "image/png": "[encoded data removed]",
      "text/plain": [
       "<Figure size 640x480 with 1 Axes>"
      ]
     },
     "metadata": {},
     "output_type": "display_data"
    },
    {
     "name": "stdout",
     "output_type": "stream",
     "text": [
      "MobileAppUsage\n"
     ]
    },
    {
     "data": {
      "image/png": "[encoded data removed]",
      "text/plain": [
       "<Figure size 640x480 with 1 Axes>"
      ]
     },
     "metadata": {},
     "output_type": "display_data"
    },
    {
     "name": "stdout",
     "output_type": "stream",
     "text": [
      "RepeatCustomer\n"
     ]
    },
    {
     "data": {
      "image/png": "[encoded data removed]",
      "text/plain": [
       "<Figure size 640x480 with 1 Axes>"
      ]
     },
     "metadata": {},
     "output_type": "display_data"
    },
    {
     "name": "stdout",
     "output_type": "stream",
     "text": [
      "PremiumMember\n"
     ]
    },
    {
     "data": {
      "image/png": "[encoded data removed]",
      "text/plain": [
       "<Figure size 640x480 with 1 Axes>"
      ]
     },
     "metadata": {},
     "output_type": "display_data"
    },
    {
     "name": "stdout",
     "output_type": "stream",
     "text": [
      "HasReturnedItems\n"
     ]
    },
    {
     "data": {
      "image/png": "[encoded data removed]",
      "text/plain": [
       "<Figure size 640x480 with 1 Axes>"
      ]
     },
     "metadata": {},
     "output_type": "display_data"
    },
    {
     "data": {
      "text/plain": [
       "[None, None, None, None, None, None, None, None, None, None]"
      ]
     },
     "execution_count": 54,
     "metadata": {},
     "output_type": "execute_result"
    }
   ],
   "source": [
    "list(map(lambda x: draw_barchart(df, x), [x for x in list(categorical_columns) if x not in ['CustomerID', 'RegistrationDate']]))"
   ]
  },
  {
   "cell_type": "markdown",
   "id": "1e9d0bdd-abbd-4131-8679-95527a90e907",
   "metadata": {},
   "source": [
    "## Histograms to understand distribution"
   ]
  },
  {
   "cell_type": "code",
   "execution_count": 55,
   "id": "de733c06-8471-4d58-8068-f0fc9e22d820",
   "metadata": {},
   "outputs": [],
   "source": [
    "def draw_hist(df, column_name):\n",
    "    print(column_name)\n",
    "    plt.hist(df[column_name], bins = 100)\n",
    "    plt.xticks(rotation = 90)\n",
    "    plt.grid(axis = 'y')\n",
    "    plt.show()"
   ]
  },
  {
   "cell_type": "code",
   "execution_count": 56,
   "id": "c157ab18-1937-47c9-b274-87e6029acdc1",
   "metadata": {},
   "outputs": [
    {
     "name": "stdout",
     "output_type": "stream",
     "text": [
      "Age\n"
     ]
    },
    {
     "data": {
      "image/png": "[encoded data removed]",
      "text/plain": [
       "<Figure size 640x480 with 1 Axes>"
      ]
     },
     "metadata": {},
     "output_type": "display_data"
    },
    {
     "name": "stdout",
     "output_type": "stream",
     "text": [
      "TotalPurchases\n"
     ]
    },
    {
     "data": {
      "image/png": "[encoded data removed]",
      "text/plain": [
       "<Figure size 640x480 with 1 Axes>"
      ]
     },
     "metadata": {},
     "output_type": "display_data"
    },
    {
     "name": "stdout",
     "output_type": "stream",
     "text": [
      "AverageOrderValue\n"
     ]
    },
    {
     "data": {
      "image/png": "[encoded data removed]",
      "text/plain": [
       "<Figure size 640x480 with 1 Axes>"
      ]
     },
     "metadata": {},
     "output_type": "display_data"
    },
    {
     "name": "stdout",
     "output_type": "stream",
     "text": [
      "CustomerLifetimeValue\n"
     ]
    },
    {
     "data": {
      "image/png": "[encoded data removed]",
      "text/plain": [
       "<Figure size 640x480 with 1 Axes>"
      ]
     },
     "metadata": {},
     "output_type": "display_data"
    },
    {
     "name": "stdout",
     "output_type": "stream",
     "text": [
      "EmailEngagementRate\n"
     ]
    },
    {
     "data": {
      "image/png": "[encoded data removed]",
      "text/plain": [
       "<Figure size 640x480 with 1 Axes>"
      ]
     },
     "metadata": {},
     "output_type": "display_data"
    },
    {
     "name": "stdout",
     "output_type": "stream",
     "text": [
      "SocialMediaEngagementRate\n"
     ]
    },
    {
     "data": {
      "image/png": "[encoded data removed]",
      "text/plain": [
       "<Figure size 640x480 with 1 Axes>"
      ]
     },
     "metadata": {},
     "output_type": "display_data"
    },
    {
     "name": "stdout",
     "output_type": "stream",
     "text": [
      "CustomerServiceInteractions\n"
     ]
    },
    {
     "data": {
      "image/png": "[encoded data removed]",
      "text/plain": [
       "<Figure size 640x480 with 1 Axes>"
      ]
     },
     "metadata": {},
     "output_type": "display_data"
    },
    {
     "name": "stdout",
     "output_type": "stream",
     "text": [
      "AverageSatisfactionScore\n"
     ]
    },
    {
     "data": {
      "image/png": "[encoded data removed]",
      "text/plain": [
       "<Figure size 640x480 with 1 Axes>"
      ]
     },
     "metadata": {},
     "output_type": "display_data"
    },
    {
     "name": "stdout",
     "output_type": "stream",
     "text": [
      "EmailConversionRate\n"
     ]
    },
    {
     "data": {
      "image/png": "[encoded data removed]",
      "text/plain": [
       "<Figure size 640x480 with 1 Axes>"
      ]
     },
     "metadata": {},
     "output_type": "display_data"
    },
    {
     "name": "stdout",
     "output_type": "stream",
     "text": [
      "SocialMediaConversionRate\n"
     ]
    },
    {
     "data": {
      "image/png": "[encoded data removed]",
      "text/plain": [
       "<Figure size 640x480 with 1 Axes>"
      ]
     },
     "metadata": {},
     "output_type": "display_data"
    },
    {
     "name": "stdout",
     "output_type": "stream",
     "text": [
      "SearchEngineConversionRate\n"
     ]
    },
    {
     "data": {
      "image/png": "[encoded data removed]",
      "text/plain": [
       "<Figure size 640x480 with 1 Axes>"
      ]
     },
     "metadata": {},
     "output_type": "display_data"
    },
    {
     "data": {
      "text/plain": [
       "[None, None, None, None, None, None, None, None, None, None, None]"
      ]
     },
     "execution_count": 56,
     "metadata": {},
     "output_type": "execute_result"
    }
   ],
   "source": [
    "list(map(lambda x: draw_hist(df, x), quantitative_columns))"
   ]
  },
  {
   "cell_type": "markdown",
   "id": "2e508732-9c5f-4790-817d-7cc81bf80990",
   "metadata": {},
   "source": [
    "## Boxplots to understand outliers"
   ]
  },
  {
   "cell_type": "code",
   "execution_count": 57,
   "id": "57d81d3f-d53f-4f2b-8fc5-ae5e8e9e37e1",
   "metadata": {},
   "outputs": [],
   "source": [
    "def draw_boxplot(df, column_name):\n",
    "    print(column_name)\n",
    "    q1 = df[column_name].quantile(0.25)\n",
    "    q3 = df[column_name].quantile(0.75)\n",
    "    iqr = q3 - q1\n",
    "\n",
    "    lower_bound = q1 - 1.5 * iqr\n",
    "    upper_bound = q3 + 1.5 * iqr\n",
    "    median = df[column_name].median()\n",
    "    \n",
    "    fig, ax = plt.subplots(figsize=(5, 4))\n",
    "    df[column_name].plot.box(\n",
    "        ax = ax,\n",
    "        medianprops = {'color': 'firebrick', 'linewidth': 2}\n",
    "    )\n",
    "    ymin, ymax = ax.get_ylim()\n",
    "\n",
    "    ax.tick_params(axis='y', labelsize=8)\n",
    "    plt.grid(axis = 'y')\n",
    "\n",
    "    if ymax <= 1.0:\n",
    "        ax.yaxis.set_major_formatter(mtick.FuncFormatter(lambda x, _: f\"{x:7.2f}\"))\n",
    "    else:\n",
    "        ax.yaxis.set_major_formatter(mtick.FuncFormatter(lambda x, _: f\"{int(x):9d}\"))\n",
    "\n",
    "    plt.show()"
   ]
  },
  {
   "cell_type": "code",
   "execution_count": 58,
   "id": "74d01a8a-99b3-4d29-87d5-148b62b7f48b",
   "metadata": {},
   "outputs": [
    {
     "name": "stdout",
     "output_type": "stream",
     "text": [
      "Age\n"
     ]
    },
    {
     "data": {
      "image/png": "[encoded data removed]",
      "text/plain": [
       "<Figure size 500x400 with 1 Axes>"
      ]
     },
     "metadata": {},
     "output_type": "display_data"
    },
    {
     "name": "stdout",
     "output_type": "stream",
     "text": [
      "TotalPurchases\n"
     ]
    },
    {
     "data": {
      "image/png": "[encoded data removed]",
      "text/plain": [
       "<Figure size 500x400 with 1 Axes>"
      ]
     },
     "metadata": {},
     "output_type": "display_data"
    },
    {
     "name": "stdout",
     "output_type": "stream",
     "text": [
      "AverageOrderValue\n"
     ]
    },
    {
     "data": {
      "image/png": "[encoded data removed]",
      "text/plain": [
       "<Figure size 500x400 with 1 Axes>"
      ]
     },
     "metadata": {},
     "output_type": "display_data"
    },
    {
     "name": "stdout",
     "output_type": "stream",
     "text": [
      "CustomerLifetimeValue\n"
     ]
    },
    {
     "data": {
      "image/png": "[encoded data removed]",
      "text/plain": [
       "<Figure size 500x400 with 1 Axes>"
      ]
     },
     "metadata": {},
     "output_type": "display_data"
    },
    {
     "name": "stdout",
     "output_type": "stream",
     "text": [
      "EmailEngagementRate\n"
     ]
    },
    {
     "data": {
      "image/png": "[encoded data removed]",
      "text/plain": [
       "<Figure size 500x400 with 1 Axes>"
      ]
     },
     "metadata": {},
     "output_type": "display_data"
    },
    {
     "name": "stdout",
     "output_type": "stream",
     "text": [
      "SocialMediaEngagementRate\n"
     ]
    },
    {
     "data": {
      "image/png": "[encoded data removed]",
      "text/plain": [
       "<Figure size 500x400 with 1 Axes>"
      ]
     },
     "metadata": {},
     "output_type": "display_data"
    },
    {
     "name": "stdout",
     "output_type": "stream",
     "text": [
      "CustomerServiceInteractions\n"
     ]
    },
    {
     "data": {
      "image/png": "[encoded data removed]",
      "text/plain": [
       "<Figure size 500x400 with 1 Axes>"
      ]
     },
     "metadata": {},
     "output_type": "display_data"
    },
    {
     "name": "stdout",
     "output_type": "stream",
     "text": [
      "AverageSatisfactionScore\n"
     ]
    },
    {
     "data": {
      "image/png": "[encoded data removed]",
      "text/plain": [
       "<Figure size 500x400 with 1 Axes>"
      ]
     },
     "metadata": {},
     "output_type": "display_data"
    },
    {
     "name": "stdout",
     "output_type": "stream",
     "text": [
      "EmailConversionRate\n"
     ]
    },
    {
     "data": {
      "image/png": "[encoded data removed]",
      "text/plain": [
       "<Figure size 500x400 with 1 Axes>"
      ]
     },
     "metadata": {},
     "output_type": "display_data"
    },
    {
     "name": "stdout",
     "output_type": "stream",
     "text": [
      "SocialMediaConversionRate\n"
     ]
    },
    {
     "data": {
      "image/png": "[encoded data removed]",
      "text/plain": [
       "<Figure size 500x400 with 1 Axes>"
      ]
     },
     "metadata": {},
     "output_type": "display_data"
    },
    {
     "name": "stdout",
     "output_type": "stream",
     "text": [
      "SearchEngineConversionRate\n"
     ]
    },
    {
     "data": {
      "image/png": "[encoded data removed]",
      "text/plain": [
       "<Figure size 500x400 with 1 Axes>"
      ]
     },
     "metadata": {},
     "output_type": "display_data"
    },
    {
     "data": {
      "text/plain": [
       "[None, None, None, None, None, None, None, None, None, None, None]"
      ]
     },
     "execution_count": 58,
     "metadata": {},
     "output_type": "execute_result"
    }
   ],
   "source": [
    "list(map(lambda x: draw_boxplot(df, x), quantitative_columns))"
   ]
  },
  {
   "cell_type": "markdown",
   "id": "7f464fdf-0c79-489a-b3e9-e5f751d7a802",
   "metadata": {},
   "source": [
    "# Descriptions of quantitative columns"
   ]
  },
  {
   "cell_type": "code",
   "execution_count": 59,
   "id": "11eaaf40-7b36-418d-a575-e484c1eb1ffd",
   "metadata": {},
   "outputs": [
    {
     "name": "stdout",
     "output_type": "stream",
     "text": [
      "count       9485.0\n",
      "mean     34.536742\n",
      "std      15.117146\n",
      "min          -25.0\n",
      "25%           24.0\n",
      "50%           35.0\n",
      "75%           45.0\n",
      "max           91.0\n",
      "Name: Age, dtype: Float64\n",
      "\n",
      "count      9470.0\n",
      "mean     5.044773\n",
      "std      3.205844\n",
      "min           0.0\n",
      "25%           3.0\n",
      "50%           5.0\n",
      "75%           7.0\n",
      "max          27.0\n",
      "Name: TotalPurchases, dtype: Float64\n",
      "\n",
      "count     9481.000000\n",
      "mean       189.224562\n",
      "std       1472.277418\n",
      "min          1.235282\n",
      "25%         27.441273\n",
      "50%         54.532801\n",
      "75%        109.260008\n",
      "max      51810.123750\n",
      "Name: AverageOrderValue, dtype: float64\n",
      "\n",
      "count      9507.000000\n",
      "mean        672.919948\n",
      "std        5729.439186\n",
      "min       -9331.077011\n",
      "25%          95.662915\n",
      "50%         248.018238\n",
      "75%         545.787253\n",
      "max      420810.815641\n",
      "Name: CustomerLifetimeValue, dtype: float64\n",
      "\n",
      "count    9524.000000\n",
      "mean        0.282649\n",
      "std         0.157996\n",
      "min         0.002205\n",
      "25%         0.160170\n",
      "50%         0.260164\n",
      "75%         0.384726\n",
      "max         0.890822\n",
      "Name: EmailEngagementRate, dtype: float64\n",
      "\n",
      "count    9472.000000\n",
      "mean        0.286632\n",
      "std         0.159938\n",
      "min         0.002378\n",
      "25%         0.161669\n",
      "50%         0.266130\n",
      "75%         0.389884\n",
      "max         0.847513\n",
      "Name: SocialMediaEngagementRate, dtype: float64\n",
      "\n",
      "count      9482.0\n",
      "mean     2.001793\n",
      "std      1.422949\n",
      "min           0.0\n",
      "25%           1.0\n",
      "50%           2.0\n",
      "75%           3.0\n",
      "max          11.0\n",
      "Name: CustomerServiceInteractions, dtype: Float64\n",
      "\n",
      "count    9504.000000\n",
      "mean        6.955430\n",
      "std         1.894267\n",
      "min         0.000000\n",
      "25%         5.670156\n",
      "50%         7.008513\n",
      "75%         8.365637\n",
      "max        10.000000\n",
      "Name: AverageSatisfactionScore, dtype: float64\n",
      "\n",
      "count    9477.000000\n",
      "mean        0.198026\n",
      "std         0.120243\n",
      "min         0.000885\n",
      "25%         0.106547\n",
      "50%         0.176639\n",
      "75%         0.268938\n",
      "max         0.783003\n",
      "Name: EmailConversionRate, dtype: float64\n",
      "\n",
      "count    9506.000000\n",
      "mean        0.198721\n",
      "std         0.119426\n",
      "min         0.001554\n",
      "25%         0.106324\n",
      "50%         0.178118\n",
      "75%         0.271487\n",
      "max         0.824266\n",
      "Name: SocialMediaConversionRate, dtype: float64\n",
      "\n",
      "count    9495.000000\n",
      "mean        0.199427\n",
      "std         0.120992\n",
      "min         0.002951\n",
      "25%         0.106656\n",
      "50%         0.177495\n",
      "75%         0.273069\n",
      "max         0.784076\n",
      "Name: SearchEngineConversionRate, dtype: float64\n",
      "\n"
     ]
    },
    {
     "data": {
      "text/plain": [
       "[None, None, None, None, None, None, None, None, None, None, None]"
      ]
     },
     "execution_count": 59,
     "metadata": {},
     "output_type": "execute_result"
    }
   ],
   "source": [
    "list(map(lambda x: print(df.reset_index()[x].describe(), end='\\n\\n'), quantitative_columns))"
   ]
  },
  {
   "cell_type": "markdown",
   "id": "479532c6-4dd8-4517-9ab0-8c54f0d7eeaf",
   "metadata": {},
   "source": [
    "# Problem analysis"
   ]
  },
  {
   "cell_type": "markdown",
   "id": "a050a2f5-8f77-4d3c-8625-c7531e4f9225",
   "metadata": {},
   "source": [
    "## CustomerID\n",
    "1. 492 NaNs\n",
    "\n",
    "Resolutions\n",
    "1. Replace with any unique value (actual value doesn't matter)\n"
   ]
  },
  {
   "cell_type": "code",
   "execution_count": 165,
   "id": "45fa5850-9ca2-496a-8253-da259a9418dc",
   "metadata": {},
   "outputs": [
    {
     "data": {
      "text/plain": [
       "CustomerID\n",
       "NaN          492\n",
       "CUST00021      1\n",
       "CUST00019      1\n",
       "CUST00010      1\n",
       "CUST00003      1\n",
       "            ... \n",
       "CUST09994      1\n",
       "CUST09995      1\n",
       "CUST09996      1\n",
       "CUST09997      1\n",
       "CUST10000      1\n",
       "Name: count, Length: 9509, dtype: int64"
      ]
     },
     "execution_count": 165,
     "metadata": {},
     "output_type": "execute_result"
    }
   ],
   "source": [
    "df['CustomerID'].value_counts(dropna = False).sort_values(ascending = False)"
   ]
  },
  {
   "cell_type": "markdown",
   "id": "21f2fcb5-75b1-4196-a310-ab950e774d99",
   "metadata": {},
   "source": [
    "## Gender\n",
    "1. 2612 NaN fields\n",
    "1. 3 instances of \"M\" rather than \"Male\", 1 instance of \"F\" rather than \"Female\"\n",
    "\n",
    "Resolutions\n",
    "1. Replace with `Prefer not to say`\n",
    "2. Replace \"M\" with \"Male\", \"F\" with \"Female\""
   ]
  },
  {
   "cell_type": "code",
   "execution_count": 61,
   "id": "9aabf292-6f8f-4ab1-bf86-f67310c2b081",
   "metadata": {},
   "outputs": [
    {
     "data": {
      "text/plain": [
       "Gender\n",
       "NaN                  2612\n",
       "Other                1901\n",
       "Female               1846\n",
       "Male                 1830\n",
       "Prefer not to say    1807\n",
       "M                       3\n",
       "F                       1\n",
       "Name: count, dtype: int64"
      ]
     },
     "execution_count": 61,
     "metadata": {},
     "output_type": "execute_result"
    }
   ],
   "source": [
    "df['Gender'].value_counts(dropna = False)"
   ]
  },
  {
   "cell_type": "markdown",
   "id": "23836280-5584-491f-b0c3-759571a8faf6",
   "metadata": {},
   "source": [
    "## IncomeLevel\n",
    "1. 2503 NaN Fields\n",
    "1. 1 instance of \"L\" rather than \"Low\", 1 instance of \"H\" rather than \"High\"\n",
    "\n",
    "Resolutions\n",
    "1. ???\n",
    "2. Replace \"L\" with \"Low\", \"H\" with \"High\""
   ]
  },
  {
   "cell_type": "code",
   "execution_count": 62,
   "id": "fcd111f7-8a1f-4673-8a95-c9811b7cb77c",
   "metadata": {},
   "outputs": [
    {
     "data": {
      "text/plain": [
       "IncomeLevel\n",
       "NaN          2503\n",
       "Very High    1964\n",
       "Medium       1918\n",
       "Low          1821\n",
       "High         1792\n",
       "L               1\n",
       "H               1\n",
       "Name: count, dtype: int64"
      ]
     },
     "execution_count": 62,
     "metadata": {},
     "output_type": "execute_result"
    }
   ],
   "source": [
    "df['IncomeLevel'].value_counts(dropna = False)"
   ]
  },
  {
   "cell_type": "markdown",
   "id": "cbeb906e-5787-43ba-865e-44d48866e41f",
   "metadata": {},
   "source": [
    "## Location\n",
    "1. 8186 (82%) don't match to real-world combinations according to https://simplemaps.com/data/world-cities\n",
    "2. 948 are missing BOTH City and Country\n",
    "\n",
    "Resolutions\n",
    "1. It's impossible to tell which value is accurate. Drop both location columns, entirely.\n",
    "2. It's impossible to tell which value is accurate. Drop both location columns, entirely."
   ]
  },
  {
   "cell_type": "code",
   "execution_count": 150,
   "id": "3cc08375-f21b-4bd3-b22c-3db3e7b67172",
   "metadata": {},
   "outputs": [
    {
     "data": {
      "text/html": [
       "<div>\n",
       "<style scoped>\n",
       "    .dataframe tbody tr th:only-of-type {\n",
       "        vertical-align: middle;\n",
       "    }\n",
       "\n",
       "    .dataframe tbody tr th {\n",
       "        vertical-align: top;\n",
       "    }\n",
       "\n",
       "    .dataframe thead th {\n",
       "        text-align: right;\n",
       "    }\n",
       "</style>\n",
       "<table border=\"1\" class=\"dataframe\">\n",
       "  <thead>\n",
       "    <tr style=\"text-align: right;\">\n",
       "      <th></th>\n",
       "      <th>city</th>\n",
       "      <th>city_ascii</th>\n",
       "      <th>lat</th>\n",
       "      <th>lng</th>\n",
       "      <th>country</th>\n",
       "      <th>iso2</th>\n",
       "      <th>iso3</th>\n",
       "      <th>admin_name</th>\n",
       "      <th>capital</th>\n",
       "      <th>population</th>\n",
       "      <th>id</th>\n",
       "    </tr>\n",
       "  </thead>\n",
       "  <tbody>\n",
       "    <tr>\n",
       "      <th>0</th>\n",
       "      <td>Tokyo</td>\n",
       "      <td>Tokyo</td>\n",
       "      <td>35.6870</td>\n",
       "      <td>139.7495</td>\n",
       "      <td>Japan</td>\n",
       "      <td>JP</td>\n",
       "      <td>JPN</td>\n",
       "      <td>Tōkyō</td>\n",
       "      <td>primary</td>\n",
       "      <td>37785000.0</td>\n",
       "      <td>1392685764</td>\n",
       "    </tr>\n",
       "    <tr>\n",
       "      <th>1</th>\n",
       "      <td>Jakarta</td>\n",
       "      <td>Jakarta</td>\n",
       "      <td>-6.1750</td>\n",
       "      <td>106.8275</td>\n",
       "      <td>Indonesia</td>\n",
       "      <td>ID</td>\n",
       "      <td>IDN</td>\n",
       "      <td>Jakarta</td>\n",
       "      <td>primary</td>\n",
       "      <td>33756000.0</td>\n",
       "      <td>1360771077</td>\n",
       "    </tr>\n",
       "    <tr>\n",
       "      <th>2</th>\n",
       "      <td>Delhi</td>\n",
       "      <td>Delhi</td>\n",
       "      <td>28.6100</td>\n",
       "      <td>77.2300</td>\n",
       "      <td>India</td>\n",
       "      <td>IN</td>\n",
       "      <td>IND</td>\n",
       "      <td>Delhi</td>\n",
       "      <td>admin</td>\n",
       "      <td>32226000.0</td>\n",
       "      <td>1356872604</td>\n",
       "    </tr>\n",
       "    <tr>\n",
       "      <th>3</th>\n",
       "      <td>Guangzhou</td>\n",
       "      <td>Guangzhou</td>\n",
       "      <td>23.1300</td>\n",
       "      <td>113.2600</td>\n",
       "      <td>China</td>\n",
       "      <td>CN</td>\n",
       "      <td>CHN</td>\n",
       "      <td>Guangdong</td>\n",
       "      <td>admin</td>\n",
       "      <td>26940000.0</td>\n",
       "      <td>1156237133</td>\n",
       "    </tr>\n",
       "    <tr>\n",
       "      <th>4</th>\n",
       "      <td>Mumbai</td>\n",
       "      <td>Mumbai</td>\n",
       "      <td>19.0761</td>\n",
       "      <td>72.8775</td>\n",
       "      <td>India</td>\n",
       "      <td>IN</td>\n",
       "      <td>IND</td>\n",
       "      <td>Mahārāshtra</td>\n",
       "      <td>admin</td>\n",
       "      <td>24973000.0</td>\n",
       "      <td>1356226629</td>\n",
       "    </tr>\n",
       "    <tr>\n",
       "      <th>...</th>\n",
       "      <td>...</td>\n",
       "      <td>...</td>\n",
       "      <td>...</td>\n",
       "      <td>...</td>\n",
       "      <td>...</td>\n",
       "      <td>...</td>\n",
       "      <td>...</td>\n",
       "      <td>...</td>\n",
       "      <td>...</td>\n",
       "      <td>...</td>\n",
       "      <td>...</td>\n",
       "    </tr>\n",
       "    <tr>\n",
       "      <th>48054</th>\n",
       "      <td>Al Jabīn</td>\n",
       "      <td>Al Jabin</td>\n",
       "      <td>14.7040</td>\n",
       "      <td>43.5990</td>\n",
       "      <td>Yemen</td>\n",
       "      <td>YE</td>\n",
       "      <td>YEM</td>\n",
       "      <td>Raymah</td>\n",
       "      <td>admin</td>\n",
       "      <td>NaN</td>\n",
       "      <td>1887910100</td>\n",
       "    </tr>\n",
       "    <tr>\n",
       "      <th>48055</th>\n",
       "      <td>Nelspruit</td>\n",
       "      <td>Nelspruit</td>\n",
       "      <td>-25.4745</td>\n",
       "      <td>30.9703</td>\n",
       "      <td>South Africa</td>\n",
       "      <td>ZA</td>\n",
       "      <td>ZAF</td>\n",
       "      <td>Mpumalanga</td>\n",
       "      <td>admin</td>\n",
       "      <td>NaN</td>\n",
       "      <td>1710114438</td>\n",
       "    </tr>\n",
       "    <tr>\n",
       "      <th>48056</th>\n",
       "      <td>Gqeberha</td>\n",
       "      <td>Gqeberha</td>\n",
       "      <td>-33.9681</td>\n",
       "      <td>25.5981</td>\n",
       "      <td>South Africa</td>\n",
       "      <td>ZA</td>\n",
       "      <td>ZAF</td>\n",
       "      <td>Eastern Cape</td>\n",
       "      <td>NaN</td>\n",
       "      <td>NaN</td>\n",
       "      <td>1710000082</td>\n",
       "    </tr>\n",
       "    <tr>\n",
       "      <th>48057</th>\n",
       "      <td>Lupane</td>\n",
       "      <td>Lupane</td>\n",
       "      <td>-18.9315</td>\n",
       "      <td>27.8070</td>\n",
       "      <td>Zimbabwe</td>\n",
       "      <td>ZW</td>\n",
       "      <td>ZWE</td>\n",
       "      <td>Matabeleland North</td>\n",
       "      <td>admin</td>\n",
       "      <td>NaN</td>\n",
       "      <td>1716206606</td>\n",
       "    </tr>\n",
       "    <tr>\n",
       "      <th>48058</th>\n",
       "      <td>Charlotte Amalie</td>\n",
       "      <td>Charlotte Amalie</td>\n",
       "      <td>18.3420</td>\n",
       "      <td>-64.9331</td>\n",
       "      <td>U.S. Virgin Islands</td>\n",
       "      <td>VI</td>\n",
       "      <td>VIR</td>\n",
       "      <td>Virgin Islands</td>\n",
       "      <td>primary</td>\n",
       "      <td>NaN</td>\n",
       "      <td>1850037473</td>\n",
       "    </tr>\n",
       "  </tbody>\n",
       "</table>\n",
       "<p>48059 rows × 11 columns</p>\n",
       "</div>"
      ],
      "text/plain": [
       "                   city        city_ascii      lat       lng  \\\n",
       "0                 Tokyo             Tokyo  35.6870  139.7495   \n",
       "1               Jakarta           Jakarta  -6.1750  106.8275   \n",
       "2                 Delhi             Delhi  28.6100   77.2300   \n",
       "3             Guangzhou         Guangzhou  23.1300  113.2600   \n",
       "4                Mumbai            Mumbai  19.0761   72.8775   \n",
       "...                 ...               ...      ...       ...   \n",
       "48054          Al Jabīn          Al Jabin  14.7040   43.5990   \n",
       "48055         Nelspruit         Nelspruit -25.4745   30.9703   \n",
       "48056          Gqeberha          Gqeberha -33.9681   25.5981   \n",
       "48057            Lupane            Lupane -18.9315   27.8070   \n",
       "48058  Charlotte Amalie  Charlotte Amalie  18.3420  -64.9331   \n",
       "\n",
       "                   country iso2 iso3          admin_name  capital  population  \\\n",
       "0                    Japan   JP  JPN               Tōkyō  primary  37785000.0   \n",
       "1                Indonesia   ID  IDN             Jakarta  primary  33756000.0   \n",
       "2                    India   IN  IND               Delhi    admin  32226000.0   \n",
       "3                    China   CN  CHN           Guangdong    admin  26940000.0   \n",
       "4                    India   IN  IND         Mahārāshtra    admin  24973000.0   \n",
       "...                    ...  ...  ...                 ...      ...         ...   \n",
       "48054                Yemen   YE  YEM              Raymah    admin         NaN   \n",
       "48055         South Africa   ZA  ZAF          Mpumalanga    admin         NaN   \n",
       "48056         South Africa   ZA  ZAF        Eastern Cape      NaN         NaN   \n",
       "48057             Zimbabwe   ZW  ZWE  Matabeleland North    admin         NaN   \n",
       "48058  U.S. Virgin Islands   VI  VIR      Virgin Islands  primary         NaN   \n",
       "\n",
       "               id  \n",
       "0      1392685764  \n",
       "1      1360771077  \n",
       "2      1356872604  \n",
       "3      1156237133  \n",
       "4      1356226629  \n",
       "...           ...  \n",
       "48054  1887910100  \n",
       "48055  1710114438  \n",
       "48056  1710000082  \n",
       "48057  1716206606  \n",
       "48058  1850037473  \n",
       "\n",
       "[48059 rows x 11 columns]"
      ]
     },
     "execution_count": 150,
     "metadata": {},
     "output_type": "execute_result"
    }
   ],
   "source": [
    "df_locations = pd.read_csv('./data/worldcities.csv')\n",
    "df_locations"
   ]
  },
  {
   "cell_type": "code",
   "execution_count": 130,
   "id": "d6e2d025-7945-4d84-9f64-626fae635057",
   "metadata": {},
   "outputs": [
    {
     "data": {
      "text/html": [
       "<div>\n",
       "<style scoped>\n",
       "    .dataframe tbody tr th:only-of-type {\n",
       "        vertical-align: middle;\n",
       "    }\n",
       "\n",
       "    .dataframe tbody tr th {\n",
       "        vertical-align: top;\n",
       "    }\n",
       "\n",
       "    .dataframe thead th {\n",
       "        text-align: right;\n",
       "    }\n",
       "</style>\n",
       "<table border=\"1\" class=\"dataframe\">\n",
       "  <thead>\n",
       "    <tr style=\"text-align: right;\">\n",
       "      <th></th>\n",
       "      <th>CustomerID</th>\n",
       "      <th>RegistrationDate</th>\n",
       "      <th>Age</th>\n",
       "      <th>Gender</th>\n",
       "      <th>IncomeLevel</th>\n",
       "      <th>Country</th>\n",
       "      <th>City</th>\n",
       "      <th>TotalPurchases</th>\n",
       "      <th>AverageOrderValue</th>\n",
       "      <th>CustomerLifetimeValue</th>\n",
       "      <th>...</th>\n",
       "      <th>SocialMediaEngagementRate</th>\n",
       "      <th>MobileAppUsage</th>\n",
       "      <th>CustomerServiceInteractions</th>\n",
       "      <th>AverageSatisfactionScore</th>\n",
       "      <th>EmailConversionRate</th>\n",
       "      <th>SocialMediaConversionRate</th>\n",
       "      <th>SearchEngineConversionRate</th>\n",
       "      <th>RepeatCustomer</th>\n",
       "      <th>PremiumMember</th>\n",
       "      <th>HasReturnedItems</th>\n",
       "    </tr>\n",
       "  </thead>\n",
       "  <tbody>\n",
       "    <tr>\n",
       "      <th>3</th>\n",
       "      <td>CUST00004</td>\n",
       "      <td>2020-12-31</td>\n",
       "      <td>49</td>\n",
       "      <td>Female</td>\n",
       "      <td>High</td>\n",
       "      <td>Australia</td>\n",
       "      <td>Los Angeles</td>\n",
       "      <td>5</td>\n",
       "      <td>14.194263</td>\n",
       "      <td>86.219740</td>\n",
       "      <td>...</td>\n",
       "      <td>0.268428</td>\n",
       "      <td>Never</td>\n",
       "      <td>1</td>\n",
       "      <td>7.829459</td>\n",
       "      <td>0.074097</td>\n",
       "      <td>0.206644</td>\n",
       "      <td>0.281067</td>\n",
       "      <td>Yes</td>\n",
       "      <td>Yes</td>\n",
       "      <td>No</td>\n",
       "    </tr>\n",
       "    <tr>\n",
       "      <th>9</th>\n",
       "      <td>CUST00010</td>\n",
       "      <td>2022-01-22</td>\n",
       "      <td>16</td>\n",
       "      <td>NaN</td>\n",
       "      <td>High</td>\n",
       "      <td>Australia</td>\n",
       "      <td>Los Angeles</td>\n",
       "      <td>5</td>\n",
       "      <td>67.219548</td>\n",
       "      <td>449.882962</td>\n",
       "      <td>...</td>\n",
       "      <td>0.400636</td>\n",
       "      <td>NaN</td>\n",
       "      <td>2</td>\n",
       "      <td>4.202160</td>\n",
       "      <td>0.143863</td>\n",
       "      <td>0.250372</td>\n",
       "      <td>0.108502</td>\n",
       "      <td>Yes</td>\n",
       "      <td>No</td>\n",
       "      <td>No</td>\n",
       "    </tr>\n",
       "    <tr>\n",
       "      <th>30</th>\n",
       "      <td>CUST00031</td>\n",
       "      <td>2022-03-09</td>\n",
       "      <td>43</td>\n",
       "      <td>Male</td>\n",
       "      <td>Medium</td>\n",
       "      <td>Australia</td>\n",
       "      <td>Los Angeles</td>\n",
       "      <td>2</td>\n",
       "      <td>227.631451</td>\n",
       "      <td>464.800624</td>\n",
       "      <td>...</td>\n",
       "      <td>0.087777</td>\n",
       "      <td>High</td>\n",
       "      <td>1</td>\n",
       "      <td>6.059781</td>\n",
       "      <td>0.120061</td>\n",
       "      <td>0.060943</td>\n",
       "      <td>0.180284</td>\n",
       "      <td>Yes</td>\n",
       "      <td>No</td>\n",
       "      <td>No</td>\n",
       "    </tr>\n",
       "    <tr>\n",
       "      <th>81</th>\n",
       "      <td>CUST00082</td>\n",
       "      <td>2023-12-23</td>\n",
       "      <td>21</td>\n",
       "      <td>Male</td>\n",
       "      <td>Low</td>\n",
       "      <td>Australia</td>\n",
       "      <td>Los Angeles</td>\n",
       "      <td>&lt;NA&gt;</td>\n",
       "      <td>222.006195</td>\n",
       "      <td>371.590093</td>\n",
       "      <td>...</td>\n",
       "      <td>0.016863</td>\n",
       "      <td>Never</td>\n",
       "      <td>0</td>\n",
       "      <td>6.430140</td>\n",
       "      <td>0.273932</td>\n",
       "      <td>NaN</td>\n",
       "      <td>0.050427</td>\n",
       "      <td>Yes</td>\n",
       "      <td>No</td>\n",
       "      <td>No</td>\n",
       "    </tr>\n",
       "    <tr>\n",
       "      <th>89</th>\n",
       "      <td>CUST00090</td>\n",
       "      <td>2023-03-11</td>\n",
       "      <td>29</td>\n",
       "      <td>Female</td>\n",
       "      <td>Medium</td>\n",
       "      <td>Australia</td>\n",
       "      <td>Los Angeles</td>\n",
       "      <td>3</td>\n",
       "      <td>2185.233516</td>\n",
       "      <td>6507.967929</td>\n",
       "      <td>...</td>\n",
       "      <td>0.145597</td>\n",
       "      <td>Never</td>\n",
       "      <td>&lt;NA&gt;</td>\n",
       "      <td>3.934341</td>\n",
       "      <td>0.203321</td>\n",
       "      <td>0.214336</td>\n",
       "      <td>0.121651</td>\n",
       "      <td>Yes</td>\n",
       "      <td>No</td>\n",
       "      <td>No</td>\n",
       "    </tr>\n",
       "    <tr>\n",
       "      <th>...</th>\n",
       "      <td>...</td>\n",
       "      <td>...</td>\n",
       "      <td>...</td>\n",
       "      <td>...</td>\n",
       "      <td>...</td>\n",
       "      <td>...</td>\n",
       "      <td>...</td>\n",
       "      <td>...</td>\n",
       "      <td>...</td>\n",
       "      <td>...</td>\n",
       "      <td>...</td>\n",
       "      <td>...</td>\n",
       "      <td>...</td>\n",
       "      <td>...</td>\n",
       "      <td>...</td>\n",
       "      <td>...</td>\n",
       "      <td>...</td>\n",
       "      <td>...</td>\n",
       "      <td>...</td>\n",
       "      <td>...</td>\n",
       "      <td>...</td>\n",
       "    </tr>\n",
       "    <tr>\n",
       "      <th>9700</th>\n",
       "      <td>CUST09701</td>\n",
       "      <td>2020-11-15</td>\n",
       "      <td>9</td>\n",
       "      <td>NaN</td>\n",
       "      <td>Very High</td>\n",
       "      <td>Australia</td>\n",
       "      <td>Los Angeles</td>\n",
       "      <td>2</td>\n",
       "      <td>52.775407</td>\n",
       "      <td>56.062007</td>\n",
       "      <td>...</td>\n",
       "      <td>NaN</td>\n",
       "      <td>NaN</td>\n",
       "      <td>2</td>\n",
       "      <td>7.744611</td>\n",
       "      <td>0.267613</td>\n",
       "      <td>0.364561</td>\n",
       "      <td>0.444825</td>\n",
       "      <td>Yes</td>\n",
       "      <td>Yes</td>\n",
       "      <td>Yes</td>\n",
       "    </tr>\n",
       "    <tr>\n",
       "      <th>9761</th>\n",
       "      <td>CUST09762</td>\n",
       "      <td>2021-03-31</td>\n",
       "      <td>16</td>\n",
       "      <td>Other</td>\n",
       "      <td>Very High</td>\n",
       "      <td>Australia</td>\n",
       "      <td>Los Angeles</td>\n",
       "      <td>3</td>\n",
       "      <td>30.745864</td>\n",
       "      <td>74.729206</td>\n",
       "      <td>...</td>\n",
       "      <td>0.403976</td>\n",
       "      <td>Medium</td>\n",
       "      <td>1</td>\n",
       "      <td>6.176537</td>\n",
       "      <td>0.277432</td>\n",
       "      <td>0.268982</td>\n",
       "      <td>0.108717</td>\n",
       "      <td>Yes</td>\n",
       "      <td>No</td>\n",
       "      <td>No</td>\n",
       "    </tr>\n",
       "    <tr>\n",
       "      <th>9920</th>\n",
       "      <td>CUST09921</td>\n",
       "      <td>2021-02-07</td>\n",
       "      <td>30</td>\n",
       "      <td>NaN</td>\n",
       "      <td>Very High</td>\n",
       "      <td>Australia</td>\n",
       "      <td>Los Angeles</td>\n",
       "      <td>&lt;NA&gt;</td>\n",
       "      <td>66.196827</td>\n",
       "      <td>541.491690</td>\n",
       "      <td>...</td>\n",
       "      <td>0.185233</td>\n",
       "      <td>Medium</td>\n",
       "      <td>1</td>\n",
       "      <td>2.564979</td>\n",
       "      <td>0.184635</td>\n",
       "      <td>0.036085</td>\n",
       "      <td>0.183597</td>\n",
       "      <td>Yes</td>\n",
       "      <td>No</td>\n",
       "      <td>No</td>\n",
       "    </tr>\n",
       "    <tr>\n",
       "      <th>9937</th>\n",
       "      <td>CUST09938</td>\n",
       "      <td>2022-03-10</td>\n",
       "      <td>45</td>\n",
       "      <td>NaN</td>\n",
       "      <td>NaN</td>\n",
       "      <td>Australia</td>\n",
       "      <td>Los Angeles</td>\n",
       "      <td>4</td>\n",
       "      <td>45.413972</td>\n",
       "      <td>111.587790</td>\n",
       "      <td>...</td>\n",
       "      <td>0.144829</td>\n",
       "      <td>Never</td>\n",
       "      <td>1</td>\n",
       "      <td>5.068062</td>\n",
       "      <td>0.197114</td>\n",
       "      <td>0.141458</td>\n",
       "      <td>0.551634</td>\n",
       "      <td>Yes</td>\n",
       "      <td>No</td>\n",
       "      <td>No</td>\n",
       "    </tr>\n",
       "    <tr>\n",
       "      <th>9944</th>\n",
       "      <td>CUST09945</td>\n",
       "      <td>2018-01-16</td>\n",
       "      <td>32</td>\n",
       "      <td>Male</td>\n",
       "      <td>Low</td>\n",
       "      <td>Australia</td>\n",
       "      <td>Los Angeles</td>\n",
       "      <td>0</td>\n",
       "      <td>55.313523</td>\n",
       "      <td>5.165634</td>\n",
       "      <td>...</td>\n",
       "      <td>0.610842</td>\n",
       "      <td>NaN</td>\n",
       "      <td>0</td>\n",
       "      <td>6.738615</td>\n",
       "      <td>0.172205</td>\n",
       "      <td>0.311636</td>\n",
       "      <td>0.302657</td>\n",
       "      <td>No</td>\n",
       "      <td>No</td>\n",
       "      <td>No</td>\n",
       "    </tr>\n",
       "  </tbody>\n",
       "</table>\n",
       "<p>142 rows × 23 columns</p>\n",
       "</div>"
      ],
      "text/plain": [
       "     CustomerID RegistrationDate  Age  Gender IncomeLevel    Country  \\\n",
       "3     CUST00004       2020-12-31   49  Female        High  Australia   \n",
       "9     CUST00010       2022-01-22   16     NaN        High  Australia   \n",
       "30    CUST00031       2022-03-09   43    Male      Medium  Australia   \n",
       "81    CUST00082       2023-12-23   21    Male         Low  Australia   \n",
       "89    CUST00090       2023-03-11   29  Female      Medium  Australia   \n",
       "...         ...              ...  ...     ...         ...        ...   \n",
       "9700  CUST09701       2020-11-15    9     NaN   Very High  Australia   \n",
       "9761  CUST09762       2021-03-31   16   Other   Very High  Australia   \n",
       "9920  CUST09921       2021-02-07   30     NaN   Very High  Australia   \n",
       "9937  CUST09938       2022-03-10   45     NaN         NaN  Australia   \n",
       "9944  CUST09945       2018-01-16   32    Male         Low  Australia   \n",
       "\n",
       "             City  TotalPurchases  AverageOrderValue  CustomerLifetimeValue  \\\n",
       "3     Los Angeles               5          14.194263              86.219740   \n",
       "9     Los Angeles               5          67.219548             449.882962   \n",
       "30    Los Angeles               2         227.631451             464.800624   \n",
       "81    Los Angeles            <NA>         222.006195             371.590093   \n",
       "89    Los Angeles               3        2185.233516            6507.967929   \n",
       "...           ...             ...                ...                    ...   \n",
       "9700  Los Angeles               2          52.775407              56.062007   \n",
       "9761  Los Angeles               3          30.745864              74.729206   \n",
       "9920  Los Angeles            <NA>          66.196827             541.491690   \n",
       "9937  Los Angeles               4          45.413972             111.587790   \n",
       "9944  Los Angeles               0          55.313523               5.165634   \n",
       "\n",
       "      ... SocialMediaEngagementRate MobileAppUsage  \\\n",
       "3     ...                  0.268428          Never   \n",
       "9     ...                  0.400636            NaN   \n",
       "30    ...                  0.087777           High   \n",
       "81    ...                  0.016863          Never   \n",
       "89    ...                  0.145597          Never   \n",
       "...   ...                       ...            ...   \n",
       "9700  ...                       NaN            NaN   \n",
       "9761  ...                  0.403976         Medium   \n",
       "9920  ...                  0.185233         Medium   \n",
       "9937  ...                  0.144829          Never   \n",
       "9944  ...                  0.610842            NaN   \n",
       "\n",
       "      CustomerServiceInteractions  AverageSatisfactionScore  \\\n",
       "3                               1                  7.829459   \n",
       "9                               2                  4.202160   \n",
       "30                              1                  6.059781   \n",
       "81                              0                  6.430140   \n",
       "89                           <NA>                  3.934341   \n",
       "...                           ...                       ...   \n",
       "9700                            2                  7.744611   \n",
       "9761                            1                  6.176537   \n",
       "9920                            1                  2.564979   \n",
       "9937                            1                  5.068062   \n",
       "9944                            0                  6.738615   \n",
       "\n",
       "     EmailConversionRate  SocialMediaConversionRate  \\\n",
       "3               0.074097                   0.206644   \n",
       "9               0.143863                   0.250372   \n",
       "30              0.120061                   0.060943   \n",
       "81              0.273932                        NaN   \n",
       "89              0.203321                   0.214336   \n",
       "...                  ...                        ...   \n",
       "9700            0.267613                   0.364561   \n",
       "9761            0.277432                   0.268982   \n",
       "9920            0.184635                   0.036085   \n",
       "9937            0.197114                   0.141458   \n",
       "9944            0.172205                   0.311636   \n",
       "\n",
       "      SearchEngineConversionRate  RepeatCustomer  PremiumMember  \\\n",
       "3                       0.281067             Yes            Yes   \n",
       "9                       0.108502             Yes             No   \n",
       "30                      0.180284             Yes             No   \n",
       "81                      0.050427             Yes             No   \n",
       "89                      0.121651             Yes             No   \n",
       "...                          ...             ...            ...   \n",
       "9700                    0.444825             Yes            Yes   \n",
       "9761                    0.108717             Yes             No   \n",
       "9920                    0.183597             Yes             No   \n",
       "9937                    0.551634             Yes             No   \n",
       "9944                    0.302657              No             No   \n",
       "\n",
       "      HasReturnedItems  \n",
       "3                   No  \n",
       "9                   No  \n",
       "30                  No  \n",
       "81                  No  \n",
       "89                  No  \n",
       "...                ...  \n",
       "9700               Yes  \n",
       "9761                No  \n",
       "9920                No  \n",
       "9937                No  \n",
       "9944                No  \n",
       "\n",
       "[142 rows x 23 columns]"
      ]
     },
     "execution_count": 130,
     "metadata": {},
     "output_type": "execute_result"
    }
   ],
   "source": [
    "df[(df['Country'] == 'Australia') & (df['City'] == 'Los Angeles')]"
   ]
  },
  {
   "cell_type": "code",
   "execution_count": 160,
   "id": "d5028688-9401-4870-b818-a162c0fe5b22",
   "metadata": {},
   "outputs": [
    {
     "data": {
      "text/plain": [
       "(8186, 0.8186)"
      ]
     },
     "execution_count": 160,
     "metadata": {},
     "output_type": "execute_result"
    }
   ],
   "source": [
    "df_with_location = df[~df['City'].isna() & ~df['Country'].isna()]\n",
    "df_with_location_merged = pd.merge(df_with_location, df_locations, left_on = ['Country', 'City'], right_on = ['country', 'city'], how = 'outer')\n",
    "df_location_problems = df_with_location_merged[df_with_location_merged['admin_name'].isna() & ~df_with_location_merged['Country'].isna()]\n",
    "\n",
    "df_location_problems.to_csv('./data/location_problems.csv')\n",
    "df_location_problems.shape[0], (df_location_problems.shape[0] / df.shape[0]) "
   ]
  },
  {
   "cell_type": "markdown",
   "id": "edd7c319-97b5-4514-b8bc-dfc6beff30ed",
   "metadata": {},
   "source": [
    "### Country\n",
    "* 493 NaN"
   ]
  },
  {
   "cell_type": "code",
   "execution_count": 63,
   "id": "abfb84d2-9c6f-4f8a-964a-ef7e51799d6a",
   "metadata": {},
   "outputs": [
    {
     "data": {
      "text/plain": [
       "Country\n",
       "France       1227\n",
       "Japan        1220\n",
       "USA          1200\n",
       "Australia    1194\n",
       "UK           1177\n",
       "Other        1171\n",
       "Canada       1169\n",
       "Germany      1149\n",
       "NaN           493\n",
       "Name: count, dtype: int64"
      ]
     },
     "execution_count": 63,
     "metadata": {},
     "output_type": "execute_result"
    }
   ],
   "source": [
    "df['Country'].value_counts(dropna = False)"
   ]
  },
  {
   "cell_type": "markdown",
   "id": "690fc0f5-28aa-456f-b51f-0b6180360da9",
   "metadata": {},
   "source": [
    "### City\n",
    "* 493 NaN"
   ]
  },
  {
   "cell_type": "code",
   "execution_count": 64,
   "id": "873c0bf2-0d76-4a48-b835-61a74b8e9832",
   "metadata": {},
   "outputs": [
    {
     "data": {
      "text/plain": [
       "Country\n",
       "France       1227\n",
       "Japan        1220\n",
       "USA          1200\n",
       "Australia    1194\n",
       "UK           1177\n",
       "Other        1171\n",
       "Canada       1169\n",
       "Germany      1149\n",
       "NaN           493\n",
       "Name: count, dtype: int64"
      ]
     },
     "execution_count": 64,
     "metadata": {},
     "output_type": "execute_result"
    }
   ],
   "source": [
    "df['Country'].value_counts(dropna = False)"
   ]
  },
  {
   "cell_type": "markdown",
   "id": "179d23a9-bf74-4a09-b7ba-9ffdfbb7e238",
   "metadata": {},
   "source": [
    "### Both"
   ]
  },
  {
   "cell_type": "code",
   "execution_count": 164,
   "id": "998f59b8-0b91-4043-848d-78964594c1cb",
   "metadata": {},
   "outputs": [
    {
     "data": {
      "text/plain": [
       "(948, 0.0948)"
      ]
     },
     "execution_count": 164,
     "metadata": {},
     "output_type": "execute_result"
    }
   ],
   "source": [
    "missing_city_and_country = df.shape[0] - df_with_location.shape[0]\n",
    "missing_city_and_country, missing_city_and_country / df.shape[0]"
   ]
  },
  {
   "cell_type": "markdown",
   "id": "ed785b0b-db6a-49e0-bdf4-e9760ce20a3b",
   "metadata": {},
   "source": [
    "## Category\n",
    "### FavoriteCategory\n",
    "* 1589 NaN"
   ]
  },
  {
   "cell_type": "code",
   "execution_count": 65,
   "id": "a4e23b7d-8e24-4a33-acfb-74e4fdf8a7b7",
   "metadata": {},
   "outputs": [
    {
     "data": {
      "text/plain": [
       "FavoriteCategory\n",
       "NaN            1589\n",
       "Beauty         1114\n",
       "Sports         1067\n",
       "Electronics    1057\n",
       "Food           1048\n",
       "Clothing       1043\n",
       "Toys           1035\n",
       "Home Goods     1028\n",
       "Books          1019\n",
       "Name: count, dtype: int64"
      ]
     },
     "execution_count": 65,
     "metadata": {},
     "output_type": "execute_result"
    }
   ],
   "source": [
    "df['FavoriteCategory'].value_counts(dropna = False)"
   ]
  },
  {
   "cell_type": "markdown",
   "id": "9a449f71-7828-466a-8fc0-6216bae807ee",
   "metadata": {},
   "source": [
    "## SecondFavoriteCategory\n",
    "* 1550 NaN"
   ]
  },
  {
   "cell_type": "code",
   "execution_count": 66,
   "id": "54d14d06-ed92-4df2-b74d-96ade5b37f21",
   "metadata": {},
   "outputs": [
    {
     "data": {
      "text/plain": [
       "SecondFavoriteCategory\n",
       "NaN            1550\n",
       "Home Goods     1102\n",
       "Electronics    1081\n",
       "Sports         1065\n",
       "Clothing       1060\n",
       "Food           1048\n",
       "Beauty         1044\n",
       "Books          1026\n",
       "Toys           1024\n",
       "Name: count, dtype: int64"
      ]
     },
     "execution_count": 66,
     "metadata": {},
     "output_type": "execute_result"
    }
   ],
   "source": [
    "df['SecondFavoriteCategory'].value_counts(dropna = False)"
   ]
  },
  {
   "cell_type": "markdown",
   "id": "abb26d79-2e65-481d-9f9b-2e4b9efa7b72",
   "metadata": {},
   "source": [
    "### Both\n",
    "1. 874 non-NaN that are the same\n",
    "2. 233 where both are NaN\n",
    "3. 1356 where FavoriteCategory is Nan and SecondFavoriteCategory is not\n",
    "4. 1317 where FavoriteCategory is not Nan and SecondFavoriteCategory is\n",
    "\n",
    "Resolution:\n",
    "1. Drop SecondFavoriteCategory\n",
    "2. Replace with 'Unknown' dummy token\n",
    "3. Set FavoriteCategory to SecondFavoriteCategory\n",
    "4. Drop SecondFavoriteCategory"
   ]
  },
  {
   "cell_type": "code",
   "execution_count": 67,
   "id": "37d9eda6-eaf3-4e05-a984-574febd24532",
   "metadata": {},
   "outputs": [
    {
     "data": {
      "text/plain": [
       "FavoriteCategory\n",
       "Food           125\n",
       "Home Goods     119\n",
       "Sports         115\n",
       "Clothing       108\n",
       "Books          104\n",
       "Toys           104\n",
       "Electronics    103\n",
       "Beauty          96\n",
       "Name: count, dtype: int64"
      ]
     },
     "execution_count": 67,
     "metadata": {},
     "output_type": "execute_result"
    }
   ],
   "source": [
    "df[df['SecondFavoriteCategory'] == df['FavoriteCategory']]['FavoriteCategory'].value_counts(dropna = False)"
   ]
  },
  {
   "cell_type": "code",
   "execution_count": 68,
   "id": "3ef2acfe-7a65-4b85-a0ec-4c58b3aaab4a",
   "metadata": {},
   "outputs": [
    {
     "data": {
      "text/plain": [
       "np.int64(874)"
      ]
     },
     "execution_count": 68,
     "metadata": {},
     "output_type": "execute_result"
    }
   ],
   "source": [
    "df[df['SecondFavoriteCategory'] == df['FavoriteCategory']]['FavoriteCategory'].count()"
   ]
  },
  {
   "cell_type": "code",
   "execution_count": 69,
   "id": "64c38c9e-f660-4872-ba17-6ed923f07a80",
   "metadata": {},
   "outputs": [
    {
     "data": {
      "text/plain": [
       "233"
      ]
     },
     "execution_count": 69,
     "metadata": {},
     "output_type": "execute_result"
    }
   ],
   "source": [
    "df[df['FavoriteCategory'].isna() & df['SecondFavoriteCategory'].isna()].shape[0]"
   ]
  },
  {
   "cell_type": "code",
   "execution_count": 70,
   "id": "e9e04239-cad4-408c-b489-b3f319ff70c1",
   "metadata": {},
   "outputs": [
    {
     "data": {
      "text/plain": [
       "1356"
      ]
     },
     "execution_count": 70,
     "metadata": {},
     "output_type": "execute_result"
    }
   ],
   "source": [
    "df[df['FavoriteCategory'].isna() & (~df['SecondFavoriteCategory'].isna())].shape[0]"
   ]
  },
  {
   "cell_type": "code",
   "execution_count": 71,
   "id": "308c88ae-1370-4525-ae67-9e98ad5046f5",
   "metadata": {},
   "outputs": [
    {
     "data": {
      "text/plain": [
       "1317"
      ]
     },
     "execution_count": 71,
     "metadata": {},
     "output_type": "execute_result"
    }
   ],
   "source": [
    "df[(~df['FavoriteCategory'].isna()) & df['SecondFavoriteCategory'].isna()].shape[0]"
   ]
  },
  {
   "cell_type": "markdown",
   "id": "f823168d-e86a-4cc9-af8c-9462798715e0",
   "metadata": {},
   "source": [
    "## MobileAppUsage\n",
    "* 2457 NaNs\n",
    "\n",
    "Resolution\n",
    "1. Impute with simple classifier (decision tree or logistic regression)?"
   ]
  },
  {
   "cell_type": "code",
   "execution_count": 72,
   "id": "ef6cb092-9e95-400c-92e6-45326d29aedb",
   "metadata": {},
   "outputs": [
    {
     "data": {
      "text/plain": [
       "MobileAppUsage\n",
       "NaN       2457\n",
       "Never     1914\n",
       "Medium    1894\n",
       "Low       1868\n",
       "High      1867\n",
       "Name: count, dtype: int64"
      ]
     },
     "execution_count": 72,
     "metadata": {},
     "output_type": "execute_result"
    }
   ],
   "source": [
    "df['MobileAppUsage'].value_counts(dropna = False)"
   ]
  },
  {
   "cell_type": "markdown",
   "id": "30a4537e-8a08-43fe-9b70-43c13e016571",
   "metadata": {},
   "source": [
    "## RepeatCustomer\n",
    "1. 475 NaNs\n",
    "\n",
    "Resolution\n",
    "1. Impute with simple classifier (decision tree or logistic regression)?"
   ]
  },
  {
   "cell_type": "code",
   "execution_count": 73,
   "id": "87d2c603-f535-4530-8e09-ea0f6d478140",
   "metadata": {},
   "outputs": [
    {
     "data": {
      "text/plain": [
       "RepeatCustomer\n",
       "Yes    8479\n",
       "No     1046\n",
       "NaN     475\n",
       "Name: count, dtype: int64"
      ]
     },
     "execution_count": 73,
     "metadata": {},
     "output_type": "execute_result"
    }
   ],
   "source": [
    "df['RepeatCustomer'].value_counts(dropna = False)"
   ]
  },
  {
   "cell_type": "markdown",
   "id": "e536c5ec-7b94-4c85-9295-24bc5cdd8aac",
   "metadata": {},
   "source": [
    "## PremiumMember\n",
    "1. 494 NaNs\n",
    "\n",
    "Resolutions\n",
    "1. Replace with mode (\"No\")"
   ]
  },
  {
   "cell_type": "code",
   "execution_count": 74,
   "id": "4f1d9bfb-5b43-4687-9e22-d0b9c9da1416",
   "metadata": {},
   "outputs": [
    {
     "data": {
      "text/plain": [
       "PremiumMember\n",
       "No     7632\n",
       "Yes    1874\n",
       "NaN     494\n",
       "Name: count, dtype: int64"
      ]
     },
     "execution_count": 74,
     "metadata": {},
     "output_type": "execute_result"
    }
   ],
   "source": [
    "df['PremiumMember'].value_counts(dropna = False)"
   ]
  },
  {
   "cell_type": "markdown",
   "id": "0cd0acf5-04d5-48ce-875e-15b3bfcf7512",
   "metadata": {},
   "source": [
    "## HasReturnedItems\n",
    "1. 529 NaNs\n",
    "\n",
    "Resolutions\n",
    "1. Replace with mode (\"No\")"
   ]
  },
  {
   "cell_type": "code",
   "execution_count": 75,
   "id": "779a739b-9958-4a4f-95d3-f37ac58c8db1",
   "metadata": {},
   "outputs": [
    {
     "data": {
      "text/plain": [
       "HasReturnedItems\n",
       "No     6637\n",
       "Yes    2834\n",
       "NaN     529\n",
       "Name: count, dtype: int64"
      ]
     },
     "execution_count": 75,
     "metadata": {},
     "output_type": "execute_result"
    }
   ],
   "source": [
    "df['HasReturnedItems'].value_counts(dropna = False)"
   ]
  },
  {
   "cell_type": "markdown",
   "id": "dd2e172a-7dcd-4e55-a73c-885fcd15b584",
   "metadata": {},
   "source": [
    "## Age\n",
    "1. Negative ages\n",
    "2. 515 NaNs\n",
    "3. There are non-negative, but strangley small age values (i.e. 0, 1, 2) that seem unlikely (390 values between 0 and 9 inclusive)\n",
    "\n",
    "Resolutions\n",
    "1. Consider just making positive (more research to make there sure there aren't weird low-magnitude values)\n",
    "2. Substitute with median\n",
    "3. ???"
   ]
  },
  {
   "cell_type": "code",
   "execution_count": 79,
   "id": "b2e96f19-6e55-43b4-a6af-2f3ff2275f7e",
   "metadata": {},
   "outputs": [
    {
     "data": {
      "text/plain": [
       "count       9485.0\n",
       "mean     34.536742\n",
       "std      15.117146\n",
       "min          -25.0\n",
       "25%           24.0\n",
       "50%           35.0\n",
       "75%           45.0\n",
       "max           91.0\n",
       "Name: Age, dtype: Float64"
      ]
     },
     "execution_count": 79,
     "metadata": {},
     "output_type": "execute_result"
    }
   ],
   "source": [
    "df['Age'].describe()"
   ]
  },
  {
   "cell_type": "code",
   "execution_count": 83,
   "id": "9c543624-6826-41be-bc5a-b18d033c01ce",
   "metadata": {},
   "outputs": [
    {
     "data": {
      "text/plain": [
       "515"
      ]
     },
     "execution_count": 83,
     "metadata": {},
     "output_type": "execute_result"
    }
   ],
   "source": [
    "df[df['Age'].isna()].shape[0]"
   ]
  },
  {
   "cell_type": "code",
   "execution_count": 82,
   "id": "d57ff146-5077-491a-909b-03474a2737e7",
   "metadata": {},
   "outputs": [
    {
     "data": {
      "text/plain": [
       "5651     -25\n",
       "5760     -25\n",
       "4219     -21\n",
       "7505     -19\n",
       "3386     -16\n",
       "        ... \n",
       "9945    <NA>\n",
       "9975    <NA>\n",
       "9984    <NA>\n",
       "9989    <NA>\n",
       "9994    <NA>\n",
       "Name: Age, Length: 10000, dtype: Int64"
      ]
     },
     "execution_count": 82,
     "metadata": {},
     "output_type": "execute_result"
    }
   ],
   "source": [
    "df['Age'].sort_values()"
   ]
  },
  {
   "cell_type": "code",
   "execution_count": 90,
   "id": "b94f6914-b581-43b2-accb-b55bd1061253",
   "metadata": {},
   "outputs": [
    {
     "data": {
      "text/html": [
       "<div>\n",
       "<style scoped>\n",
       "    .dataframe tbody tr th:only-of-type {\n",
       "        vertical-align: middle;\n",
       "    }\n",
       "\n",
       "    .dataframe tbody tr th {\n",
       "        vertical-align: top;\n",
       "    }\n",
       "\n",
       "    .dataframe thead th {\n",
       "        text-align: right;\n",
       "    }\n",
       "</style>\n",
       "<table border=\"1\" class=\"dataframe\">\n",
       "  <thead>\n",
       "    <tr style=\"text-align: right;\">\n",
       "      <th></th>\n",
       "      <th>CustomerID</th>\n",
       "      <th>RegistrationDate</th>\n",
       "      <th>Age</th>\n",
       "      <th>Gender</th>\n",
       "      <th>IncomeLevel</th>\n",
       "      <th>Country</th>\n",
       "      <th>City</th>\n",
       "      <th>TotalPurchases</th>\n",
       "      <th>AverageOrderValue</th>\n",
       "      <th>CustomerLifetimeValue</th>\n",
       "      <th>...</th>\n",
       "      <th>SocialMediaEngagementRate</th>\n",
       "      <th>MobileAppUsage</th>\n",
       "      <th>CustomerServiceInteractions</th>\n",
       "      <th>AverageSatisfactionScore</th>\n",
       "      <th>EmailConversionRate</th>\n",
       "      <th>SocialMediaConversionRate</th>\n",
       "      <th>SearchEngineConversionRate</th>\n",
       "      <th>RepeatCustomer</th>\n",
       "      <th>PremiumMember</th>\n",
       "      <th>HasReturnedItems</th>\n",
       "    </tr>\n",
       "  </thead>\n",
       "  <tbody>\n",
       "  </tbody>\n",
       "</table>\n",
       "<p>0 rows × 23 columns</p>\n",
       "</div>"
      ],
      "text/plain": [
       "Empty DataFrame\n",
       "Columns: [CustomerID, RegistrationDate, Age, Gender, IncomeLevel, Country, City, TotalPurchases, AverageOrderValue, CustomerLifetimeValue, FavoriteCategory, SecondFavoriteCategory, EmailEngagementRate, SocialMediaEngagementRate, MobileAppUsage, CustomerServiceInteractions, AverageSatisfactionScore, EmailConversionRate, SocialMediaConversionRate, SearchEngineConversionRate, RepeatCustomer, PremiumMember, HasReturnedItems]\n",
       "Index: []\n",
       "\n",
       "[0 rows x 23 columns]"
      ]
     },
     "execution_count": 90,
     "metadata": {},
     "output_type": "execute_result"
    }
   ],
   "source": [
    "df[df['Age'].apply(lambda x: not x.is_integer()) & ~df['Age'].isna()]"
   ]
  },
  {
   "cell_type": "code",
   "execution_count": 179,
   "id": "135e64aa-58c6-45d5-829a-573c415880c1",
   "metadata": {},
   "outputs": [
    {
     "data": {
      "text/html": [
       "<div>\n",
       "<style scoped>\n",
       "    .dataframe tbody tr th:only-of-type {\n",
       "        vertical-align: middle;\n",
       "    }\n",
       "\n",
       "    .dataframe tbody tr th {\n",
       "        vertical-align: top;\n",
       "    }\n",
       "\n",
       "    .dataframe thead th {\n",
       "        text-align: right;\n",
       "    }\n",
       "</style>\n",
       "<table border=\"1\" class=\"dataframe\">\n",
       "  <thead>\n",
       "    <tr style=\"text-align: right;\">\n",
       "      <th></th>\n",
       "      <th>CustomerID</th>\n",
       "      <th>RegistrationDate</th>\n",
       "      <th>Age</th>\n",
       "      <th>Gender</th>\n",
       "      <th>IncomeLevel</th>\n",
       "      <th>Country</th>\n",
       "      <th>City</th>\n",
       "      <th>TotalPurchases</th>\n",
       "      <th>AverageOrderValue</th>\n",
       "      <th>CustomerLifetimeValue</th>\n",
       "      <th>...</th>\n",
       "      <th>SocialMediaEngagementRate</th>\n",
       "      <th>MobileAppUsage</th>\n",
       "      <th>CustomerServiceInteractions</th>\n",
       "      <th>AverageSatisfactionScore</th>\n",
       "      <th>EmailConversionRate</th>\n",
       "      <th>SocialMediaConversionRate</th>\n",
       "      <th>SearchEngineConversionRate</th>\n",
       "      <th>RepeatCustomer</th>\n",
       "      <th>PremiumMember</th>\n",
       "      <th>HasReturnedItems</th>\n",
       "    </tr>\n",
       "  </thead>\n",
       "  <tbody>\n",
       "    <tr>\n",
       "      <th>5239</th>\n",
       "      <td>CUST05240</td>\n",
       "      <td>2021-01-10</td>\n",
       "      <td>0</td>\n",
       "      <td>Other</td>\n",
       "      <td>High</td>\n",
       "      <td>UK</td>\n",
       "      <td>Berlin</td>\n",
       "      <td>4</td>\n",
       "      <td>135.663961</td>\n",
       "      <td>579.530646</td>\n",
       "      <td>...</td>\n",
       "      <td>0.378556</td>\n",
       "      <td>Low</td>\n",
       "      <td>4</td>\n",
       "      <td>8.862472</td>\n",
       "      <td>0.222452</td>\n",
       "      <td>0.158574</td>\n",
       "      <td>0.175717</td>\n",
       "      <td>Yes</td>\n",
       "      <td>No</td>\n",
       "      <td>No</td>\n",
       "    </tr>\n",
       "    <tr>\n",
       "      <th>5221</th>\n",
       "      <td>CUST05222</td>\n",
       "      <td>2020-06-07</td>\n",
       "      <td>0</td>\n",
       "      <td>Prefer not to say</td>\n",
       "      <td>Very High</td>\n",
       "      <td>USA</td>\n",
       "      <td>London</td>\n",
       "      <td>4</td>\n",
       "      <td>209.989113</td>\n",
       "      <td>684.746645</td>\n",
       "      <td>...</td>\n",
       "      <td>0.459325</td>\n",
       "      <td>Medium</td>\n",
       "      <td>3</td>\n",
       "      <td>7.326605</td>\n",
       "      <td>NaN</td>\n",
       "      <td>0.155130</td>\n",
       "      <td>0.230243</td>\n",
       "      <td>Yes</td>\n",
       "      <td>No</td>\n",
       "      <td>No</td>\n",
       "    </tr>\n",
       "    <tr>\n",
       "      <th>4935</th>\n",
       "      <td>CUST04936</td>\n",
       "      <td>2020-08-30</td>\n",
       "      <td>0</td>\n",
       "      <td>NaN</td>\n",
       "      <td>High</td>\n",
       "      <td>Other</td>\n",
       "      <td>New York</td>\n",
       "      <td>2</td>\n",
       "      <td>70.081028</td>\n",
       "      <td>-25.346034</td>\n",
       "      <td>...</td>\n",
       "      <td>0.181499</td>\n",
       "      <td>Medium</td>\n",
       "      <td>3</td>\n",
       "      <td>5.868758</td>\n",
       "      <td>0.055862</td>\n",
       "      <td>0.146913</td>\n",
       "      <td>0.527909</td>\n",
       "      <td>Yes</td>\n",
       "      <td>No</td>\n",
       "      <td>No</td>\n",
       "    </tr>\n",
       "    <tr>\n",
       "      <th>2854</th>\n",
       "      <td>CUST02855</td>\n",
       "      <td>2020-04-01</td>\n",
       "      <td>0</td>\n",
       "      <td>Prefer not to say</td>\n",
       "      <td>Medium</td>\n",
       "      <td>France</td>\n",
       "      <td>London</td>\n",
       "      <td>1</td>\n",
       "      <td>62.576555</td>\n",
       "      <td>182.195533</td>\n",
       "      <td>...</td>\n",
       "      <td>0.130096</td>\n",
       "      <td>NaN</td>\n",
       "      <td>&lt;NA&gt;</td>\n",
       "      <td>6.082317</td>\n",
       "      <td>NaN</td>\n",
       "      <td>0.131499</td>\n",
       "      <td>0.126759</td>\n",
       "      <td>No</td>\n",
       "      <td>No</td>\n",
       "      <td>No</td>\n",
       "    </tr>\n",
       "    <tr>\n",
       "      <th>3482</th>\n",
       "      <td>CUST03483</td>\n",
       "      <td>2023-03-11</td>\n",
       "      <td>0</td>\n",
       "      <td>Other</td>\n",
       "      <td>Very High</td>\n",
       "      <td>Canada</td>\n",
       "      <td>New York</td>\n",
       "      <td>3</td>\n",
       "      <td>72.809031</td>\n",
       "      <td>214.694578</td>\n",
       "      <td>...</td>\n",
       "      <td>0.529245</td>\n",
       "      <td>Medium</td>\n",
       "      <td>1</td>\n",
       "      <td>8.022734</td>\n",
       "      <td>0.218176</td>\n",
       "      <td>0.120648</td>\n",
       "      <td>0.078825</td>\n",
       "      <td>Yes</td>\n",
       "      <td>No</td>\n",
       "      <td>No</td>\n",
       "    </tr>\n",
       "    <tr>\n",
       "      <th>...</th>\n",
       "      <td>...</td>\n",
       "      <td>...</td>\n",
       "      <td>...</td>\n",
       "      <td>...</td>\n",
       "      <td>...</td>\n",
       "      <td>...</td>\n",
       "      <td>...</td>\n",
       "      <td>...</td>\n",
       "      <td>...</td>\n",
       "      <td>...</td>\n",
       "      <td>...</td>\n",
       "      <td>...</td>\n",
       "      <td>...</td>\n",
       "      <td>...</td>\n",
       "      <td>...</td>\n",
       "      <td>...</td>\n",
       "      <td>...</td>\n",
       "      <td>...</td>\n",
       "      <td>...</td>\n",
       "      <td>...</td>\n",
       "      <td>...</td>\n",
       "    </tr>\n",
       "    <tr>\n",
       "      <th>3864</th>\n",
       "      <td>CUST03865</td>\n",
       "      <td>2021-01-26</td>\n",
       "      <td>9</td>\n",
       "      <td>Other</td>\n",
       "      <td>High</td>\n",
       "      <td>Canada</td>\n",
       "      <td>Sydney</td>\n",
       "      <td>7</td>\n",
       "      <td>83.815382</td>\n",
       "      <td>576.724412</td>\n",
       "      <td>...</td>\n",
       "      <td>0.044224</td>\n",
       "      <td>NaN</td>\n",
       "      <td>5</td>\n",
       "      <td>6.460305</td>\n",
       "      <td>0.067726</td>\n",
       "      <td>0.218574</td>\n",
       "      <td>0.213720</td>\n",
       "      <td>Yes</td>\n",
       "      <td>No</td>\n",
       "      <td>No</td>\n",
       "    </tr>\n",
       "    <tr>\n",
       "      <th>3886</th>\n",
       "      <td>CUST03887</td>\n",
       "      <td>2019-09-06</td>\n",
       "      <td>9</td>\n",
       "      <td>Female</td>\n",
       "      <td>Low</td>\n",
       "      <td>Australia</td>\n",
       "      <td>Tokyo</td>\n",
       "      <td>9</td>\n",
       "      <td>13.147919</td>\n",
       "      <td>145.032659</td>\n",
       "      <td>...</td>\n",
       "      <td>0.158904</td>\n",
       "      <td>Medium</td>\n",
       "      <td>2</td>\n",
       "      <td>7.384271</td>\n",
       "      <td>0.301665</td>\n",
       "      <td>0.027193</td>\n",
       "      <td>0.176967</td>\n",
       "      <td>Yes</td>\n",
       "      <td>No</td>\n",
       "      <td>No</td>\n",
       "    </tr>\n",
       "    <tr>\n",
       "      <th>3997</th>\n",
       "      <td>CUST03998</td>\n",
       "      <td>2019-03-19</td>\n",
       "      <td>9</td>\n",
       "      <td>Female</td>\n",
       "      <td>Medium</td>\n",
       "      <td>Japan</td>\n",
       "      <td>Tokyo</td>\n",
       "      <td>12</td>\n",
       "      <td>68.201688</td>\n",
       "      <td>583.986907</td>\n",
       "      <td>...</td>\n",
       "      <td>0.508036</td>\n",
       "      <td>High</td>\n",
       "      <td>3</td>\n",
       "      <td>5.894552</td>\n",
       "      <td>0.182137</td>\n",
       "      <td>0.152945</td>\n",
       "      <td>0.105996</td>\n",
       "      <td>Yes</td>\n",
       "      <td>No</td>\n",
       "      <td>Yes</td>\n",
       "    </tr>\n",
       "    <tr>\n",
       "      <th>8569</th>\n",
       "      <td>CUST08570</td>\n",
       "      <td>NaN</td>\n",
       "      <td>9</td>\n",
       "      <td>Male</td>\n",
       "      <td>NaN</td>\n",
       "      <td>Germany</td>\n",
       "      <td>Berlin</td>\n",
       "      <td>2</td>\n",
       "      <td>1016.447993</td>\n",
       "      <td>1938.987764</td>\n",
       "      <td>...</td>\n",
       "      <td>NaN</td>\n",
       "      <td>High</td>\n",
       "      <td>0</td>\n",
       "      <td>6.343860</td>\n",
       "      <td>0.208518</td>\n",
       "      <td>0.045469</td>\n",
       "      <td>0.112900</td>\n",
       "      <td>Yes</td>\n",
       "      <td>No</td>\n",
       "      <td>No</td>\n",
       "    </tr>\n",
       "    <tr>\n",
       "      <th>39</th>\n",
       "      <td>CUST00040</td>\n",
       "      <td>2023-11-10</td>\n",
       "      <td>9</td>\n",
       "      <td>NaN</td>\n",
       "      <td>NaN</td>\n",
       "      <td>Japan</td>\n",
       "      <td>Berlin</td>\n",
       "      <td>4</td>\n",
       "      <td>22.237065</td>\n",
       "      <td>163.124739</td>\n",
       "      <td>...</td>\n",
       "      <td>0.214824</td>\n",
       "      <td>NaN</td>\n",
       "      <td>3</td>\n",
       "      <td>6.175587</td>\n",
       "      <td>0.150464</td>\n",
       "      <td>0.447294</td>\n",
       "      <td>0.104772</td>\n",
       "      <td>Yes</td>\n",
       "      <td>No</td>\n",
       "      <td>No</td>\n",
       "    </tr>\n",
       "  </tbody>\n",
       "</table>\n",
       "<p>390 rows × 23 columns</p>\n",
       "</div>"
      ],
      "text/plain": [
       "     CustomerID RegistrationDate  Age             Gender IncomeLevel  \\\n",
       "5239  CUST05240       2021-01-10    0              Other        High   \n",
       "5221  CUST05222       2020-06-07    0  Prefer not to say   Very High   \n",
       "4935  CUST04936       2020-08-30    0                NaN        High   \n",
       "2854  CUST02855       2020-04-01    0  Prefer not to say      Medium   \n",
       "3482  CUST03483       2023-03-11    0              Other   Very High   \n",
       "...         ...              ...  ...                ...         ...   \n",
       "3864  CUST03865       2021-01-26    9              Other        High   \n",
       "3886  CUST03887       2019-09-06    9             Female         Low   \n",
       "3997  CUST03998       2019-03-19    9             Female      Medium   \n",
       "8569  CUST08570              NaN    9               Male         NaN   \n",
       "39    CUST00040       2023-11-10    9                NaN         NaN   \n",
       "\n",
       "        Country      City  TotalPurchases  AverageOrderValue  \\\n",
       "5239         UK    Berlin               4         135.663961   \n",
       "5221        USA    London               4         209.989113   \n",
       "4935      Other  New York               2          70.081028   \n",
       "2854     France    London               1          62.576555   \n",
       "3482     Canada  New York               3          72.809031   \n",
       "...         ...       ...             ...                ...   \n",
       "3864     Canada    Sydney               7          83.815382   \n",
       "3886  Australia     Tokyo               9          13.147919   \n",
       "3997      Japan     Tokyo              12          68.201688   \n",
       "8569    Germany    Berlin               2        1016.447993   \n",
       "39        Japan    Berlin               4          22.237065   \n",
       "\n",
       "      CustomerLifetimeValue  ... SocialMediaEngagementRate MobileAppUsage  \\\n",
       "5239             579.530646  ...                  0.378556            Low   \n",
       "5221             684.746645  ...                  0.459325         Medium   \n",
       "4935             -25.346034  ...                  0.181499         Medium   \n",
       "2854             182.195533  ...                  0.130096            NaN   \n",
       "3482             214.694578  ...                  0.529245         Medium   \n",
       "...                     ...  ...                       ...            ...   \n",
       "3864             576.724412  ...                  0.044224            NaN   \n",
       "3886             145.032659  ...                  0.158904         Medium   \n",
       "3997             583.986907  ...                  0.508036           High   \n",
       "8569            1938.987764  ...                       NaN           High   \n",
       "39               163.124739  ...                  0.214824            NaN   \n",
       "\n",
       "      CustomerServiceInteractions  AverageSatisfactionScore  \\\n",
       "5239                            4                  8.862472   \n",
       "5221                            3                  7.326605   \n",
       "4935                            3                  5.868758   \n",
       "2854                         <NA>                  6.082317   \n",
       "3482                            1                  8.022734   \n",
       "...                           ...                       ...   \n",
       "3864                            5                  6.460305   \n",
       "3886                            2                  7.384271   \n",
       "3997                            3                  5.894552   \n",
       "8569                            0                  6.343860   \n",
       "39                              3                  6.175587   \n",
       "\n",
       "     EmailConversionRate  SocialMediaConversionRate  \\\n",
       "5239            0.222452                   0.158574   \n",
       "5221                 NaN                   0.155130   \n",
       "4935            0.055862                   0.146913   \n",
       "2854                 NaN                   0.131499   \n",
       "3482            0.218176                   0.120648   \n",
       "...                  ...                        ...   \n",
       "3864            0.067726                   0.218574   \n",
       "3886            0.301665                   0.027193   \n",
       "3997            0.182137                   0.152945   \n",
       "8569            0.208518                   0.045469   \n",
       "39              0.150464                   0.447294   \n",
       "\n",
       "      SearchEngineConversionRate  RepeatCustomer  PremiumMember  \\\n",
       "5239                    0.175717             Yes             No   \n",
       "5221                    0.230243             Yes             No   \n",
       "4935                    0.527909             Yes             No   \n",
       "2854                    0.126759              No             No   \n",
       "3482                    0.078825             Yes             No   \n",
       "...                          ...             ...            ...   \n",
       "3864                    0.213720             Yes             No   \n",
       "3886                    0.176967             Yes             No   \n",
       "3997                    0.105996             Yes             No   \n",
       "8569                    0.112900             Yes             No   \n",
       "39                      0.104772             Yes             No   \n",
       "\n",
       "      HasReturnedItems  \n",
       "5239                No  \n",
       "5221                No  \n",
       "4935                No  \n",
       "2854                No  \n",
       "3482                No  \n",
       "...                ...  \n",
       "3864                No  \n",
       "3886                No  \n",
       "3997               Yes  \n",
       "8569                No  \n",
       "39                  No  \n",
       "\n",
       "[390 rows x 23 columns]"
      ]
     },
     "execution_count": 179,
     "metadata": {},
     "output_type": "execute_result"
    }
   ],
   "source": [
    "df[(df['Age'] >= 0) & (df['Age'] < 10)].sort_values(by = 'Age')"
   ]
  },
  {
   "cell_type": "markdown",
   "id": "5a274b61-a3a4-4d0b-95bc-a635ace348e9",
   "metadata": {},
   "source": [
    "## TotalPurchases\n",
    "1. 530 NaNs\n",
    "\n",
    "Resolutions\n",
    "1. Replace with median\n"
   ]
  },
  {
   "cell_type": "code",
   "execution_count": 97,
   "id": "e6473d8b-f655-4477-8507-27e8020e5a59",
   "metadata": {},
   "outputs": [
    {
     "data": {
      "text/plain": [
       "count      9470.0\n",
       "mean     5.044773\n",
       "std      3.205844\n",
       "min           0.0\n",
       "25%           3.0\n",
       "50%           5.0\n",
       "75%           7.0\n",
       "max          27.0\n",
       "Name: TotalPurchases, dtype: Float64"
      ]
     },
     "execution_count": 97,
     "metadata": {},
     "output_type": "execute_result"
    }
   ],
   "source": [
    "df['TotalPurchases'].describe()"
   ]
  },
  {
   "cell_type": "code",
   "execution_count": 98,
   "id": "c65866a4-9298-422d-8c37-80c6653889f6",
   "metadata": {},
   "outputs": [
    {
     "data": {
      "text/plain": [
       "530"
      ]
     },
     "execution_count": 98,
     "metadata": {},
     "output_type": "execute_result"
    }
   ],
   "source": [
    "df[df['TotalPurchases'].isna()].shape[0]"
   ]
  },
  {
   "cell_type": "code",
   "execution_count": 143,
   "id": "2d162f96-22e7-40fd-bb4d-bee1c46a5127",
   "metadata": {},
   "outputs": [
    {
     "data": {
      "text/html": [
       "<div>\n",
       "<style scoped>\n",
       "    .dataframe tbody tr th:only-of-type {\n",
       "        vertical-align: middle;\n",
       "    }\n",
       "\n",
       "    .dataframe tbody tr th {\n",
       "        vertical-align: top;\n",
       "    }\n",
       "\n",
       "    .dataframe thead th {\n",
       "        text-align: right;\n",
       "    }\n",
       "</style>\n",
       "<table border=\"1\" class=\"dataframe\">\n",
       "  <thead>\n",
       "    <tr style=\"text-align: right;\">\n",
       "      <th></th>\n",
       "      <th>CustomerID</th>\n",
       "      <th>RegistrationDate</th>\n",
       "      <th>Age</th>\n",
       "      <th>Gender</th>\n",
       "      <th>IncomeLevel</th>\n",
       "      <th>Country</th>\n",
       "      <th>City</th>\n",
       "      <th>TotalPurchases</th>\n",
       "      <th>AverageOrderValue</th>\n",
       "      <th>CustomerLifetimeValue</th>\n",
       "      <th>...</th>\n",
       "      <th>SocialMediaEngagementRate</th>\n",
       "      <th>MobileAppUsage</th>\n",
       "      <th>CustomerServiceInteractions</th>\n",
       "      <th>AverageSatisfactionScore</th>\n",
       "      <th>EmailConversionRate</th>\n",
       "      <th>SocialMediaConversionRate</th>\n",
       "      <th>SearchEngineConversionRate</th>\n",
       "      <th>RepeatCustomer</th>\n",
       "      <th>PremiumMember</th>\n",
       "      <th>HasReturnedItems</th>\n",
       "    </tr>\n",
       "  </thead>\n",
       "  <tbody>\n",
       "  </tbody>\n",
       "</table>\n",
       "<p>0 rows × 23 columns</p>\n",
       "</div>"
      ],
      "text/plain": [
       "Empty DataFrame\n",
       "Columns: [CustomerID, RegistrationDate, Age, Gender, IncomeLevel, Country, City, TotalPurchases, AverageOrderValue, CustomerLifetimeValue, FavoriteCategory, SecondFavoriteCategory, EmailEngagementRate, SocialMediaEngagementRate, MobileAppUsage, CustomerServiceInteractions, AverageSatisfactionScore, EmailConversionRate, SocialMediaConversionRate, SearchEngineConversionRate, RepeatCustomer, PremiumMember, HasReturnedItems]\n",
       "Index: []\n",
       "\n",
       "[0 rows x 23 columns]"
      ]
     },
     "execution_count": 143,
     "metadata": {},
     "output_type": "execute_result"
    }
   ],
   "source": [
    "df[df['TotalPurchases'].apply(lambda x: not x.is_integer()) & ~df['TotalPurchases'].isna()]"
   ]
  },
  {
   "cell_type": "markdown",
   "id": "1540be00-cff1-4647-83ca-cbf320a81830",
   "metadata": {},
   "source": [
    "## AverageOrderValue\n",
    "1. 519 NaNs\n",
    "2. Extreme right skew\n",
    "\n",
    "Resolutions\n",
    "1. Replace with median\n",
    "2. Eliminate outliers (probably b2b)"
   ]
  },
  {
   "cell_type": "code",
   "execution_count": 102,
   "id": "148f7aad-8381-4480-94dd-4833144976fd",
   "metadata": {},
   "outputs": [
    {
     "data": {
      "text/plain": [
       "count     9481.000000\n",
       "mean       189.224562\n",
       "std       1472.277418\n",
       "min          1.235282\n",
       "25%         27.441273\n",
       "50%         54.532801\n",
       "75%        109.260008\n",
       "max      51810.123750\n",
       "Name: AverageOrderValue, dtype: float64"
      ]
     },
     "execution_count": 102,
     "metadata": {},
     "output_type": "execute_result"
    }
   ],
   "source": [
    "df['AverageOrderValue'].describe()"
   ]
  },
  {
   "cell_type": "code",
   "execution_count": 100,
   "id": "8c4a1cf5-956c-4661-9262-0fa92035f10f",
   "metadata": {},
   "outputs": [
    {
     "data": {
      "text/plain": [
       "519"
      ]
     },
     "execution_count": 100,
     "metadata": {},
     "output_type": "execute_result"
    }
   ],
   "source": [
    "df[df['AverageOrderValue'].isna()].shape[0]"
   ]
  },
  {
   "cell_type": "code",
   "execution_count": 108,
   "id": "734711c1-11c2-452a-b82a-89fdd1697758",
   "metadata": {},
   "outputs": [
    {
     "data": {
      "text/plain": [
       "9971    51810.123750\n",
       "5773    47048.790661\n",
       "2966    44988.780530\n",
       "4448    44951.876286\n",
       "8276    36564.513687\n",
       "            ...     \n",
       "4136     7382.615741\n",
       "93       7275.235558\n",
       "4065     7099.003623\n",
       "8564     6938.678761\n",
       "1329     6917.113314\n",
       "Name: AverageOrderValue, Length: 40, dtype: float64"
      ]
     },
     "execution_count": 108,
     "metadata": {},
     "output_type": "execute_result"
    }
   ],
   "source": [
    "df['AverageOrderValue'].sort_values(ascending=False).head(40)"
   ]
  },
  {
   "cell_type": "code",
   "execution_count": 109,
   "id": "51231cbd-8e6b-4ba5-b05d-c9ffe608a8ed",
   "metadata": {},
   "outputs": [
    {
     "name": "stdout",
     "output_type": "stream",
     "text": [
      "AverageOrderValue\n"
     ]
    },
    {
     "data": {
      "image/png": "[encoded data removed]",
      "text/plain": [
       "<Figure size 500x400 with 1 Axes>"
      ]
     },
     "metadata": {},
     "output_type": "display_data"
    }
   ],
   "source": [
    "draw_boxplot(df, 'AverageOrderValue')"
   ]
  },
  {
   "cell_type": "markdown",
   "id": "d253e22a-5827-4a2a-92b7-89805abb3be9",
   "metadata": {},
   "source": [
    "## CustomerLifetimeValue\n",
    "1. 493 NaNs\n",
    "2. Extreme right skew\n",
    "3. 936 with negative value (9%). Not impossible (if it measures promotions, per instance), but seems unlikely.\n",
    "\n",
    "Resolutions\n",
    "1. Substitute with median\n",
    "2. Elminate outliers (probably b2b or error)\n",
    "3. Investigate further. "
   ]
  },
  {
   "cell_type": "code",
   "execution_count": 141,
   "id": "5a432257-0e10-423d-b05a-86320667aca2",
   "metadata": {},
   "outputs": [
    {
     "data": {
      "text/plain": [
       "count      9507.000000\n",
       "mean        672.919948\n",
       "std        5729.439186\n",
       "min       -9331.077011\n",
       "25%          95.662915\n",
       "50%         248.018238\n",
       "75%         545.787253\n",
       "max      420810.815641\n",
       "Name: CustomerLifetimeValue, dtype: float64"
      ]
     },
     "execution_count": 141,
     "metadata": {},
     "output_type": "execute_result"
    }
   ],
   "source": [
    "df['CustomerLifetimeValue'].describe()"
   ]
  },
  {
   "cell_type": "code",
   "execution_count": 142,
   "id": "e56a5f82-76ac-4161-a722-dee8ecf2e77d",
   "metadata": {},
   "outputs": [
    {
     "data": {
      "text/plain": [
       "493"
      ]
     },
     "execution_count": 142,
     "metadata": {},
     "output_type": "execute_result"
    }
   ],
   "source": [
    "df[df['CustomerLifetimeValue'].isna()].shape[0]"
   ]
  },
  {
   "cell_type": "code",
   "execution_count": 140,
   "id": "472eb59d-6d4a-4165-8905-0f96b1d4f737",
   "metadata": {},
   "outputs": [
    {
     "data": {
      "text/plain": [
       "(936, 0.0936)"
      ]
     },
     "execution_count": 140,
     "metadata": {},
     "output_type": "execute_result"
    }
   ],
   "source": [
    "(df[ < 0].shape[0]), (df[df['CustomerLifetimeValue'] < 0].shape[0]) / df.shape[0]"
   ]
  },
  {
   "cell_type": "code",
   "execution_count": 114,
   "id": "5cf4ac45-199b-4119-9024-b17d43e6d106",
   "metadata": {},
   "outputs": [
    {
     "name": "stdout",
     "output_type": "stream",
     "text": [
      "CustomerLifetimeValue\n"
     ]
    },
    {
     "data": {
      "image/png": "[encoded data removed]",
      "text/plain": [
       "<Figure size 500x400 with 1 Axes>"
      ]
     },
     "metadata": {},
     "output_type": "display_data"
    }
   ],
   "source": [
    "draw_boxplot(df, 'CustomerLifetimeValue')"
   ]
  },
  {
   "cell_type": "markdown",
   "id": "d71a52a4-cd67-41d1-a940-a68369d4f1f2",
   "metadata": {},
   "source": [
    "## EmailEngagementRate\n",
    "1. 476 NaNs\n",
    "\n",
    "Resolution\n",
    "1. Replace with median"
   ]
  },
  {
   "cell_type": "code",
   "execution_count": 116,
   "id": "2532887d-4e06-4f11-a62c-8019844790c7",
   "metadata": {},
   "outputs": [
    {
     "data": {
      "text/plain": [
       "count    9524.000000\n",
       "mean        0.282649\n",
       "std         0.157996\n",
       "min         0.002205\n",
       "25%         0.160170\n",
       "50%         0.260164\n",
       "75%         0.384726\n",
       "max         0.890822\n",
       "Name: EmailEngagementRate, dtype: float64"
      ]
     },
     "execution_count": 116,
     "metadata": {},
     "output_type": "execute_result"
    }
   ],
   "source": [
    "df['EmailEngagementRate'].describe()"
   ]
  },
  {
   "cell_type": "code",
   "execution_count": 117,
   "id": "49ec6e99-0604-4f92-8cc8-ba744f5c4056",
   "metadata": {},
   "outputs": [
    {
     "data": {
      "text/plain": [
       "476"
      ]
     },
     "execution_count": 117,
     "metadata": {},
     "output_type": "execute_result"
    }
   ],
   "source": [
    "df[df['EmailEngagementRate'].isna()].shape[0]"
   ]
  },
  {
   "cell_type": "markdown",
   "id": "57068eb1-ea0d-4dc3-94eb-64558a8c1d4e",
   "metadata": {},
   "source": [
    "## SocialMediaEngagementRate\n",
    "1. 528 NaNs\n",
    "\n",
    "Resolution\n",
    "1. Replace with median"
   ]
  },
  {
   "cell_type": "code",
   "execution_count": 119,
   "id": "e01b01f2-36da-49c5-b4b6-8b475655e10e",
   "metadata": {},
   "outputs": [
    {
     "data": {
      "text/plain": [
       "count    9472.000000\n",
       "mean        0.286632\n",
       "std         0.159938\n",
       "min         0.002378\n",
       "25%         0.161669\n",
       "50%         0.266130\n",
       "75%         0.389884\n",
       "max         0.847513\n",
       "Name: SocialMediaEngagementRate, dtype: float64"
      ]
     },
     "execution_count": 119,
     "metadata": {},
     "output_type": "execute_result"
    }
   ],
   "source": [
    "df['SocialMediaEngagementRate'].describe()"
   ]
  },
  {
   "cell_type": "code",
   "execution_count": 120,
   "id": "d2e7c4ba-38f2-4708-8353-26f879b993da",
   "metadata": {},
   "outputs": [
    {
     "data": {
      "text/plain": [
       "528"
      ]
     },
     "execution_count": 120,
     "metadata": {},
     "output_type": "execute_result"
    }
   ],
   "source": [
    "df[df['SocialMediaEngagementRate'].isna()].shape[0]"
   ]
  },
  {
   "cell_type": "markdown",
   "id": "e17a4084-93fa-4e2d-aea6-82ee0bbe0093",
   "metadata": {},
   "source": [
    "## CustomerServiceInteractions\n",
    "1. 518 NaNs\n",
    "\n",
    "Resolution\n",
    "1. Replace with median"
   ]
  },
  {
   "cell_type": "code",
   "execution_count": 133,
   "id": "815ab27c-c167-4f9c-b034-d17634dacf00",
   "metadata": {},
   "outputs": [
    {
     "data": {
      "text/plain": [
       "count      9482.0\n",
       "mean     2.001793\n",
       "std      1.422949\n",
       "min           0.0\n",
       "25%           1.0\n",
       "50%           2.0\n",
       "75%           3.0\n",
       "max          11.0\n",
       "Name: CustomerServiceInteractions, dtype: Float64"
      ]
     },
     "execution_count": 133,
     "metadata": {},
     "output_type": "execute_result"
    }
   ],
   "source": [
    "df['CustomerServiceInteractions'].describe()"
   ]
  },
  {
   "cell_type": "code",
   "execution_count": 132,
   "id": "7fc10e8b-37cb-4cda-a931-9285d6e08835",
   "metadata": {},
   "outputs": [
    {
     "data": {
      "text/plain": [
       "518"
      ]
     },
     "execution_count": 132,
     "metadata": {},
     "output_type": "execute_result"
    }
   ],
   "source": [
    "df[df['CustomerServiceInteractions'].isna()].shape[0]"
   ]
  },
  {
   "cell_type": "markdown",
   "id": "b7c5dd19-697d-4f7d-a055-874717ca30b8",
   "metadata": {},
   "source": [
    "## AverageSatisfactionScore\n",
    "1. 496 NaNs\n",
    "\n",
    "Resolution\n",
    "1. Replace with median"
   ]
  },
  {
   "cell_type": "code",
   "execution_count": 134,
   "id": "d99ee61f-4ec2-400f-b9c1-fe4ab0932913",
   "metadata": {},
   "outputs": [
    {
     "data": {
      "text/plain": [
       "count    9504.000000\n",
       "mean        6.955430\n",
       "std         1.894267\n",
       "min         0.000000\n",
       "25%         5.670156\n",
       "50%         7.008513\n",
       "75%         8.365637\n",
       "max        10.000000\n",
       "Name: AverageSatisfactionScore, dtype: float64"
      ]
     },
     "execution_count": 134,
     "metadata": {},
     "output_type": "execute_result"
    }
   ],
   "source": [
    "df['AverageSatisfactionScore'].describe()"
   ]
  },
  {
   "cell_type": "code",
   "execution_count": 135,
   "id": "986d1f47-40c1-4de7-bb14-4ee6b91a0662",
   "metadata": {},
   "outputs": [
    {
     "data": {
      "text/plain": [
       "496"
      ]
     },
     "execution_count": 135,
     "metadata": {},
     "output_type": "execute_result"
    }
   ],
   "source": [
    "df[df['AverageSatisfactionScore'].isna()].shape[0]"
   ]
  },
  {
   "cell_type": "markdown",
   "id": "e3c05eca-894f-4d76-afef-df810d022f53",
   "metadata": {},
   "source": [
    "# EmailConversionRate\n",
    "1. 523 NaNs\n",
    "\n",
    "Resolution\n",
    "1. Replace with median"
   ]
  },
  {
   "cell_type": "code",
   "execution_count": 137,
   "id": "bc0c2f1c-2604-492f-a12a-35d51d3784e5",
   "metadata": {},
   "outputs": [
    {
     "data": {
      "text/plain": [
       "count    9477.000000\n",
       "mean        0.198026\n",
       "std         0.120243\n",
       "min         0.000885\n",
       "25%         0.106547\n",
       "50%         0.176639\n",
       "75%         0.268938\n",
       "max         0.783003\n",
       "Name: EmailConversionRate, dtype: float64"
      ]
     },
     "execution_count": 137,
     "metadata": {},
     "output_type": "execute_result"
    }
   ],
   "source": [
    "df['EmailConversionRate'].describe()"
   ]
  },
  {
   "cell_type": "code",
   "execution_count": 138,
   "id": "249c0303-2a93-41df-bebc-bb794922e751",
   "metadata": {},
   "outputs": [
    {
     "data": {
      "text/plain": [
       "523"
      ]
     },
     "execution_count": 138,
     "metadata": {},
     "output_type": "execute_result"
    }
   ],
   "source": [
    "df[df['EmailConversionRate'].isna()].shape[0]"
   ]
  },
  {
   "cell_type": "markdown",
   "id": "c8ddf73a-0dfb-4105-bc5b-9b2af5cd84e1",
   "metadata": {},
   "source": [
    "## SearchEngineConversionRate\n",
    "1. 505 NaNs\n",
    "  \n",
    "Resolution\n",
    "1. Replace with median"
   ]
  },
  {
   "cell_type": "code",
   "execution_count": 121,
   "id": "0a517c32-8c6c-426a-a486-48bfe322631e",
   "metadata": {},
   "outputs": [
    {
     "data": {
      "text/plain": [
       "count    9495.000000\n",
       "mean        0.199427\n",
       "std         0.120992\n",
       "min         0.002951\n",
       "25%         0.106656\n",
       "50%         0.177495\n",
       "75%         0.273069\n",
       "max         0.784076\n",
       "Name: SearchEngineConversionRate, dtype: float64"
      ]
     },
     "execution_count": 121,
     "metadata": {},
     "output_type": "execute_result"
    }
   ],
   "source": [
    "df['SearchEngineConversionRate'].describe()"
   ]
  },
  {
   "cell_type": "code",
   "execution_count": 122,
   "id": "5c14ee3e-6280-412b-a443-fec6cf1a30c5",
   "metadata": {},
   "outputs": [
    {
     "data": {
      "text/plain": [
       "505"
      ]
     },
     "execution_count": 122,
     "metadata": {},
     "output_type": "execute_result"
    }
   ],
   "source": [
    "df[df['SearchEngineConversionRate'].isna()].shape[0]"
   ]
  }
 ],
 "metadata": {
  "kernelspec": {
   "display_name": "Python 3 (ipykernel)",
   "language": "python",
   "name": "python3"
  },
  "language_info": {
   "codemirror_mode": {
    "name": "ipython",
    "version": 3
   },
   "file_extension": ".py",
   "mimetype": "text/x-python",
   "name": "python",
   "nbconvert_exporter": "python",
   "pygments_lexer": "ipython3",
   "version": "3.11.13"
  }
 },
 "nbformat": 4,
 "nbformat_minor": 5
}
